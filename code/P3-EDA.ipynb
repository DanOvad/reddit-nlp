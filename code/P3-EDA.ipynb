{
 "cells": [
  {
   "cell_type": "markdown",
   "metadata": {},
   "source": [
    "# Exploratory Reddit Data Analysis"
   ]
  },
  {
   "cell_type": "markdown",
   "metadata": {},
   "source": [
    "Import relevant packages. \n",
    "- We are going to need the big three: pandas, numpy, matplotlib. \n",
    "- We also will use nltk.corpus to examine stop words.\n",
    "- From Sklearn, we will pull in\n",
    "    - train_test_split, cross_val_score\n",
    "    - Models:\n",
    "        - LogisticRegression\n",
    "        - NaiveBayes\n",
    "        - SVC\n",
    "        - RandomForestClassifier\n",
    "        - BaggingClassifier"
   ]
  },
  {
   "cell_type": "code",
   "execution_count": 1,
   "metadata": {},
   "outputs": [
    {
     "name": "stdout",
     "output_type": "stream",
     "text": [
      "CPU times: user 1.69 s, sys: 613 ms, total: 2.31 s\n",
      "Wall time: 13.6 s\n"
     ]
    }
   ],
   "source": [
    "%%time\n",
    "import pandas as pd\n",
    "import numpy as np\n",
    "import regex as re\n",
    "import matplotlib.pyplot as plt\n",
    "\n",
    "\n",
    "from bs4 import BeautifulSoup\n",
    "\n",
    "from nltk.corpus import stopwords\n",
    "\n",
    "from sklearn.model_selection import train_test_split, GridSearchCV, cross_val_score\n",
    "from sklearn.pipeline import Pipeline\n",
    "from sklearn.feature_extraction.text import CountVectorizer, TfidfVectorizer\n",
    "from sklearn.linear_model import LogisticRegression\n",
    "from sklearn.preprocessing import StandardScaler\n",
    "\n",
    "from sklearn.svm import SVC"
   ]
  },
  {
   "cell_type": "markdown",
   "metadata": {},
   "source": [
    "## Import Data from '_clean.csv_'\n",
    "Here we are bringing in our cleaned dataset coming from P3-cleaning.pynb"
   ]
  },
  {
   "cell_type": "code",
   "execution_count": 2,
   "metadata": {},
   "outputs": [
    {
     "data": {
      "text/html": [
       "<div>\n",
       "<style scoped>\n",
       "    .dataframe tbody tr th:only-of-type {\n",
       "        vertical-align: middle;\n",
       "    }\n",
       "\n",
       "    .dataframe tbody tr th {\n",
       "        vertical-align: top;\n",
       "    }\n",
       "\n",
       "    .dataframe thead th {\n",
       "        text-align: right;\n",
       "    }\n",
       "</style>\n",
       "<table border=\"1\" class=\"dataframe\">\n",
       "  <thead>\n",
       "    <tr style=\"text-align: right;\">\n",
       "      <th></th>\n",
       "      <th>title</th>\n",
       "      <th>selftext</th>\n",
       "      <th>clean_title</th>\n",
       "      <th>selftext_urls</th>\n",
       "      <th>title_urls</th>\n",
       "      <th>clean_selftext</th>\n",
       "      <th>created_utc</th>\n",
       "      <th>num_comments</th>\n",
       "      <th>num_crossposts</th>\n",
       "      <th>score</th>\n",
       "      <th>subreddit</th>\n",
       "      <th>Subreddit_name</th>\n",
       "      <th>merged</th>\n",
       "    </tr>\n",
       "  </thead>\n",
       "  <tbody>\n",
       "    <tr>\n",
       "      <th>0</th>\n",
       "      <td>[D] Hinton responds to Schmidhuber</td>\n",
       "      <td>NaN</td>\n",
       "      <td>hinton responds schmidhuber</td>\n",
       "      <td>NaN</td>\n",
       "      <td>NaN</td>\n",
       "      <td>NaN</td>\n",
       "      <td>1587609168</td>\n",
       "      <td>0</td>\n",
       "      <td>0</td>\n",
       "      <td>1</td>\n",
       "      <td>MachineLearning</td>\n",
       "      <td>0</td>\n",
       "      <td>hinton responds schmidhuber</td>\n",
       "    </tr>\n",
       "    <tr>\n",
       "      <th>1</th>\n",
       "      <td>Hinton responds to Schmidhuber</td>\n",
       "      <td>NaN</td>\n",
       "      <td>hinton responds schmidhuber</td>\n",
       "      <td>NaN</td>\n",
       "      <td>NaN</td>\n",
       "      <td>NaN</td>\n",
       "      <td>1587609111</td>\n",
       "      <td>1</td>\n",
       "      <td>0</td>\n",
       "      <td>1</td>\n",
       "      <td>MachineLearning</td>\n",
       "      <td>0</td>\n",
       "      <td>hinton responds schmidhuber</td>\n",
       "    </tr>\n",
       "  </tbody>\n",
       "</table>\n",
       "</div>"
      ],
      "text/plain": [
       "                                title selftext                  clean_title  \\\n",
       "0  [D] Hinton responds to Schmidhuber      NaN  hinton responds schmidhuber   \n",
       "1      Hinton responds to Schmidhuber      NaN  hinton responds schmidhuber   \n",
       "\n",
       "  selftext_urls title_urls clean_selftext  created_utc  num_comments  \\\n",
       "0           NaN        NaN            NaN   1587609168             0   \n",
       "1           NaN        NaN            NaN   1587609111             1   \n",
       "\n",
       "   num_crossposts  score        subreddit  Subreddit_name  \\\n",
       "0               0      1  MachineLearning               0   \n",
       "1               0      1  MachineLearning               0   \n",
       "\n",
       "                        merged  \n",
       "0  hinton responds schmidhuber  \n",
       "1  hinton responds schmidhuber  "
      ]
     },
     "execution_count": 2,
     "metadata": {},
     "output_type": "execute_result"
    }
   ],
   "source": [
    "# Bring in the clean data\n",
    "df = pd.read_csv('../data/clean.csv')\n",
    "\n",
    "# View a preview\n",
    "df.head(2)"
   ]
  },
  {
   "cell_type": "markdown",
   "metadata": {},
   "source": [
    "### Examine our cleaned data frame"
   ]
  },
  {
   "cell_type": "code",
   "execution_count": 3,
   "metadata": {},
   "outputs": [
    {
     "name": "stdout",
     "output_type": "stream",
     "text": [
      "<class 'pandas.core.frame.DataFrame'>\n",
      "RangeIndex: 39813 entries, 0 to 39812\n",
      "Data columns (total 13 columns):\n",
      " #   Column          Non-Null Count  Dtype \n",
      "---  ------          --------------  ----- \n",
      " 0   title           39813 non-null  object\n",
      " 1   selftext        23811 non-null  object\n",
      " 2   clean_title     39783 non-null  object\n",
      " 3   selftext_urls   8152 non-null   object\n",
      " 4   title_urls      93 non-null     object\n",
      " 5   clean_selftext  23806 non-null  object\n",
      " 6   created_utc     39813 non-null  int64 \n",
      " 7   num_comments    39813 non-null  int64 \n",
      " 8   num_crossposts  39813 non-null  int64 \n",
      " 9   score           39813 non-null  int64 \n",
      " 10  subreddit       39813 non-null  object\n",
      " 11  Subreddit_name  39813 non-null  int64 \n",
      " 12  merged          39793 non-null  object\n",
      "dtypes: int64(5), object(8)\n",
      "memory usage: 3.9+ MB\n"
     ]
    }
   ],
   "source": [
    "# Check our data\n",
    "df.info()"
   ]
  },
  {
   "cell_type": "markdown",
   "metadata": {},
   "source": []
  },
  {
   "cell_type": "code",
   "execution_count": 4,
   "metadata": {},
   "outputs": [
    {
     "data": {
      "text/plain": [
       "title                 0\n",
       "selftext          16002\n",
       "clean_title          30\n",
       "selftext_urls     31661\n",
       "title_urls        39720\n",
       "clean_selftext    16007\n",
       "created_utc           0\n",
       "num_comments          0\n",
       "num_crossposts        0\n",
       "score                 0\n",
       "subreddit             0\n",
       "Subreddit_name        0\n",
       "merged               20\n",
       "dtype: int64"
      ]
     },
     "execution_count": 4,
     "metadata": {},
     "output_type": "execute_result"
    }
   ],
   "source": [
    "df.isnull().sum()"
   ]
  },
  {
   "cell_type": "code",
   "execution_count": 5,
   "metadata": {},
   "outputs": [],
   "source": [
    "# Drop rows with nan titles\n",
    "if df.clean_title.isna().sum() > 0:\n",
    "    df.drop(labels = df[df.clean_title.isna()].index, inplace = True)\n",
    "\n",
    "# Clean merged column and fillna with empty string\n",
    "if df.merged.isna().sum() > 0:\n",
    "    df['merged'].fillna(value=\"\",inplace=True)\n",
    "    \n",
    "if df.selftext.isna().sum() > 0:\n",
    "    df['selftext'].fillna(value=\"\",inplace=True)\n",
    "    \n",
    "if df.clean_selftext.isna().sum() > 0:\n",
    "    df['clean_selftext'].fillna(value=\"\",inplace=True)\n",
    "    \n",
    "if df.selftext_urls.isna().sum() > 0:\n",
    "    df['selftext_urls'].fillna(value=\"\",inplace=True)\n",
    "    \n",
    "if df.title_urls.isna().sum() > 0:\n",
    "    df['title_urls'].fillna(value=\"\",inplace=True)\n"
   ]
  },
  {
   "cell_type": "code",
   "execution_count": 6,
   "metadata": {},
   "outputs": [
    {
     "data": {
      "text/plain": [
       "0"
      ]
     },
     "execution_count": 6,
     "metadata": {},
     "output_type": "execute_result"
    }
   ],
   "source": [
    "df.isnull().sum().sum()"
   ]
  },
  {
   "cell_type": "markdown",
   "metadata": {},
   "source": [
    "## Creating custom stop words"
   ]
  },
  {
   "cell_type": "markdown",
   "metadata": {},
   "source": [
    "Based on examining our data. We see that some words, such as com, www, io, org, edu, https come from being artifacts from extracting URLs. To prevent these from causing interference with our model. We will exclude them as features. \n",
    "\n",
    "Also there are a handful of values that occur at high rates distinguishably different from the other subreddit. To extract these, we ran a t-test, and any values that have a low p-value, and specifically those that have extremely high statistic values, were removed to prevent them from over fitting our model.\n",
    "\n",
    "This practice dramatically improved the variance of our model. Leading to some remarkably consistenet results. "
   ]
  },
  {
   "cell_type": "code",
   "execution_count": 8,
   "metadata": {},
   "outputs": [],
   "source": [
    "# sklearn's stopwords, extracted\n",
    "sklearn_stopwords = list(CountVectorizer(stop_words = 'english').get_stop_words())\n",
    "\n",
    "#Custom created list\n",
    "custom_stopwords = ['good','time','python','tool','source','best',\n",
    "                    'learn','science','machine','deep'\n",
    "                    'data','learning','science', 'www'] # most common words\n",
    "url_stopwords = ['com', 'www','io','org','edu', 'https']\n",
    "\n",
    "# Personalized stopword lists\n",
    "custom_stopwords.extend(sklearn_stopwords)\n",
    "custom_stopwords.extend(url_stopwords)\n",
    "url_stopwords.extend(sklearn_stopwords)"
   ]
  },
  {
   "cell_type": "markdown",
   "metadata": {},
   "source": [
    "## TRYING SOME EDA"
   ]
  },
  {
   "cell_type": "markdown",
   "metadata": {},
   "source": [
    "## Frequency of numerical data"
   ]
  },
  {
   "cell_type": "code",
   "execution_count": 9,
   "metadata": {},
   "outputs": [
    {
     "data": {
      "text/html": [
       "<div>\n",
       "<style scoped>\n",
       "    .dataframe tbody tr th:only-of-type {\n",
       "        vertical-align: middle;\n",
       "    }\n",
       "\n",
       "    .dataframe tbody tr th {\n",
       "        vertical-align: top;\n",
       "    }\n",
       "\n",
       "    .dataframe thead th {\n",
       "        text-align: right;\n",
       "    }\n",
       "</style>\n",
       "<table border=\"1\" class=\"dataframe\">\n",
       "  <thead>\n",
       "    <tr style=\"text-align: right;\">\n",
       "      <th></th>\n",
       "      <th>title</th>\n",
       "      <th>selftext</th>\n",
       "      <th>clean_title</th>\n",
       "      <th>selftext_urls</th>\n",
       "      <th>title_urls</th>\n",
       "      <th>clean_selftext</th>\n",
       "      <th>created_utc</th>\n",
       "      <th>num_comments</th>\n",
       "      <th>num_crossposts</th>\n",
       "      <th>score</th>\n",
       "      <th>subreddit</th>\n",
       "      <th>Subreddit_name</th>\n",
       "      <th>merged</th>\n",
       "    </tr>\n",
       "  </thead>\n",
       "  <tbody>\n",
       "    <tr>\n",
       "      <th>16</th>\n",
       "      <td>[D] Ethics in AI - Jack Clark from OpenAI talk...</td>\n",
       "      <td>[https://podcasts.apple.com/us/podcast/what-is...</td>\n",
       "      <td>ethics ai jack clark openai talks pandemic gpt</td>\n",
       "      <td>podcasts.apple.com</td>\n",
       "      <td></td>\n",
       "      <td>https podcasts apple com us podcast probabilit...</td>\n",
       "      <td>1587590317</td>\n",
       "      <td>0</td>\n",
       "      <td>0</td>\n",
       "      <td>1</td>\n",
       "      <td>MachineLearning</td>\n",
       "      <td>0</td>\n",
       "      <td>ethics ai jack clark openai talks pandemic gpt...</td>\n",
       "    </tr>\n",
       "    <tr>\n",
       "      <th>18</th>\n",
       "      <td>[R] A snapshot of few-shot classification</td>\n",
       "      <td>Video: [https://video.ias.edu/workshop/2020/04...</td>\n",
       "      <td>r snapshot shot classification</td>\n",
       "      <td>video.ias.edu</td>\n",
       "      <td></td>\n",
       "      <td>video https video ias edu workshop richardzeme...</td>\n",
       "      <td>1587587959</td>\n",
       "      <td>0</td>\n",
       "      <td>0</td>\n",
       "      <td>1</td>\n",
       "      <td>MachineLearning</td>\n",
       "      <td>0</td>\n",
       "      <td>r snapshot shot classificationvideo https vide...</td>\n",
       "    </tr>\n",
       "    <tr>\n",
       "      <th>23</th>\n",
       "      <td>[D] IJCAI — PRICAI 2020 | Papers Announced; Re...</td>\n",
       "      <td>The accepted papers have been announced for IJ...</td>\n",
       "      <td>ijcai pricai papers announced record low accep...</td>\n",
       "      <td>medium.com</td>\n",
       "      <td></td>\n",
       "      <td>accepted papers announced ijcai pricai total p...</td>\n",
       "      <td>1587575383</td>\n",
       "      <td>1</td>\n",
       "      <td>0</td>\n",
       "      <td>2</td>\n",
       "      <td>MachineLearning</td>\n",
       "      <td>0</td>\n",
       "      <td>ijcai pricai papers announced record low accep...</td>\n",
       "    </tr>\n",
       "    <tr>\n",
       "      <th>29</th>\n",
       "      <td>[R] Predictive Early Stopping – Is it possible...</td>\n",
       "      <td>Hey r/MachineLearning!  \\nTwo years ago we sta...</td>\n",
       "      <td>r predictive early stopping possible predict m...</td>\n",
       "      <td>comet.ml) www.comet.ml</td>\n",
       "      <td></td>\n",
       "      <td>hey r machinelearning two years ago started wo...</td>\n",
       "      <td>1587566008</td>\n",
       "      <td>8</td>\n",
       "      <td>1</td>\n",
       "      <td>14</td>\n",
       "      <td>MachineLearning</td>\n",
       "      <td>0</td>\n",
       "      <td>r predictive early stopping possible predict m...</td>\n",
       "    </tr>\n",
       "    <tr>\n",
       "      <th>31</th>\n",
       "      <td>[R] DPGN: Distribution Propagation Graph Netwo...</td>\n",
       "      <td>Hi fellows! Our team's recent work *DPGN: Dist...</td>\n",
       "      <td>r dpgn distribution propagation graph network ...</td>\n",
       "      <td>arxiv.org github.com</td>\n",
       "      <td></td>\n",
       "      <td>hi fellows team recent work dpgn distribution ...</td>\n",
       "      <td>1587565653</td>\n",
       "      <td>0</td>\n",
       "      <td>0</td>\n",
       "      <td>1</td>\n",
       "      <td>MachineLearning</td>\n",
       "      <td>0</td>\n",
       "      <td>r dpgn distribution propagation graph network ...</td>\n",
       "    </tr>\n",
       "    <tr>\n",
       "      <th>...</th>\n",
       "      <td>...</td>\n",
       "      <td>...</td>\n",
       "      <td>...</td>\n",
       "      <td>...</td>\n",
       "      <td>...</td>\n",
       "      <td>...</td>\n",
       "      <td>...</td>\n",
       "      <td>...</td>\n",
       "      <td>...</td>\n",
       "      <td>...</td>\n",
       "      <td>...</td>\n",
       "      <td>...</td>\n",
       "      <td>...</td>\n",
       "    </tr>\n",
       "    <tr>\n",
       "      <th>39772</th>\n",
       "      <td>Exposing a Word2vec Model with a RESTful API U...</td>\n",
       "      <td>Hey, all. I was messing around with Jupyter's ...</td>\n",
       "      <td>exposing word vec model restful api using jupy...</td>\n",
       "      <td>tmthyjames.github.io</td>\n",
       "      <td></td>\n",
       "      <td>hey messing around jupyter kernel gateway last...</td>\n",
       "      <td>1528668821</td>\n",
       "      <td>3</td>\n",
       "      <td>2</td>\n",
       "      <td>13</td>\n",
       "      <td>datascience</td>\n",
       "      <td>1</td>\n",
       "      <td>exposing word vec model restful api using jupy...</td>\n",
       "    </tr>\n",
       "    <tr>\n",
       "      <th>39774</th>\n",
       "      <td>In Depth rvest Resources?</td>\n",
       "      <td>I want to get REALLY good at web scraping and ...</td>\n",
       "      <td>depth rvest resources</td>\n",
       "      <td>rpubs.com</td>\n",
       "      <td></td>\n",
       "      <td>want get really good web scraping using api li...</td>\n",
       "      <td>1528666156</td>\n",
       "      <td>6</td>\n",
       "      <td>0</td>\n",
       "      <td>2</td>\n",
       "      <td>datascience</td>\n",
       "      <td>1</td>\n",
       "      <td>depth rvest resourceswant get really good web ...</td>\n",
       "    </tr>\n",
       "    <tr>\n",
       "      <th>39781</th>\n",
       "      <td>What training opportunities would you recommen...</td>\n",
       "      <td>My close friend has an undergrad in Mechanical...</td>\n",
       "      <td>training opportunities would recommend optimal...</td>\n",
       "      <td>csuglobal.edu</td>\n",
       "      <td></td>\n",
       "      <td>close friend undergrad mechanical engineering ...</td>\n",
       "      <td>1528609105</td>\n",
       "      <td>0</td>\n",
       "      <td>0</td>\n",
       "      <td>0</td>\n",
       "      <td>datascience</td>\n",
       "      <td>1</td>\n",
       "      <td>training opportunities would recommend optimal...</td>\n",
       "    </tr>\n",
       "    <tr>\n",
       "      <th>39796</th>\n",
       "      <td>A dataset of basic chemicals and potential all...</td>\n",
       "      <td>A lot of people have food allergy or various k...</td>\n",
       "      <td>dataset basic chemicals potential allergens tr...</td>\n",
       "      <td>world.openfoodfacts.org</td>\n",
       "      <td></td>\n",
       "      <td>lot people food allergy various kind reactions...</td>\n",
       "      <td>1528545033</td>\n",
       "      <td>6</td>\n",
       "      <td>0</td>\n",
       "      <td>8</td>\n",
       "      <td>datascience</td>\n",
       "      <td>1</td>\n",
       "      <td>dataset basic chemicals potential allergens tr...</td>\n",
       "    </tr>\n",
       "    <tr>\n",
       "      <th>39806</th>\n",
       "      <td>New Data Science Medium Publication</td>\n",
       "      <td>Hello everyone \\- \\n\\nI wanted to do a little ...</td>\n",
       "      <td>new data science medium publication</td>\n",
       "      <td>medium.com</td>\n",
       "      <td></td>\n",
       "      <td>hello everyone wanted little bit self promotio...</td>\n",
       "      <td>1528485870</td>\n",
       "      <td>6</td>\n",
       "      <td>0</td>\n",
       "      <td>9</td>\n",
       "      <td>datascience</td>\n",
       "      <td>1</td>\n",
       "      <td>new data science medium publicationhello every...</td>\n",
       "    </tr>\n",
       "  </tbody>\n",
       "</table>\n",
       "<p>8149 rows × 13 columns</p>\n",
       "</div>"
      ],
      "text/plain": [
       "                                                   title  \\\n",
       "16     [D] Ethics in AI - Jack Clark from OpenAI talk...   \n",
       "18             [R] A snapshot of few-shot classification   \n",
       "23     [D] IJCAI — PRICAI 2020 | Papers Announced; Re...   \n",
       "29     [R] Predictive Early Stopping – Is it possible...   \n",
       "31     [R] DPGN: Distribution Propagation Graph Netwo...   \n",
       "...                                                  ...   \n",
       "39772  Exposing a Word2vec Model with a RESTful API U...   \n",
       "39774                          In Depth rvest Resources?   \n",
       "39781  What training opportunities would you recommen...   \n",
       "39796  A dataset of basic chemicals and potential all...   \n",
       "39806                New Data Science Medium Publication   \n",
       "\n",
       "                                                selftext  \\\n",
       "16     [https://podcasts.apple.com/us/podcast/what-is...   \n",
       "18     Video: [https://video.ias.edu/workshop/2020/04...   \n",
       "23     The accepted papers have been announced for IJ...   \n",
       "29     Hey r/MachineLearning!  \\nTwo years ago we sta...   \n",
       "31     Hi fellows! Our team's recent work *DPGN: Dist...   \n",
       "...                                                  ...   \n",
       "39772  Hey, all. I was messing around with Jupyter's ...   \n",
       "39774  I want to get REALLY good at web scraping and ...   \n",
       "39781  My close friend has an undergrad in Mechanical...   \n",
       "39796  A lot of people have food allergy or various k...   \n",
       "39806  Hello everyone \\- \\n\\nI wanted to do a little ...   \n",
       "\n",
       "                                             clean_title  \\\n",
       "16        ethics ai jack clark openai talks pandemic gpt   \n",
       "18                        r snapshot shot classification   \n",
       "23     ijcai pricai papers announced record low accep...   \n",
       "29     r predictive early stopping possible predict m...   \n",
       "31     r dpgn distribution propagation graph network ...   \n",
       "...                                                  ...   \n",
       "39772  exposing word vec model restful api using jupy...   \n",
       "39774                              depth rvest resources   \n",
       "39781  training opportunities would recommend optimal...   \n",
       "39796  dataset basic chemicals potential allergens tr...   \n",
       "39806                new data science medium publication   \n",
       "\n",
       "                 selftext_urls title_urls  \\\n",
       "16          podcasts.apple.com              \n",
       "18               video.ias.edu              \n",
       "23                  medium.com              \n",
       "29      comet.ml) www.comet.ml              \n",
       "31        arxiv.org github.com              \n",
       "...                        ...        ...   \n",
       "39772     tmthyjames.github.io              \n",
       "39774                rpubs.com              \n",
       "39781            csuglobal.edu              \n",
       "39796  world.openfoodfacts.org              \n",
       "39806               medium.com              \n",
       "\n",
       "                                          clean_selftext  created_utc  \\\n",
       "16     https podcasts apple com us podcast probabilit...   1587590317   \n",
       "18     video https video ias edu workshop richardzeme...   1587587959   \n",
       "23     accepted papers announced ijcai pricai total p...   1587575383   \n",
       "29     hey r machinelearning two years ago started wo...   1587566008   \n",
       "31     hi fellows team recent work dpgn distribution ...   1587565653   \n",
       "...                                                  ...          ...   \n",
       "39772  hey messing around jupyter kernel gateway last...   1528668821   \n",
       "39774  want get really good web scraping using api li...   1528666156   \n",
       "39781  close friend undergrad mechanical engineering ...   1528609105   \n",
       "39796  lot people food allergy various kind reactions...   1528545033   \n",
       "39806  hello everyone wanted little bit self promotio...   1528485870   \n",
       "\n",
       "       num_comments  num_crossposts  score        subreddit  Subreddit_name  \\\n",
       "16                0               0      1  MachineLearning               0   \n",
       "18                0               0      1  MachineLearning               0   \n",
       "23                1               0      2  MachineLearning               0   \n",
       "29                8               1     14  MachineLearning               0   \n",
       "31                0               0      1  MachineLearning               0   \n",
       "...             ...             ...    ...              ...             ...   \n",
       "39772             3               2     13      datascience               1   \n",
       "39774             6               0      2      datascience               1   \n",
       "39781             0               0      0      datascience               1   \n",
       "39796             6               0      8      datascience               1   \n",
       "39806             6               0      9      datascience               1   \n",
       "\n",
       "                                                  merged  \n",
       "16     ethics ai jack clark openai talks pandemic gpt...  \n",
       "18     r snapshot shot classificationvideo https vide...  \n",
       "23     ijcai pricai papers announced record low accep...  \n",
       "29     r predictive early stopping possible predict m...  \n",
       "31     r dpgn distribution propagation graph network ...  \n",
       "...                                                  ...  \n",
       "39772  exposing word vec model restful api using jupy...  \n",
       "39774  depth rvest resourceswant get really good web ...  \n",
       "39781  training opportunities would recommend optimal...  \n",
       "39796  dataset basic chemicals potential allergens tr...  \n",
       "39806  new data science medium publicationhello every...  \n",
       "\n",
       "[8149 rows x 13 columns]"
      ]
     },
     "execution_count": 9,
     "metadata": {},
     "output_type": "execute_result"
    }
   ],
   "source": [
    "df[df.selftext_urls != '']"
   ]
  },
  {
   "cell_type": "code",
   "execution_count": 10,
   "metadata": {},
   "outputs": [
    {
     "data": {
      "text/html": [
       "<div>\n",
       "<style scoped>\n",
       "    .dataframe tbody tr th:only-of-type {\n",
       "        vertical-align: middle;\n",
       "    }\n",
       "\n",
       "    .dataframe tbody tr th {\n",
       "        vertical-align: top;\n",
       "    }\n",
       "\n",
       "    .dataframe thead th {\n",
       "        text-align: right;\n",
       "    }\n",
       "</style>\n",
       "<table border=\"1\" class=\"dataframe\">\n",
       "  <thead>\n",
       "    <tr style=\"text-align: right;\">\n",
       "      <th></th>\n",
       "      <th>created_utc</th>\n",
       "      <th>num_comments</th>\n",
       "      <th>num_crossposts</th>\n",
       "      <th>score</th>\n",
       "      <th>Subreddit_name</th>\n",
       "    </tr>\n",
       "    <tr>\n",
       "      <th>subreddit</th>\n",
       "      <th></th>\n",
       "      <th></th>\n",
       "      <th></th>\n",
       "      <th></th>\n",
       "      <th></th>\n",
       "    </tr>\n",
       "  </thead>\n",
       "  <tbody>\n",
       "    <tr>\n",
       "      <th>MachineLearning</th>\n",
       "      <td>1.566778e+09</td>\n",
       "      <td>5.977060</td>\n",
       "      <td>0.001765</td>\n",
       "      <td>9.233286</td>\n",
       "      <td>0.0</td>\n",
       "    </tr>\n",
       "    <tr>\n",
       "      <th>datascience</th>\n",
       "      <td>1.558785e+09</td>\n",
       "      <td>7.715073</td>\n",
       "      <td>0.003609</td>\n",
       "      <td>7.990526</td>\n",
       "      <td>1.0</td>\n",
       "    </tr>\n",
       "  </tbody>\n",
       "</table>\n",
       "</div>"
      ],
      "text/plain": [
       "                  created_utc  num_comments  num_crossposts     score  \\\n",
       "subreddit                                                               \n",
       "MachineLearning  1.566778e+09      5.977060        0.001765  9.233286   \n",
       "datascience      1.558785e+09      7.715073        0.003609  7.990526   \n",
       "\n",
       "                 Subreddit_name  \n",
       "subreddit                        \n",
       "MachineLearning             0.0  \n",
       "datascience                 1.0  "
      ]
     },
     "execution_count": 10,
     "metadata": {},
     "output_type": "execute_result"
    }
   ],
   "source": [
    "df.groupby(by = 'subreddit').mean()"
   ]
  },
  {
   "cell_type": "code",
   "execution_count": 12,
   "metadata": {},
   "outputs": [],
   "source": [
    "list_of_words = [len(element) for element in df['title']]"
   ]
  },
  {
   "cell_type": "markdown",
   "metadata": {},
   "source": [
    "Here we will create a count vectorizer to conduct some EDA"
   ]
  },
  {
   "cell_type": "markdown",
   "metadata": {},
   "source": [
    "## Count Vectorize our data for _title, selftext, and urls_"
   ]
  },
  {
   "cell_type": "code",
   "execution_count": 13,
   "metadata": {},
   "outputs": [],
   "source": [
    "#Instantiate Merged Cvec\n",
    "merged_cvec = CountVectorizer(stop_words = custom_stopwords, min_df=4, max_df = .6)\n",
    "\n",
    "#Instantiate title Cvec\n",
    "title_cvec = CountVectorizer(stop_words = custom_stopwords, min_df=4, max_df = .9)\n",
    "\n",
    "#Instantiate self_text Cvec\n",
    "selftext_cvec = CountVectorizer(stop_words = custom_stopwords, min_df=4, max_df = .9)\n",
    "\n",
    "#Instantiate urls Cvec\n",
    "t_urls_cvec = CountVectorizer(stop_words = url_stopwords, min_df=4)\n",
    "\n",
    "#Instantiate urls Cvec\n",
    "st_urls_cvec = CountVectorizer(stop_words = url_stopwords, min_df=4)\n",
    "\n",
    "# Fit & Transform merged Cvec\n",
    "merged_term_matrix = merged_cvec.fit_transform(df['merged'])\n",
    "\n",
    "# Fit & Transform title Cvec\n",
    "title_term_matrix = title_cvec.fit_transform(df['clean_title'])\n",
    "\n",
    "# Fit & Transform self_text Cvec\n",
    "selftext_term_matrix = selftext_cvec.fit_transform(df['clean_selftext'])\n",
    "\n",
    "# Fit & Transform urls Cvec\n",
    "title_urls_term_matrix = t_urls_cvec.fit_transform(df['title_urls'])\n",
    "\n",
    "# Fit & Transform urls Cvec\n",
    "selftext_urls_term_matrix = st_urls_cvec.fit_transform(df['selftext_urls'])\n"
   ]
  },
  {
   "cell_type": "code",
   "execution_count": 14,
   "metadata": {},
   "outputs": [
    {
     "name": "stdout",
     "output_type": "stream",
     "text": [
      "16459\n",
      "6280\n",
      "14583\n",
      "2\n",
      "414\n"
     ]
    }
   ],
   "source": [
    "print(len(merged_cvec.get_feature_names()))\n",
    "print(len(title_cvec.get_feature_names()))\n",
    "print(len(selftext_cvec.get_feature_names()))\n",
    "print(len(t_urls_cvec.get_feature_names()))\n",
    "print(len(st_urls_cvec.get_feature_names()))"
   ]
  },
  {
   "cell_type": "code",
   "execution_count": 15,
   "metadata": {},
   "outputs": [],
   "source": [
    "# Create a dataframe with our term_matrix outputted from Count_vec\n",
    "merged_term_matrix = merged_cvec.fit_transform(df['merged'])\n",
    "merged_term_df = pd.DataFrame(merged_term_matrix.toarray(), \n",
    "                              columns = merged_cvec.get_feature_names())\n",
    "\n",
    "title_term_df = pd.DataFrame(title_term_matrix.toarray(), \n",
    "                                 columns = title_cvec.get_feature_names())\n",
    "\n",
    "selftext_term_df = pd.DataFrame(selftext_term_matrix.toarray(), \n",
    "                                    columns = selftext_cvec.get_feature_names())\n",
    "\n",
    "title_urls_term_df = pd.DataFrame(title_urls_term_matrix.toarray(), \n",
    "                                    columns = t_urls_cvec.get_feature_names())\n",
    "\n",
    "selftext_urls_term_df = pd.DataFrame(selftext_urls_term_matrix.toarray(), \n",
    "                                    columns = st_urls_cvec.get_feature_names())\n",
    "\n",
    "# Lets insert our target as \"Subreddit\"\n",
    "merged_term_df.insert(0, 'Subreddit_name', df['Subreddit_name'])\n",
    "\n",
    "# Lets insert our target as \"Subreddit\"\n",
    "title_term_df.insert(0, 'Subreddit_name', df['Subreddit_name'])\n",
    "\n",
    "# Lets insert our target as \"Subreddit\"\n",
    "selftext_term_df.insert(0, 'Subreddit_name', df['Subreddit_name'])\n",
    "\n",
    "# Lets insert our target as \"Subreddit\"\n",
    "title_urls_term_df.insert(0, 'Subreddit_name', df['Subreddit_name'])\n",
    "\n",
    "# Lets insert our target as \"Subreddit\"\n",
    "selftext_urls_term_df.insert(0, 'Subreddit_name', df['Subreddit_name'])"
   ]
  },
  {
   "cell_type": "markdown",
   "metadata": {},
   "source": [
    "## TFIDF Vectorizer"
   ]
  },
  {
   "cell_type": "code",
   "execution_count": 16,
   "metadata": {},
   "outputs": [],
   "source": [
    "#Instantiate Merged Cvec\n",
    "merged_tfidf = TfidfVectorizer(stop_words = 'english', min_df=4, max_df = .6)\n",
    "\n",
    "#Instantiate title Cvec\n",
    "title_tfidf = TfidfVectorizer(stop_words = 'english', min_df=4, max_df = .9)\n",
    "\n",
    "#Instantiate self_text Cvec\n",
    "selftext_tfidf = TfidfVectorizer(stop_words = 'english', min_df=4, max_df = .9)\n",
    "\n",
    "#Instantiate urls Cvec\n",
    "t_urls_tfidf = TfidfVectorizer(stop_words = 'english', min_df=4)\n",
    "\n",
    "#Instantiate urls Cvec\n",
    "st_urls_tfidf = TfidfVectorizer(stop_words = 'english', min_df=4)\n",
    "\n",
    "# Fit & Transform merged Cvec\n",
    "merged_term_tfidf = merged_tfidf.fit_transform(df['merged'])\n",
    "\n",
    "# Fit & Transform title Cvec\n",
    "title_term_tfidf = title_tfidf.fit_transform(df['clean_title'])\n",
    "\n",
    "# Fit & Transform self_text Cvec\n",
    "selftext_term_tfidf = selftext_tfidf.fit_transform(df['clean_selftext'])\n",
    "\n",
    "# Fit & Transform urls Cvec\n",
    "title_urls_term_tfidf = t_urls_tfidf.fit_transform(df['title_urls'])\n",
    "\n",
    "# Fit & Transform urls Cvec\n",
    "selftext_urls_term_tfidf = st_urls_tfidf.fit_transform(df['selftext_urls'])\n"
   ]
  },
  {
   "cell_type": "code",
   "execution_count": 17,
   "metadata": {},
   "outputs": [
    {
     "name": "stdout",
     "output_type": "stream",
     "text": [
      "CPU times: user 22.3 s, sys: 43.6 s, total: 1min 5s\n",
      "Wall time: 2min 2s\n"
     ]
    }
   ],
   "source": [
    "%%time\n",
    "\n",
    "word_freq_1 = merged_term_df.groupby('Subreddit_name').sum().T.sort_values(by = 1,ascending=False).head(15)\n",
    "word_freq_0 = merged_term_df.groupby('Subreddit_name').sum().T.sort_values(by = 0,ascending=False).head(15)"
   ]
  },
  {
   "cell_type": "code",
   "execution_count": 18,
   "metadata": {},
   "outputs": [],
   "source": [
    "urls_freq_1 = selftext_urls_term_df.groupby('Subreddit_name').sum().T.sort_values(by=1,ascending=False).head(15)\n",
    "urls_freq_0 = selftext_urls_term_df.groupby('Subreddit_name').sum().T.sort_values(by=0,ascending=False).head(15)"
   ]
  },
  {
   "cell_type": "code",
   "execution_count": null,
   "metadata": {},
   "outputs": [],
   "source": []
  },
  {
   "cell_type": "code",
   "execution_count": 20,
   "metadata": {},
   "outputs": [
    {
     "data": {
      "image/png": "[encoded data removed]",
      "text/plain": [
       "<Figure size 864x576 with 1 Axes>"
      ]
     },
     "metadata": {
      "needs_background": "light"
     },
     "output_type": "display_data"
    }
   ],
   "source": [
    "plt.figure(figsize = (12,8))\n",
    "ind = np.arange(len(word_freq_1))\n",
    "height = 0.4\n",
    "plt.barh(width = np.log(word_freq_1[1]), y = ind, height = height, align = 'center', label = 'datascience', color = 'coral')\n",
    "plt.barh(width = np.log(word_freq_1[0]),y = ind+height, height = height, align = 'center', label = 'machinelearning', color = 'dodgerblue')\n",
    "plt.yticks(ticks = ind+height, labels = word_freq_1.index, fontsize = 14)\n",
    "plt.legend(fontsize = 12)\n",
    "plt.title('Most Common Data Science words', fontsize = 22)\n",
    "plt.xlabel('log(count)')\n",
    "plt.ylabel('word')\n",
    "\n",
    "plt.savefig('../plots/DS_word_logcount.png')"
   ]
  },
  {
   "cell_type": "code",
   "execution_count": 21,
   "metadata": {},
   "outputs": [
    {
     "data": {
      "image/png": "[encoded data removed]",
      "text/plain": [
       "<Figure size 864x576 with 1 Axes>"
      ]
     },
     "metadata": {
      "needs_background": "light"
     },
     "output_type": "display_data"
    }
   ],
   "source": [
    "plt.figure(figsize = (12,8))\n",
    "ind = np.arange(len(word_freq_0))\n",
    "height = 0.4\n",
    "plt.barh(width = np.log(word_freq_0[1]), y = ind, height = height, align = 'center', label = 'datascience', color = 'coral')\n",
    "plt.barh(width = np.log(word_freq_0[0]),y = ind+height, height = height, align = 'center', label = 'machinelearning', color = 'dodgerblue')\n",
    "plt.yticks(ticks = ind+height, labels = word_freq_0.index, fontsize = 14)\n",
    "plt.legend(fontsize = 12)\n",
    "plt.title('Most Common Machine Learning Words', fontsize = 22)\n",
    "plt.xlabel('log(count)')\n",
    "plt.ylabel('word')\n",
    "\n",
    "plt.savefig('../plots/ML_word_logcount.png')"
   ]
  },
  {
   "cell_type": "code",
   "execution_count": 22,
   "metadata": {},
   "outputs": [
    {
     "data": {
      "image/png": "[encoded data removed]",
      "text/plain": [
       "<Figure size 864x576 with 1 Axes>"
      ]
     },
     "metadata": {
      "needs_background": "light"
     },
     "output_type": "display_data"
    }
   ],
   "source": [
    "plt.figure(figsize = (12,8))\n",
    "ind = np.arange(len(urls_freq_1))\n",
    "height = 0.4\n",
    "plt.barh(width = np.log(urls_freq_1[1]), y = ind, height = height, align = 'center', label = 'datascience', color = 'coral')\n",
    "plt.barh(width = np.log(urls_freq_1[0]),y = ind+height, height = height, align = 'center', label = 'machinelearning', color = 'dodgerblue')\n",
    "plt.yticks(ticks = ind+height, labels = urls_freq_1.index, fontsize = 14)\n",
    "plt.legend(fontsize = 12)\n",
    "plt.title('Most Common Data Science URLs', fontsize = 22)\n",
    "plt.xlabel('log(count)')\n",
    "plt.ylabel('url hostname')\n",
    "\n",
    "plt.savefig('../plots/DS_URLS_logcount.png')"
   ]
  },
  {
   "cell_type": "markdown",
   "metadata": {},
   "source": [
    "**Figure 1:** Here we graphed the common Data Science URL hostnames. In comparison to "
   ]
  },
  {
   "cell_type": "code",
   "execution_count": 23,
   "metadata": {},
   "outputs": [
    {
     "data": {
      "image/png": "[encoded data removed]",
      "text/plain": [
       "<Figure size 864x576 with 1 Axes>"
      ]
     },
     "metadata": {
      "needs_background": "light"
     },
     "output_type": "display_data"
    }
   ],
   "source": [
    "plt.figure(figsize = (12,8))\n",
    "ind = np.arange(len(urls_freq_0))\n",
    "height = 0.4\n",
    "plt.barh(width = np.log(urls_freq_0[1]), y = ind, height = height, align = 'center', label = 'datascience', color = 'coral')\n",
    "plt.barh(width = np.log(urls_freq_0[0]),y = ind+height, height = height, align = 'center', label = 'machinelearning', color = 'dodgerblue')\n",
    "plt.yticks(ticks = ind+height, labels = urls_freq_0.index, fontsize = 14)\n",
    "plt.legend(fontsize = 12)\n",
    "plt.title('Most Common Machine Learning URLs', fontsize = 22)\n",
    "plt.xlabel('log(count)')\n",
    "plt.ylabel('url hostname')\n",
    "\n",
    "plt.savefig('../plots/ML_URLS_logcount.png')"
   ]
  },
  {
   "cell_type": "code",
   "execution_count": 24,
   "metadata": {},
   "outputs": [
    {
     "data": {
      "image/png": "[encoded data removed]",
      "text/plain": [
       "<Figure size 1440x720 with 1 Axes>"
      ]
     },
     "metadata": {
      "needs_background": "light"
     },
     "output_type": "display_data"
    }
   ],
   "source": [
    "weights = urls_freq_1[1]\n",
    "labels = urls_freq_1.index\n",
    "title = 'Top 15 urls - datascience'\n",
    "def plot_histogram_of_freq(weights, labels, title, color):\n",
    "    plt.figure(figsize=(20,10))\n",
    "    plt.barh(labels, weights, color = color)\n",
    "    plt.yticks(fontsize=20)\n",
    "    plt.xticks(fontsize=20)\n",
    "    plt.xlabel('Count', fontsize=30)\n",
    "    plt.title(title, fontsize=42)\n",
    "    plt.tight_layout()\n",
    "\n",
    "plot_histogram_of_freq(weights, labels, title, 'red')\n",
    "plt.savefig('../plots/url-ds.png')\n"
   ]
  },
  {
   "cell_type": "code",
   "execution_count": 25,
   "metadata": {},
   "outputs": [
    {
     "data": {
      "image/png": "[encoded data removed]",
      "text/plain": [
       "<Figure size 1440x720 with 1 Axes>"
      ]
     },
     "metadata": {
      "needs_background": "light"
     },
     "output_type": "display_data"
    }
   ],
   "source": [
    "weights = urls_freq_0[0]\n",
    "labels = urls_freq_0.index\n",
    "title = 'Top 10 ML urls - ML'\n",
    "plot_histogram_of_freq(weights, labels, title, 'blue')\n",
    "plt.savefig('../plots/url-ml.png')\n"
   ]
  },
  {
   "cell_type": "markdown",
   "metadata": {},
   "source": [
    "## Get a list of top ML and DS words\n",
    "\n",
    "Lets create a list of most common ML and DS words, specifically the top 100 words. "
   ]
  },
  {
   "cell_type": "code",
   "execution_count": 32,
   "metadata": {},
   "outputs": [
    {
     "name": "stdout",
     "output_type": "stream",
     "text": [
      "CPU times: user 21.4 s, sys: 42.1 s, total: 1min 3s\n",
      "Wall time: 1min 36s\n"
     ]
    }
   ],
   "source": [
    "%%time\n",
    "top_words_ML = list(merged_term_df.groupby('Subreddit_name').\n",
    "     mean().T.sort_values(0, ascending=False).head(100).index)\n",
    "\n",
    "top_words_DS = list(merged_term_df.groupby('Subreddit_name').\n",
    "     mean().T.sort_values(1, ascending=False).head(100).index)"
   ]
  },
  {
   "cell_type": "markdown",
   "metadata": {},
   "source": [
    "### Get a list of overlapping words"
   ]
  },
  {
   "cell_type": "code",
   "execution_count": 33,
   "metadata": {},
   "outputs": [],
   "source": [
    "# Get list of Overlapping words\n",
    "top_words_overlap = [element for element in top_words_DS if element in top_words_ML]"
   ]
  },
  {
   "cell_type": "markdown",
   "metadata": {},
   "source": [
    "Lets check how many of our top 100 words from each subreddit overlap eachother."
   ]
  },
  {
   "cell_type": "code",
   "execution_count": 48,
   "metadata": {},
   "outputs": [
    {
     "data": {
      "text/plain": [
       "42"
      ]
     },
     "execution_count": 48,
     "metadata": {},
     "output_type": "execute_result"
    }
   ],
   "source": [
    "len(top_words_overlap)"
   ]
  },
  {
   "cell_type": "markdown",
   "metadata": {},
   "source": [
    "And we could conduct a hypothesis test on this.\n",
    "\n",
    "$H_0$: The subreddits for DS and ML have the same mean frequency for word $x$.\n",
    "\n",
    "$H_A$: The subreddits for DS and ML have a different mean frequency for word $x$.\n",
    "\n",
    "We'll set our alpha at .05"
   ]
  },
  {
   "cell_type": "code",
   "execution_count": 35,
   "metadata": {},
   "outputs": [],
   "source": [
    "from scipy.stats import ttest_ind"
   ]
  },
  {
   "cell_type": "code",
   "execution_count": 36,
   "metadata": {
    "scrolled": true
   },
   "outputs": [
    {
     "name": "stdout",
     "output_type": "stream",
     "text": [
      "CPU times: user 2min 27s, sys: 4min 47s, total: 7min 14s\n",
      "Wall time: 12min 51s\n"
     ]
    }
   ],
   "source": [
    "%%time \n",
    "ttest_dict = {}\n",
    "\n",
    "# Cycle through each word in overlap list\n",
    "for word in top_words_overlap:\n",
    "    \n",
    "    # Conduct a t-test, and append the result statistic\n",
    "    ttest_dict[word] = ttest_ind(merged_term_df[merged_term_df['Subreddit_name']==1][word], # word count in DS\n",
    "         merged_term_df[merged_term_df['Subreddit_name']==0][word]) # word count dist in ML\n",
    "    \n",
    "#ttest_dict"
   ]
  },
  {
   "cell_type": "code",
   "execution_count": 37,
   "metadata": {},
   "outputs": [],
   "source": [
    "# Create a dataframe to examine common top words and their p-values\n",
    "\n",
    "ttest_df = pd.DataFrame([ttest_dict]).T.sort_values(0)\n",
    "ttest_df['pvalue'] = [element.pvalue for element in ttest_dict.values()]\n",
    "ttest_df['statistic'] = [element.statistic for element in ttest_dict.values()]\n",
    "ttest_df.drop(columns = 0, inplace = True)"
   ]
  },
  {
   "cell_type": "code",
   "execution_count": 38,
   "metadata": {},
   "outputs": [
    {
     "name": "stdout",
     "output_type": "stream",
     "text": [
      "ai: p-value = 0.0         t-statistic: 65.39314637443277\n",
      "dataset: p-value = 1.2682174833127348e-143         t-statistic: 25.62227835222862\n",
      "ml: p-value = 5.504446075358666e-119         t-statistic: 23.270655527302527\n",
      "model: p-value = 3.448298516619473e-115         t-statistic: 22.887482358810736\n",
      "really: p-value = 1.210827052154215e-113         t-statistic: -22.729722771735204\n",
      "research: p-value = 4.546729083412493e-111         t-statistic: 22.464523520948717\n",
      "different: p-value = 3.3365594084513402e-108         t-statistic: 22.16573013069777\n",
      "reddit: p-value = 3.424985412705294e-91         t-statistic: 20.3042775675829\n",
      "based: p-value = 1.874665977108955e-87         t-statistic: 19.872501869964694\n",
      "github: p-value = 2.377845265922863e-85         t-statistic: 19.62550152408923\n",
      "code: p-value = 7.1841767123619705e-81         t-statistic: 19.08897274672056\n",
      "use: p-value = 5.681133750796051e-72         t-statistic: -17.977117509854523\n",
      "google: p-value = 4.242440795003901e-69         t-statistic: 17.6034557255257\n",
      "better: p-value = 5.77290561923095e-49         t-statistic: 14.727589523883786\n",
      "using: p-value = 4.739231104201649e-46         t-statistic: -14.264407880200366\n",
      "set: p-value = 2.2272725541828784e-45         t-statistic: 14.155487128929323\n",
      "think: p-value = 4.0612041961031094e-39         t-statistic: -13.098248423821879\n",
      "way: p-value = 5.379947534449015e-34         t-statistic: -12.166626502070265\n",
      "make: p-value = 1.1162827830510076e-33         t-statistic: 12.10666430209076\n",
      "computer: p-value = 4.54727001120236e-33         t-statistic: -11.990456548953233\n",
      "problem: p-value = 7.662088894880276e-32         t-statistic: 11.753370794600768\n",
      "information: p-value = 2.9480466273905684e-26         t-statistic: 10.608565771321727\n",
      "know: p-value = 6.3111231488441145e-24         t-statistic: -10.093453595767782\n",
      "new: p-value = 6.630385139990917e-18         t-statistic: 8.625203113038628\n",
      "project: p-value = 6.088776674251881e-15         t-statistic: 7.805132036681192\n",
      "help: p-value = 1.270140302957637e-12         t-statistic: -7.09981539250952\n",
      "thanks: p-value = 1.1606386263526997e-10         t-statistic: -6.446117289481795\n",
      "want: p-value = 2.512088948912042e-10         t-statistic: -6.3278713010420375\n",
      "question: p-value = 4.2511235192035146e-10         t-statistic: 6.246087769171098\n",
      "work: p-value = 4.949130735893921e-08         t-statistic: -5.45418270058488\n",
      "training: p-value = 2.3467602171039465e-07         t-statistic: -5.170437426281659\n",
      "need: p-value = 4.474211008668427e-06         t-statistic: 4.588679048267673\n",
      "models: p-value = 6.347971819486613e-06         t-statistic: 4.515062372419475\n",
      "lot: p-value = 6.992263462707627e-05         t-statistic: -3.976969385734061\n",
      "data: p-value = 0.001945657899592373         t-statistic: -3.0986108816542046\n",
      "like: p-value = 0.00783954400666996         t-statistic: 2.65903833795681\n",
      "used: p-value = 0.05893436095513863         t-statistic: 1.8887369294978182\n",
      "people: p-value = 0.06028067462488992         t-statistic: 1.8787886074113629\n",
      "looking: p-value = 0.11971853846615275         t-statistic: 1.5559895493202227\n",
      "questions: p-value = 0.12728186996581492         t-statistic: -1.5249405985228746\n",
      "working: p-value = 0.18055038060967188         t-statistic: -1.3390858583289738\n",
      "post: p-value = 0.9678078728366575         t-statistic: -0.0403580551139392\n"
     ]
    }
   ],
   "source": [
    "# Print out the results of our dataframe\n",
    "for i in ttest_df.sort_values(by='pvalue').index:\n",
    "    print(f\"{i}: p-value = {ttest_df.sort_values(by='pvalue').loc[i,'pvalue']} \\\n",
    "        t-statistic: {ttest_df.sort_values(by='pvalue').loc[i,'statistic']}\")"
   ]
  },
  {
   "cell_type": "markdown",
   "metadata": {},
   "source": [
    "Here we see that most of the words in the machine learning subreddit, are oriented towards "
   ]
  },
  {
   "cell_type": "code",
   "execution_count": null,
   "metadata": {},
   "outputs": [],
   "source": [
    "weights = coef_df['exp_coef'].head(10).sort_values()\n",
    "labels = weights.index\n",
    "\n",
    "plt.figure(figsize=(20,10))\n",
    "plt.barh(labels, weights, color = 'red')\n",
    "plt.yticks(fontsize=20)\n",
    "plt.xticks(fontsize=20)\n",
    "plt.xlabel('Exp Coef', fontsize=30)\n",
    "plt.title(f'Top 10 Features - datascience', fontsize=42)\n",
    "plt.tight_layout()"
   ]
  },
  {
   "cell_type": "code",
   "execution_count": 42,
   "metadata": {},
   "outputs": [
    {
     "data": {
      "text/html": [
       "<div>\n",
       "<style scoped>\n",
       "    .dataframe tbody tr th:only-of-type {\n",
       "        vertical-align: middle;\n",
       "    }\n",
       "\n",
       "    .dataframe tbody tr th {\n",
       "        vertical-align: top;\n",
       "    }\n",
       "\n",
       "    .dataframe thead th {\n",
       "        text-align: right;\n",
       "    }\n",
       "</style>\n",
       "<table border=\"1\" class=\"dataframe\">\n",
       "  <thead>\n",
       "    <tr style=\"text-align: right;\">\n",
       "      <th></th>\n",
       "      <th>pvalue</th>\n",
       "      <th>statistic</th>\n",
       "    </tr>\n",
       "  </thead>\n",
       "  <tbody>\n",
       "    <tr>\n",
       "      <th>ai</th>\n",
       "      <td>0.000000e+00</td>\n",
       "      <td>65.393146</td>\n",
       "    </tr>\n",
       "    <tr>\n",
       "      <th>dataset</th>\n",
       "      <td>1.268217e-143</td>\n",
       "      <td>25.622278</td>\n",
       "    </tr>\n",
       "    <tr>\n",
       "      <th>ml</th>\n",
       "      <td>5.504446e-119</td>\n",
       "      <td>23.270656</td>\n",
       "    </tr>\n",
       "    <tr>\n",
       "      <th>model</th>\n",
       "      <td>3.448299e-115</td>\n",
       "      <td>22.887482</td>\n",
       "    </tr>\n",
       "    <tr>\n",
       "      <th>research</th>\n",
       "      <td>4.546729e-111</td>\n",
       "      <td>22.464524</td>\n",
       "    </tr>\n",
       "    <tr>\n",
       "      <th>different</th>\n",
       "      <td>3.336559e-108</td>\n",
       "      <td>22.165730</td>\n",
       "    </tr>\n",
       "    <tr>\n",
       "      <th>reddit</th>\n",
       "      <td>3.424985e-91</td>\n",
       "      <td>20.304278</td>\n",
       "    </tr>\n",
       "    <tr>\n",
       "      <th>based</th>\n",
       "      <td>1.874666e-87</td>\n",
       "      <td>19.872502</td>\n",
       "    </tr>\n",
       "    <tr>\n",
       "      <th>github</th>\n",
       "      <td>2.377845e-85</td>\n",
       "      <td>19.625502</td>\n",
       "    </tr>\n",
       "    <tr>\n",
       "      <th>code</th>\n",
       "      <td>7.184177e-81</td>\n",
       "      <td>19.088973</td>\n",
       "    </tr>\n",
       "    <tr>\n",
       "      <th>google</th>\n",
       "      <td>4.242441e-69</td>\n",
       "      <td>17.603456</td>\n",
       "    </tr>\n",
       "    <tr>\n",
       "      <th>better</th>\n",
       "      <td>5.772906e-49</td>\n",
       "      <td>14.727590</td>\n",
       "    </tr>\n",
       "    <tr>\n",
       "      <th>set</th>\n",
       "      <td>2.227273e-45</td>\n",
       "      <td>14.155487</td>\n",
       "    </tr>\n",
       "    <tr>\n",
       "      <th>make</th>\n",
       "      <td>1.116283e-33</td>\n",
       "      <td>12.106664</td>\n",
       "    </tr>\n",
       "    <tr>\n",
       "      <th>problem</th>\n",
       "      <td>7.662089e-32</td>\n",
       "      <td>11.753371</td>\n",
       "    </tr>\n",
       "  </tbody>\n",
       "</table>\n",
       "</div>"
      ],
      "text/plain": [
       "                  pvalue  statistic\n",
       "ai          0.000000e+00  65.393146\n",
       "dataset    1.268217e-143  25.622278\n",
       "ml         5.504446e-119  23.270656\n",
       "model      3.448299e-115  22.887482\n",
       "research   4.546729e-111  22.464524\n",
       "different  3.336559e-108  22.165730\n",
       "reddit      3.424985e-91  20.304278\n",
       "based       1.874666e-87  19.872502\n",
       "github      2.377845e-85  19.625502\n",
       "code        7.184177e-81  19.088973\n",
       "google      4.242441e-69  17.603456\n",
       "better      5.772906e-49  14.727590\n",
       "set         2.227273e-45  14.155487\n",
       "make        1.116283e-33  12.106664\n",
       "problem     7.662089e-32  11.753371"
      ]
     },
     "execution_count": 42,
     "metadata": {},
     "output_type": "execute_result"
    }
   ],
   "source": [
    "ttest_df.sort_values(by=['statistic','pvalue'], ascending = False)[:15]"
   ]
  },
  {
   "cell_type": "code",
   "execution_count": 43,
   "metadata": {},
   "outputs": [
    {
     "data": {
      "text/html": [
       "<div>\n",
       "<style scoped>\n",
       "    .dataframe tbody tr th:only-of-type {\n",
       "        vertical-align: middle;\n",
       "    }\n",
       "\n",
       "    .dataframe tbody tr th {\n",
       "        vertical-align: top;\n",
       "    }\n",
       "\n",
       "    .dataframe thead th {\n",
       "        text-align: right;\n",
       "    }\n",
       "</style>\n",
       "<table border=\"1\" class=\"dataframe\">\n",
       "  <thead>\n",
       "    <tr style=\"text-align: right;\">\n",
       "      <th></th>\n",
       "      <th>pvalue</th>\n",
       "      <th>statistic</th>\n",
       "    </tr>\n",
       "  </thead>\n",
       "  <tbody>\n",
       "    <tr>\n",
       "      <th>really</th>\n",
       "      <td>1.210827e-113</td>\n",
       "      <td>-22.729723</td>\n",
       "    </tr>\n",
       "    <tr>\n",
       "      <th>use</th>\n",
       "      <td>5.681134e-72</td>\n",
       "      <td>-17.977118</td>\n",
       "    </tr>\n",
       "    <tr>\n",
       "      <th>using</th>\n",
       "      <td>4.739231e-46</td>\n",
       "      <td>-14.264408</td>\n",
       "    </tr>\n",
       "    <tr>\n",
       "      <th>think</th>\n",
       "      <td>4.061204e-39</td>\n",
       "      <td>-13.098248</td>\n",
       "    </tr>\n",
       "    <tr>\n",
       "      <th>way</th>\n",
       "      <td>5.379948e-34</td>\n",
       "      <td>-12.166627</td>\n",
       "    </tr>\n",
       "    <tr>\n",
       "      <th>computer</th>\n",
       "      <td>4.547270e-33</td>\n",
       "      <td>-11.990457</td>\n",
       "    </tr>\n",
       "    <tr>\n",
       "      <th>know</th>\n",
       "      <td>6.311123e-24</td>\n",
       "      <td>-10.093454</td>\n",
       "    </tr>\n",
       "    <tr>\n",
       "      <th>help</th>\n",
       "      <td>1.270140e-12</td>\n",
       "      <td>-7.099815</td>\n",
       "    </tr>\n",
       "    <tr>\n",
       "      <th>thanks</th>\n",
       "      <td>1.160639e-10</td>\n",
       "      <td>-6.446117</td>\n",
       "    </tr>\n",
       "    <tr>\n",
       "      <th>want</th>\n",
       "      <td>2.512089e-10</td>\n",
       "      <td>-6.327871</td>\n",
       "    </tr>\n",
       "    <tr>\n",
       "      <th>work</th>\n",
       "      <td>4.949131e-08</td>\n",
       "      <td>-5.454183</td>\n",
       "    </tr>\n",
       "    <tr>\n",
       "      <th>training</th>\n",
       "      <td>2.346760e-07</td>\n",
       "      <td>-5.170437</td>\n",
       "    </tr>\n",
       "    <tr>\n",
       "      <th>lot</th>\n",
       "      <td>6.992263e-05</td>\n",
       "      <td>-3.976969</td>\n",
       "    </tr>\n",
       "    <tr>\n",
       "      <th>data</th>\n",
       "      <td>1.945658e-03</td>\n",
       "      <td>-3.098611</td>\n",
       "    </tr>\n",
       "    <tr>\n",
       "      <th>questions</th>\n",
       "      <td>1.272819e-01</td>\n",
       "      <td>-1.524941</td>\n",
       "    </tr>\n",
       "  </tbody>\n",
       "</table>\n",
       "</div>"
      ],
      "text/plain": [
       "                  pvalue  statistic\n",
       "really     1.210827e-113 -22.729723\n",
       "use         5.681134e-72 -17.977118\n",
       "using       4.739231e-46 -14.264408\n",
       "think       4.061204e-39 -13.098248\n",
       "way         5.379948e-34 -12.166627\n",
       "computer    4.547270e-33 -11.990457\n",
       "know        6.311123e-24 -10.093454\n",
       "help        1.270140e-12  -7.099815\n",
       "thanks      1.160639e-10  -6.446117\n",
       "want        2.512089e-10  -6.327871\n",
       "work        4.949131e-08  -5.454183\n",
       "training    2.346760e-07  -5.170437\n",
       "lot         6.992263e-05  -3.976969\n",
       "data        1.945658e-03  -3.098611\n",
       "questions   1.272819e-01  -1.524941"
      ]
     },
     "execution_count": 43,
     "metadata": {},
     "output_type": "execute_result"
    }
   ],
   "source": [
    "ttest_df.sort_values(by=['statistic','pvalue'], ascending = True)[:15]"
   ]
  },
  {
   "cell_type": "code",
   "execution_count": null,
   "metadata": {},
   "outputs": [],
   "source": [
    "def plot_cvec_dist(words, dataframe, target = 'Subreddit_name', classes = [0,1]):\n",
    "    nrows = len(words)//2 if not len(words)%2 else len(words)//2 + 1\n",
    "    class_0 = dataframe[dataframe[target]==classes[0]]\n",
    "    class_1 = dataframe[dataframe[target]==classes[1]]\n",
    "    fig, ax = plt.subplots(ncols=2, nrows=nrows, figsize=(20, 7*nrows))\n",
    "    ax = ax.ravel()\n",
    "    \n",
    "    for i, word in enumerate(words):\n",
    "        counts_0 = class_0[word].value_counts()[1:].to_dict()\n",
    "        counts_1 = class_1[word].value_counts()[1:].to_dict()\n",
    "        mean_0 = class_0[word].mean()\n",
    "        mean_1 = class_1[word].mean()\n",
    "        ax[i].bar(counts_0.keys(), counts_0.values(), color='goldenrod', alpha=.3)\n",
    "        for keys, values in counts_0.items():\n",
    "            ax[i].text(keys-.1, values, s=values, fontsize=14, color='goldenrod')\n",
    "        for keys, values in counts_1.items():\n",
    "            ax[i].text(keys+.1, values, s=values, fontsize=14, color='grey')\n",
    "        ax[i].bar(counts_1.keys(), counts_1.values(), color='grey', alpha=.3)\n",
    "        ymin, ymax = ax[i].get_ylim()\n",
    "        ax[i].plot([mean_0]*2, [ymin, ymax], ':', color='goldenrod')\n",
    "        ax[i].plot([mean_1]*2, [ymin, ymax], ':', color='grey')\n",
    "        ax[i].set_title(f'{word} frequency counts\\nmeans: {mean_0:0.02f} vs {mean_1:0.02f}')\n",
    "        ax[i].legend(classes)"
   ]
  },
  {
   "cell_type": "code",
   "execution_count": null,
   "metadata": {},
   "outputs": [],
   "source": [
    "plot_cvec_dist(top_words_overlap, term_df)"
   ]
  },
  {
   "cell_type": "code",
   "execution_count": null,
   "metadata": {},
   "outputs": [],
   "source": []
  }
 ],
 "metadata": {
  "kernelspec": {
   "display_name": "Python 3",
   "language": "python",
   "name": "python3"
  },
  "language_info": {
   "codemirror_mode": {
    "name": "ipython",
    "version": 3
   },
   "file_extension": ".py",
   "mimetype": "text/x-python",
   "name": "python",
   "nbconvert_exporter": "python",
   "pygments_lexer": "ipython3",
   "version": "3.7.6"
  }
 },
 "nbformat": 4,
 "nbformat_minor": 4
}
