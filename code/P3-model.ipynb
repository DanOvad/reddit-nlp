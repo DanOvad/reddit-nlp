{
 "cells": [
  {
   "cell_type": "markdown",
   "metadata": {},
   "source": [
    "Import libraries"
   ]
  },
  {
   "cell_type": "code",
   "execution_count": 1,
   "metadata": {},
   "outputs": [],
   "source": [
    "import pandas as pd\n",
    "import numpy as np\n",
    "import regex as re\n",
    "import matplotlib.pyplot as plt\n",
    "\n",
    "\n",
    "from sklearn.model_selection import train_test_split, GridSearchCV, cross_val_score\n",
    "from sklearn.pipeline import Pipeline, FeatureUnion\n",
    "from sklearn.feature_extraction.text import CountVectorizer, TfidfVectorizer\n",
    "from sklearn.linear_model import LogisticRegression\n",
    "from sklearn.preprocessing import StandardScaler, FunctionTransformer\n",
    "from sklearn.naive_bayes import BernoulliNB, MultinomialNB, GaussianNB\n",
    "\n",
    "from sklearn.svm import SVC\n",
    "import pickle"
   ]
  },
  {
   "cell_type": "markdown",
   "metadata": {},
   "source": [
    "## First lets read in the data and so some preprocessing to make sure the data is read in clean and correct."
   ]
  },
  {
   "cell_type": "code",
   "execution_count": 2,
   "metadata": {},
   "outputs": [
    {
     "data": {
      "text/html": [
       "<div>\n",
       "<style scoped>\n",
       "    .dataframe tbody tr th:only-of-type {\n",
       "        vertical-align: middle;\n",
       "    }\n",
       "\n",
       "    .dataframe tbody tr th {\n",
       "        vertical-align: top;\n",
       "    }\n",
       "\n",
       "    .dataframe thead th {\n",
       "        text-align: right;\n",
       "    }\n",
       "</style>\n",
       "<table border=\"1\" class=\"dataframe\">\n",
       "  <thead>\n",
       "    <tr style=\"text-align: right;\">\n",
       "      <th></th>\n",
       "      <th>title</th>\n",
       "      <th>selftext</th>\n",
       "      <th>clean_title</th>\n",
       "      <th>selftext_urls</th>\n",
       "      <th>title_urls</th>\n",
       "      <th>clean_selftext</th>\n",
       "      <th>created_utc</th>\n",
       "      <th>num_comments</th>\n",
       "      <th>num_crossposts</th>\n",
       "      <th>score</th>\n",
       "      <th>subreddit</th>\n",
       "      <th>Subreddit_name</th>\n",
       "      <th>merged</th>\n",
       "    </tr>\n",
       "  </thead>\n",
       "  <tbody>\n",
       "    <tr>\n",
       "      <th>0</th>\n",
       "      <td>[D] Hinton responds to Schmidhuber</td>\n",
       "      <td></td>\n",
       "      <td>hinton responds schmidhuber</td>\n",
       "      <td></td>\n",
       "      <td></td>\n",
       "      <td></td>\n",
       "      <td>1587609168</td>\n",
       "      <td>0</td>\n",
       "      <td>0</td>\n",
       "      <td>1</td>\n",
       "      <td>MachineLearning</td>\n",
       "      <td>0</td>\n",
       "      <td>hinton responds schmidhuber</td>\n",
       "    </tr>\n",
       "    <tr>\n",
       "      <th>1</th>\n",
       "      <td>Hinton responds to Schmidhuber</td>\n",
       "      <td></td>\n",
       "      <td>hinton responds schmidhuber</td>\n",
       "      <td></td>\n",
       "      <td></td>\n",
       "      <td></td>\n",
       "      <td>1587609111</td>\n",
       "      <td>1</td>\n",
       "      <td>0</td>\n",
       "      <td>1</td>\n",
       "      <td>MachineLearning</td>\n",
       "      <td>0</td>\n",
       "      <td>hinton responds schmidhuber</td>\n",
       "    </tr>\n",
       "    <tr>\n",
       "      <th>2</th>\n",
       "      <td>[D] Other than vectorization, what other aspec...</td>\n",
       "      <td>I'm helping a friend design a course with dual...</td>\n",
       "      <td>vectorization aspects code optimization teach ...</td>\n",
       "      <td></td>\n",
       "      <td></td>\n",
       "      <td>helping friend design course dual intent entry...</td>\n",
       "      <td>1587606108</td>\n",
       "      <td>2</td>\n",
       "      <td>0</td>\n",
       "      <td>1</td>\n",
       "      <td>MachineLearning</td>\n",
       "      <td>0</td>\n",
       "      <td>vectorization aspects code optimization teach ...</td>\n",
       "    </tr>\n",
       "    <tr>\n",
       "      <th>3</th>\n",
       "      <td>Survey for IT Employees working from home! Hel...</td>\n",
       "      <td></td>\n",
       "      <td>survey employees working home help us finding ...</td>\n",
       "      <td></td>\n",
       "      <td></td>\n",
       "      <td></td>\n",
       "      <td>1587604741</td>\n",
       "      <td>2</td>\n",
       "      <td>0</td>\n",
       "      <td>1</td>\n",
       "      <td>MachineLearning</td>\n",
       "      <td>0</td>\n",
       "      <td>survey employees working home help us finding ...</td>\n",
       "    </tr>\n",
       "    <tr>\n",
       "      <th>4</th>\n",
       "      <td>[R] Chip Placement with Deep Reinforcement Lea...</td>\n",
       "      <td></td>\n",
       "      <td>r chip placement deep reinforcement learning</td>\n",
       "      <td></td>\n",
       "      <td></td>\n",
       "      <td></td>\n",
       "      <td>1587604558</td>\n",
       "      <td>1</td>\n",
       "      <td>0</td>\n",
       "      <td>1</td>\n",
       "      <td>MachineLearning</td>\n",
       "      <td>0</td>\n",
       "      <td>r chip placement deep reinforcement learning</td>\n",
       "    </tr>\n",
       "  </tbody>\n",
       "</table>\n",
       "</div>"
      ],
      "text/plain": [
       "                                               title  \\\n",
       "0                 [D] Hinton responds to Schmidhuber   \n",
       "1                     Hinton responds to Schmidhuber   \n",
       "2  [D] Other than vectorization, what other aspec...   \n",
       "3  Survey for IT Employees working from home! Hel...   \n",
       "4  [R] Chip Placement with Deep Reinforcement Lea...   \n",
       "\n",
       "                                            selftext  \\\n",
       "0                                                      \n",
       "1                                                      \n",
       "2  I'm helping a friend design a course with dual...   \n",
       "3                                                      \n",
       "4                                                      \n",
       "\n",
       "                                         clean_title selftext_urls title_urls  \\\n",
       "0                        hinton responds schmidhuber                            \n",
       "1                        hinton responds schmidhuber                            \n",
       "2  vectorization aspects code optimization teach ...                            \n",
       "3  survey employees working home help us finding ...                            \n",
       "4       r chip placement deep reinforcement learning                            \n",
       "\n",
       "                                      clean_selftext  created_utc  \\\n",
       "0                                                      1587609168   \n",
       "1                                                      1587609111   \n",
       "2  helping friend design course dual intent entry...   1587606108   \n",
       "3                                                      1587604741   \n",
       "4                                                      1587604558   \n",
       "\n",
       "   num_comments  num_crossposts  score        subreddit  Subreddit_name  \\\n",
       "0             0               0      1  MachineLearning               0   \n",
       "1             1               0      1  MachineLearning               0   \n",
       "2             2               0      1  MachineLearning               0   \n",
       "3             2               0      1  MachineLearning               0   \n",
       "4             1               0      1  MachineLearning               0   \n",
       "\n",
       "                                              merged  \n",
       "0                        hinton responds schmidhuber  \n",
       "1                        hinton responds schmidhuber  \n",
       "2  vectorization aspects code optimization teach ...  \n",
       "3  survey employees working home help us finding ...  \n",
       "4       r chip placement deep reinforcement learning  "
      ]
     },
     "execution_count": 2,
     "metadata": {},
     "output_type": "execute_result"
    }
   ],
   "source": [
    "# Read in the data from the machinelearning and datascience\n",
    "df = pd.read_csv('./data/clean.csv')\n",
    "\n",
    "# If there are NA's in clean_title. Remove them\n",
    "if df.clean_title.isna().sum() > 0:\n",
    "    df.drop(labels = df[df.clean_title.isna()].index, inplace = True)\n",
    "    \n",
    "# Clean merged column and fillna with empty string\n",
    "if df.merged.isna().sum() > 0:\n",
    "    df['merged'].fillna(value=\"\",inplace=True)\n",
    "    \n",
    "if df.selftext.isna().sum() > 0:\n",
    "    df['selftext'].fillna(value=\"\",inplace=True)\n",
    "    \n",
    "if df.clean_selftext.isna().sum() > 0:\n",
    "    df['clean_selftext'].fillna(value=\"\",inplace=True)\n",
    "    \n",
    "if df.selftext_urls.isna().sum() > 0:\n",
    "    df['selftext_urls'].fillna(value=\"\",inplace=True)\n",
    "    \n",
    "if df.title_urls.isna().sum() > 0:\n",
    "    df['title_urls'].fillna(value=\"\",inplace=True)\n",
    "df.head()"
   ]
  },
  {
   "cell_type": "markdown",
   "metadata": {},
   "source": [
    "#### Begin the modeling process\n",
    "\n",
    "- Here lets create our X and y variables\n",
    "- Fit our transformers and create our subsequent models. "
   ]
  },
  {
   "cell_type": "code",
   "execution_count": 3,
   "metadata": {},
   "outputs": [],
   "source": [
    "# Create X variable\n",
    "\n",
    "X = df[['clean_selftext', 'selftext_urls', 'title_urls', 'merged']]\n",
    "y = df['Subreddit_name']\n",
    "\n",
    "X_train, X_test, y_train, y_test = train_test_split(X,y, stratify=y)"
   ]
  },
  {
   "cell_type": "markdown",
   "metadata": {},
   "source": [
    "To create a custom stopwords list, lets export sklearn's english stopwords, and add in our own list of stop words. "
   ]
  },
  {
   "cell_type": "code",
   "execution_count": 4,
   "metadata": {},
   "outputs": [],
   "source": [
    "# ### EDA - sklearn's stopwords, extracted\n",
    "sklearn_stopwords = list(CountVectorizer(stop_words = 'english').get_stop_words())\n",
    "\n",
    "#Custom created list\n",
    "custom_stopwords = ['good','time','python','tool','source','best',\n",
    "                    'learn','science','machine','deep'\n",
    "                    'data','learning','science', 'scientist', 'ds'] # most common words\n",
    "\n",
    "# Personalized stopwords\n",
    "personal_stopwords = sklearn_stopwords + custom_stopwords"
   ]
  },
  {
   "cell_type": "code",
   "execution_count": 5,
   "metadata": {},
   "outputs": [],
   "source": [
    "# Create functions to just return the columns that you care about\n",
    "merged_data = FunctionTransformer(lambda x: x['clean_selftext'], validate=False)\n",
    "selftext_url_data = FunctionTransformer(lambda x: x['selftext_urls'], validate=False)\n",
    "title_url_data = FunctionTransformer(lambda x: x['title_urls'], validate=False)"
   ]
  },
  {
   "cell_type": "markdown",
   "metadata": {},
   "source": [
    "## Pipeline for coef extraction"
   ]
  },
  {
   "cell_type": "code",
   "execution_count": 6,
   "metadata": {},
   "outputs": [
    {
     "name": "stdout",
     "output_type": "stream",
     "text": [
      "0.7337198780038208\n",
      "0.7291373416448824\n",
      "CPU times: user 16.2 s, sys: 495 ms, total: 16.7 s\n",
      "Wall time: 17.7 s\n"
     ]
    },
    {
     "data": {
      "text/plain": [
       "array([0.73039544, 0.72419571, 0.72448467, 0.73470756, 0.72699849])"
      ]
     },
     "execution_count": 6,
     "metadata": {},
     "output_type": "execute_result"
    }
   ],
   "source": [
    "%%time\n",
    "pipe_v3 = Pipeline([\n",
    "    ('features',FeatureUnion([\n",
    "        ('merged_features', Pipeline([\n",
    "             ('selector', merged_data),\n",
    "             ('tvec',TfidfVectorizer(max_features = 173,\n",
    "                                    stop_words = personal_stopwords, \n",
    "                                    min_df = 5,\n",
    "                                    max_df = .6))\n",
    "         ])),\n",
    "        ('selftext_url_features', Pipeline([\n",
    "            ('selector',selftext_url_data),\n",
    "            ('tvec',TfidfVectorizer(max_features = 12,\n",
    "                                    stop_words = personal_stopwords,\n",
    "                                    min_df = 5,\n",
    "                                    max_df = .7))\n",
    "        ])), \n",
    "        ('title_url_features', Pipeline([\n",
    "            ('selector',title_url_data),\n",
    "            ('tvec',TfidfVectorizer(max_features = 12,\n",
    "                                    stop_words = personal_stopwords,\n",
    "                                    min_df = 5,\n",
    "                                    max_df = .7))\n",
    "        ]))\n",
    "        \n",
    "    ])), \n",
    "    ('logreg', LogisticRegression())\n",
    "])\n",
    "\n",
    "params = {}\n",
    "\n",
    "pipe_v3.fit(X_train, y_train)\n",
    "print(pipe_v3.score(X_train, y_train))\n",
    "print(pipe_v3.score(X_test, y_test))\n",
    "\n",
    "cross_val_score(pipe_v3, X_train, y_train)"
   ]
  },
  {
   "cell_type": "markdown",
   "metadata": {},
   "source": [
    "Here we actually returned a fairly consistent score. \n",
    "Train: 0.7320441063109562\n",
    "Test: 0.7389905489644079"
   ]
  },
  {
   "cell_type": "markdown",
   "metadata": {},
   "source": [
    "## Create an input dataframe to run some predictions."
   ]
  },
  {
   "cell_type": "code",
   "execution_count": 7,
   "metadata": {},
   "outputs": [],
   "source": [
    "X_input = pd.DataFrame({'Instructor':['Tim Book - Lecture 6.06', \n",
    "                                      'Rilley Dallas - Lecture 4.02', \n",
    "                                      'Rilley Dallas - Lecture 6.03', \n",
    "                                      'Matt Breams - Lab 5.02', \n",
    "                                      'Riley Breams - Lecture 6.03', \n",
    "                                      \"Dan Ovadia - Brand Statement\"],\n",
    "    'clean_selftext':[\"Describe generalized linear models. Fit Poisson and Gamma regression models in statsmodels. Interpret coefficients from Poisson and Gamma regression models. Describe iteratively reweighted least squares.\",\n",
    "                      \"Understand the intuition behind the KNN algorithm Describe the Bias / Variance tradeoff using hyper-parameters of KNN Implement KNN with sklearn\", \n",
    "                      \"Define ensemble model and describe three rationales for using ensemble models. Execute bootstrapping. Describe the differences among and implement bagged decision trees, random forests, and ExtraTrees. Identify advantages and disadvantages of using CART models.\", \n",
    "                      \"After the program, you'll want to continue developing your skills. Being comfortable with documentation and being confident in your ability to read something new and decide whether or not it is an appropriate method for the problem you're trying to solve is incredibly valuable.\", \n",
    "                      \"Adding one more step of randomization (and thus de-correlation) yields extremely randomized trees, or ExtraTrees. These are trained using bagging (sampling of observations) and the random subspace method (sampling of features), but an additional layer of randomness is introduced.\",\n",
    "                      \"Data engineer with a passion for putting data in context and building robust data workflows for meaningful interpretation. I am fascinated by the insurance industry's methods of carving out and assessing risk, and excited by the data science community's ability to manage and analyze data to provide insights in responding to and mitigating risk.\"], \n",
    "                       'selftext_urls':['', '', '','', '',''], \n",
    "                       'title_urls':['', '', '','', '','']})"
   ]
  },
  {
   "cell_type": "markdown",
   "metadata": {},
   "source": [
    "Generate some predictions"
   ]
  },
  {
   "cell_type": "code",
   "execution_count": 8,
   "metadata": {},
   "outputs": [
    {
     "data": {
      "text/html": [
       "<div>\n",
       "<style scoped>\n",
       "    .dataframe tbody tr th:only-of-type {\n",
       "        vertical-align: middle;\n",
       "    }\n",
       "\n",
       "    .dataframe tbody tr th {\n",
       "        vertical-align: top;\n",
       "    }\n",
       "\n",
       "    .dataframe thead th {\n",
       "        text-align: right;\n",
       "    }\n",
       "</style>\n",
       "<table border=\"1\" class=\"dataframe\">\n",
       "  <thead>\n",
       "    <tr style=\"text-align: right;\">\n",
       "      <th></th>\n",
       "      <th>instructor</th>\n",
       "      <th>preds</th>\n",
       "    </tr>\n",
       "  </thead>\n",
       "  <tbody>\n",
       "    <tr>\n",
       "      <th>0</th>\n",
       "      <td>Tim Book - Lecture 6.06</td>\n",
       "      <td>1</td>\n",
       "    </tr>\n",
       "    <tr>\n",
       "      <th>1</th>\n",
       "      <td>Rilley Dallas - Lecture 4.02</td>\n",
       "      <td>0</td>\n",
       "    </tr>\n",
       "    <tr>\n",
       "      <th>2</th>\n",
       "      <td>Rilley Dallas - Lecture 6.03</td>\n",
       "      <td>0</td>\n",
       "    </tr>\n",
       "    <tr>\n",
       "      <th>3</th>\n",
       "      <td>Matt Breams - Lab 5.02</td>\n",
       "      <td>1</td>\n",
       "    </tr>\n",
       "    <tr>\n",
       "      <th>4</th>\n",
       "      <td>Riley Breams - Lecture 6.03</td>\n",
       "      <td>0</td>\n",
       "    </tr>\n",
       "    <tr>\n",
       "      <th>5</th>\n",
       "      <td>Dan Ovadia - Brand Statement</td>\n",
       "      <td>1</td>\n",
       "    </tr>\n",
       "  </tbody>\n",
       "</table>\n",
       "</div>"
      ],
      "text/plain": [
       "                     instructor  preds\n",
       "0       Tim Book - Lecture 6.06      1\n",
       "1  Rilley Dallas - Lecture 4.02      0\n",
       "2  Rilley Dallas - Lecture 6.03      0\n",
       "3        Matt Breams - Lab 5.02      1\n",
       "4   Riley Breams - Lecture 6.03      0\n",
       "5  Dan Ovadia - Brand Statement      1"
      ]
     },
     "execution_count": 8,
     "metadata": {},
     "output_type": "execute_result"
    }
   ],
   "source": [
    "predict = pd.DataFrame({'instructor':X_input['Instructor'], \"preds\":pipe_v3.predict(X_input)})\n",
    "predict"
   ]
  },
  {
   "cell_type": "markdown",
   "metadata": {},
   "source": [
    "We can now reflect on the probabilities for these predictions"
   ]
  },
  {
   "cell_type": "code",
   "execution_count": 9,
   "metadata": {},
   "outputs": [
    {
     "data": {
      "text/plain": [
       "array([[0.39465957, 0.60534043],\n",
       "       [0.65418365, 0.34581635],\n",
       "       [0.73071228, 0.26928772],\n",
       "       [0.1610893 , 0.8389107 ],\n",
       "       [0.59470367, 0.40529633],\n",
       "       [0.01843634, 0.98156366]])"
      ]
     },
     "execution_count": 9,
     "metadata": {},
     "output_type": "execute_result"
    }
   ],
   "source": [
    "pipe_v3.predict_proba(X_input)"
   ]
  },
  {
   "cell_type": "markdown",
   "metadata": {},
   "source": [
    "### Extract Coefficients and Features"
   ]
  },
  {
   "cell_type": "code",
   "execution_count": 10,
   "metadata": {},
   "outputs": [],
   "source": [
    "pipe_coefficients = pipe_v3.named_steps['logreg'].coef_[0]"
   ]
  },
  {
   "cell_type": "code",
   "execution_count": 11,
   "metadata": {},
   "outputs": [],
   "source": [
    "# Extract the features from the FeatureUnion -> Transformerlist -> tvec\n",
    "merged_features = pipe_v3.named_steps['features'].transformer_list[0][1].named_steps['tvec'].get_feature_names()\n",
    "st_urls_features = pipe_v3.named_steps['features'].transformer_list[1][1].named_steps['tvec'].get_feature_names()\n",
    "t_urls_features = pipe_v3.named_steps['features'].transformer_list[2][1].named_steps['tvec'].get_feature_names()"
   ]
  },
  {
   "cell_type": "code",
   "execution_count": 12,
   "metadata": {},
   "outputs": [],
   "source": [
    "combined_features = merged_features + st_urls_features + t_urls_features"
   ]
  },
  {
   "cell_type": "code",
   "execution_count": 13,
   "metadata": {},
   "outputs": [
    {
     "data": {
      "text/plain": [
       "190"
      ]
     },
     "execution_count": 13,
     "metadata": {},
     "output_type": "execute_result"
    }
   ],
   "source": [
    "len(combined_features)"
   ]
  },
  {
   "cell_type": "markdown",
   "metadata": {},
   "source": [
    "So we have 190 total features from our vectorizers."
   ]
  },
  {
   "cell_type": "code",
   "execution_count": 14,
   "metadata": {},
   "outputs": [],
   "source": [
    "# coefficient df\n",
    "coef_df = pd.DataFrame({'features':combined_features, \n",
    "                        'coef':pipe_coefficients,\n",
    "                        'exp_coef':np.exp(pipe_coefficients)})\n",
    "coef_df = coef_df.set_index('features')"
   ]
  },
  {
   "cell_type": "code",
   "execution_count": 15,
   "metadata": {},
   "outputs": [],
   "source": [
    "coef_df.sort_values(by= 'coef', inplace = True, ascending = False)"
   ]
  },
  {
   "cell_type": "code",
   "execution_count": 16,
   "metadata": {},
   "outputs": [
    {
     "data": {
      "image/png": "[encoded data removed]",
      "text/plain": [
       "<Figure size 1440x720 with 1 Axes>"
      ]
     },
     "metadata": {
      "needs_background": "light"
     },
     "output_type": "display_data"
    }
   ],
   "source": [
    "weights = coef_df['exp_coef'].head(10).sort_values()\n",
    "labels = weights.index\n",
    "\n",
    "plt.figure(figsize=(20,10))\n",
    "plt.barh(labels, weights, color = 'coral')\n",
    "plt.yticks(fontsize=20)\n",
    "plt.xticks(fontsize=20)\n",
    "plt.xlabel('Exp Coef', fontsize=30)\n",
    "plt.title(f'Top 10 Features - datascience', fontsize=42)\n",
    "plt.tight_layout()\n",
    "\n",
    "plt.savefig('./plots/coef_datascience.png')"
   ]
  },
  {
   "cell_type": "markdown",
   "metadata": {},
   "source": [
    "Here we see Data, SQL, analyst, and business oriented words having high coeffiecients. These represent, for an incremental increase in the number of times data appears in a post, the odds of it being from the datascience subreddit increases by over 160, all other variables held equal. "
   ]
  },
  {
   "cell_type": "code",
   "execution_count": 17,
   "metadata": {},
   "outputs": [
    {
     "data": {
      "image/png": "[encoded data removed]",
      "text/plain": [
       "<Figure size 1440x720 with 1 Axes>"
      ]
     },
     "metadata": {
      "needs_background": "light"
     },
     "output_type": "display_data"
    }
   ],
   "source": [
    "weights = coef_df['exp_coef'].sort_values(ascending = True).head(10)\n",
    "labels = weights.index\n",
    "\n",
    "plt.figure(figsize=(20,10))\n",
    "plt.barh(labels, weights, color = 'dodgerblue')\n",
    "plt.yticks(fontsize=20)\n",
    "plt.xticks(fontsize=20)\n",
    "plt.xlabel('Exp Coef', fontsize=30)\n",
    "plt.title(f'Top 10 Features - machinelearning', fontsize=42)\n",
    "plt.tight_layout()\n",
    "\n",
    "plt.savefig('./plots/coef_machinelearning.png')"
   ]
  },
  {
   "cell_type": "code",
   "execution_count": 18,
   "metadata": {},
   "outputs": [
    {
     "data": {
      "text/html": [
       "<div>\n",
       "<style scoped>\n",
       "    .dataframe tbody tr th:only-of-type {\n",
       "        vertical-align: middle;\n",
       "    }\n",
       "\n",
       "    .dataframe tbody tr th {\n",
       "        vertical-align: top;\n",
       "    }\n",
       "\n",
       "    .dataframe thead th {\n",
       "        text-align: right;\n",
       "    }\n",
       "</style>\n",
       "<table border=\"1\" class=\"dataframe\">\n",
       "  <thead>\n",
       "    <tr style=\"text-align: right;\">\n",
       "      <th></th>\n",
       "      <th>coef</th>\n",
       "      <th>exp_coef</th>\n",
       "    </tr>\n",
       "    <tr>\n",
       "      <th>features</th>\n",
       "      <th></th>\n",
       "      <th></th>\n",
       "    </tr>\n",
       "  </thead>\n",
       "  <tbody>\n",
       "    <tr>\n",
       "      <th>data</th>\n",
       "      <td>5.103762</td>\n",
       "      <td>164.640181</td>\n",
       "    </tr>\n",
       "    <tr>\n",
       "      <th>sql</th>\n",
       "      <td>4.277400</td>\n",
       "      <td>72.052865</td>\n",
       "    </tr>\n",
       "    <tr>\n",
       "      <th>analyst</th>\n",
       "      <td>3.500104</td>\n",
       "      <td>33.118887</td>\n",
       "    </tr>\n",
       "    <tr>\n",
       "      <th>career</th>\n",
       "      <td>3.404063</td>\n",
       "      <td>30.086081</td>\n",
       "    </tr>\n",
       "    <tr>\n",
       "      <th>analytics</th>\n",
       "      <td>3.276683</td>\n",
       "      <td>26.487756</td>\n",
       "    </tr>\n",
       "    <tr>\n",
       "      <th>analysis</th>\n",
       "      <td>2.777070</td>\n",
       "      <td>16.071856</td>\n",
       "    </tr>\n",
       "    <tr>\n",
       "      <th>statistics</th>\n",
       "      <td>2.752263</td>\n",
       "      <td>15.678065</td>\n",
       "    </tr>\n",
       "    <tr>\n",
       "      <th>skills</th>\n",
       "      <td>2.381852</td>\n",
       "      <td>10.824932</td>\n",
       "    </tr>\n",
       "    <tr>\n",
       "      <th>job</th>\n",
       "      <td>2.285763</td>\n",
       "      <td>9.833187</td>\n",
       "    </tr>\n",
       "    <tr>\n",
       "      <th>business</th>\n",
       "      <td>2.100578</td>\n",
       "      <td>8.170888</td>\n",
       "    </tr>\n",
       "    <tr>\n",
       "      <th>regression</th>\n",
       "      <td>2.009703</td>\n",
       "      <td>7.461100</td>\n",
       "    </tr>\n",
       "    <tr>\n",
       "      <th>company</th>\n",
       "      <td>1.907085</td>\n",
       "      <td>6.733430</td>\n",
       "    </tr>\n",
       "    <tr>\n",
       "      <th>position</th>\n",
       "      <td>1.713097</td>\n",
       "      <td>5.546114</td>\n",
       "    </tr>\n",
       "    <tr>\n",
       "      <th>masters</th>\n",
       "      <td>1.635363</td>\n",
       "      <td>5.131321</td>\n",
       "    </tr>\n",
       "    <tr>\n",
       "      <th>courses</th>\n",
       "      <td>1.531715</td>\n",
       "      <td>4.626106</td>\n",
       "    </tr>\n",
       "    <tr>\n",
       "      <th>programming</th>\n",
       "      <td>1.487138</td>\n",
       "      <td>4.424416</td>\n",
       "    </tr>\n",
       "    <tr>\n",
       "      <th>degree</th>\n",
       "      <td>1.468014</td>\n",
       "      <td>4.340606</td>\n",
       "    </tr>\n",
       "    <tr>\n",
       "      <th>program</th>\n",
       "      <td>1.422925</td>\n",
       "      <td>4.149241</td>\n",
       "    </tr>\n",
       "    <tr>\n",
       "      <th>experience</th>\n",
       "      <td>1.345269</td>\n",
       "      <td>3.839217</td>\n",
       "    </tr>\n",
       "    <tr>\n",
       "      <th>com</th>\n",
       "      <td>1.306370</td>\n",
       "      <td>3.692746</td>\n",
       "    </tr>\n",
       "  </tbody>\n",
       "</table>\n",
       "</div>"
      ],
      "text/plain": [
       "                 coef    exp_coef\n",
       "features                         \n",
       "data         5.103762  164.640181\n",
       "sql          4.277400   72.052865\n",
       "analyst      3.500104   33.118887\n",
       "career       3.404063   30.086081\n",
       "analytics    3.276683   26.487756\n",
       "analysis     2.777070   16.071856\n",
       "statistics   2.752263   15.678065\n",
       "skills       2.381852   10.824932\n",
       "job          2.285763    9.833187\n",
       "business     2.100578    8.170888\n",
       "regression   2.009703    7.461100\n",
       "company      1.907085    6.733430\n",
       "position     1.713097    5.546114\n",
       "masters      1.635363    5.131321\n",
       "courses      1.531715    4.626106\n",
       "programming  1.487138    4.424416\n",
       "degree       1.468014    4.340606\n",
       "program      1.422925    4.149241\n",
       "experience   1.345269    3.839217\n",
       "com          1.306370    3.692746"
      ]
     },
     "execution_count": 18,
     "metadata": {},
     "output_type": "execute_result"
    }
   ],
   "source": [
    "coef_df[:20]"
   ]
  },
  {
   "cell_type": "code",
   "execution_count": 19,
   "metadata": {},
   "outputs": [
    {
     "data": {
      "text/html": [
       "<div>\n",
       "<style scoped>\n",
       "    .dataframe tbody tr th:only-of-type {\n",
       "        vertical-align: middle;\n",
       "    }\n",
       "\n",
       "    .dataframe tbody tr th {\n",
       "        vertical-align: top;\n",
       "    }\n",
       "\n",
       "    .dataframe thead th {\n",
       "        text-align: right;\n",
       "    }\n",
       "</style>\n",
       "<table border=\"1\" class=\"dataframe\">\n",
       "  <thead>\n",
       "    <tr style=\"text-align: right;\">\n",
       "      <th></th>\n",
       "      <th>coef</th>\n",
       "      <th>exp_coef</th>\n",
       "    </tr>\n",
       "    <tr>\n",
       "      <th>features</th>\n",
       "      <th></th>\n",
       "      <th></th>\n",
       "    </tr>\n",
       "  </thead>\n",
       "  <tbody>\n",
       "    <tr>\n",
       "      <th>output</th>\n",
       "      <td>-1.109745</td>\n",
       "      <td>0.329643</td>\n",
       "    </tr>\n",
       "    <tr>\n",
       "      <th>youtube</th>\n",
       "      <td>-1.142243</td>\n",
       "      <td>0.319102</td>\n",
       "    </tr>\n",
       "    <tr>\n",
       "      <th>results</th>\n",
       "      <td>-1.208003</td>\n",
       "      <td>0.298794</td>\n",
       "    </tr>\n",
       "    <tr>\n",
       "      <th>networks</th>\n",
       "      <td>-1.264801</td>\n",
       "      <td>0.282295</td>\n",
       "    </tr>\n",
       "    <tr>\n",
       "      <th>input</th>\n",
       "      <td>-1.455108</td>\n",
       "      <td>0.233375</td>\n",
       "    </tr>\n",
       "    <tr>\n",
       "      <th>neural</th>\n",
       "      <td>-1.685598</td>\n",
       "      <td>0.185334</td>\n",
       "    </tr>\n",
       "    <tr>\n",
       "      <th>images</th>\n",
       "      <td>-1.888206</td>\n",
       "      <td>0.151343</td>\n",
       "    </tr>\n",
       "    <tr>\n",
       "      <th>arxiv</th>\n",
       "      <td>-1.914095</td>\n",
       "      <td>0.147475</td>\n",
       "    </tr>\n",
       "    <tr>\n",
       "      <th>deep</th>\n",
       "      <td>-1.915004</td>\n",
       "      <td>0.147341</td>\n",
       "    </tr>\n",
       "    <tr>\n",
       "      <th>image</th>\n",
       "      <td>-2.036605</td>\n",
       "      <td>0.130471</td>\n",
       "    </tr>\n",
       "    <tr>\n",
       "      <th>network</th>\n",
       "      <td>-2.121408</td>\n",
       "      <td>0.119863</td>\n",
       "    </tr>\n",
       "    <tr>\n",
       "      <th>research</th>\n",
       "      <td>-2.146417</td>\n",
       "      <td>0.116902</td>\n",
       "    </tr>\n",
       "    <tr>\n",
       "      <th>training</th>\n",
       "      <td>-2.198079</td>\n",
       "      <td>0.111016</td>\n",
       "    </tr>\n",
       "    <tr>\n",
       "      <th>train</th>\n",
       "      <td>-2.223346</td>\n",
       "      <td>0.108246</td>\n",
       "    </tr>\n",
       "    <tr>\n",
       "      <th>arxiv</th>\n",
       "      <td>-2.252201</td>\n",
       "      <td>0.105167</td>\n",
       "    </tr>\n",
       "    <tr>\n",
       "      <th>ai</th>\n",
       "      <td>-2.314964</td>\n",
       "      <td>0.098770</td>\n",
       "    </tr>\n",
       "    <tr>\n",
       "      <th>tensorflow</th>\n",
       "      <td>-2.519169</td>\n",
       "      <td>0.080527</td>\n",
       "    </tr>\n",
       "    <tr>\n",
       "      <th>papers</th>\n",
       "      <td>-2.818904</td>\n",
       "      <td>0.059671</td>\n",
       "    </tr>\n",
       "    <tr>\n",
       "      <th>ml</th>\n",
       "      <td>-2.903394</td>\n",
       "      <td>0.054837</td>\n",
       "    </tr>\n",
       "    <tr>\n",
       "      <th>paper</th>\n",
       "      <td>-3.268225</td>\n",
       "      <td>0.038074</td>\n",
       "    </tr>\n",
       "  </tbody>\n",
       "</table>\n",
       "</div>"
      ],
      "text/plain": [
       "                coef  exp_coef\n",
       "features                      \n",
       "output     -1.109745  0.329643\n",
       "youtube    -1.142243  0.319102\n",
       "results    -1.208003  0.298794\n",
       "networks   -1.264801  0.282295\n",
       "input      -1.455108  0.233375\n",
       "neural     -1.685598  0.185334\n",
       "images     -1.888206  0.151343\n",
       "arxiv      -1.914095  0.147475\n",
       "deep       -1.915004  0.147341\n",
       "image      -2.036605  0.130471\n",
       "network    -2.121408  0.119863\n",
       "research   -2.146417  0.116902\n",
       "training   -2.198079  0.111016\n",
       "train      -2.223346  0.108246\n",
       "arxiv      -2.252201  0.105167\n",
       "ai         -2.314964  0.098770\n",
       "tensorflow -2.519169  0.080527\n",
       "papers     -2.818904  0.059671\n",
       "ml         -2.903394  0.054837\n",
       "paper      -3.268225  0.038074"
      ]
     },
     "execution_count": 19,
     "metadata": {},
     "output_type": "execute_result"
    }
   ],
   "source": [
    "coef_df[-20:]"
   ]
  },
  {
   "cell_type": "markdown",
   "metadata": {},
   "source": [
    "### Instantiate TFIDF and create transformation"
   ]
  },
  {
   "cell_type": "code",
   "execution_count": 20,
   "metadata": {},
   "outputs": [],
   "source": [
    "cvec = CountVectorizer(stop_words = personal_stopwords, \n",
    "                       max_features = 173, \n",
    "                       max_df = 0.8, \n",
    "                       min_df = 4)\n",
    "\n",
    "cvec.fit(X_train['merged'], y_train)\n",
    "cvec_feature_names = cvec.get_feature_names()\n",
    "\n",
    "C_train = cvec.transform(X_train['merged'])\n",
    "C_test = cvec.transform(X_test['merged'])\n",
    "\n",
    "cvec_transformed_train_df = pd.DataFrame(C_train.toarray(),\n",
    "                                        columns = cvec_feature_names)\n",
    "\n",
    "cvec_transformed_test_df = pd.DataFrame(C_test.toarray(),\n",
    "                                        columns = cvec_feature_names)\n",
    "\n",
    "# Instantiate TFIDF\n",
    "tvec = TfidfVectorizer(stop_words = personal_stopwords, \n",
    "                      max_features = 173,\n",
    "                      max_df = 0.8\n",
    "                     )\n",
    "tvec.fit(X_train['clean_selftext'],y_train)\n",
    "# Extract features names for future use\n",
    "feature_names = tvec.get_feature_names()\n",
    "\n",
    "# Transform our data: Train/Test\n",
    "V_train = tvec.transform(X_train['clean_selftext'])\n",
    "V_test = tvec.transform(X_test['clean_selftext'])\n",
    "\n",
    "\n",
    "# convert sparse matrix to dataframe\n",
    "transformed_train_df = pd.DataFrame(V_train.toarray(), \n",
    "                             columns = feature_names)\n",
    "\n",
    "# convert sparse matrix to dataframe\n",
    "transformed_test_df = pd.DataFrame(V_test.toarray(), \n",
    "                             columns = feature_names)"
   ]
  },
  {
   "cell_type": "code",
   "execution_count": 21,
   "metadata": {},
   "outputs": [
    {
     "name": "stdout",
     "output_type": "stream",
     "text": [
      "(29837, 173)\n",
      "(9946, 173)\n"
     ]
    }
   ],
   "source": [
    "print(transformed_train_df.shape)\n",
    "print(transformed_test_df.shape)"
   ]
  },
  {
   "cell_type": "markdown",
   "metadata": {},
   "source": [
    "### Logistic Regression with TFIDF Vectorizer"
   ]
  },
  {
   "cell_type": "code",
   "execution_count": 22,
   "metadata": {},
   "outputs": [
    {
     "name": "stdout",
     "output_type": "stream",
     "text": [
      "[0.72989276 0.72939008 0.7224736  0.73386962 0.72817161]\n",
      "Train Accuracy Score: 0.7328484767235312\n",
      "\n",
      "[0.72713568 0.72900955 0.72448467 0.72599296 0.72599296]\n",
      "Test Accuracy Score: 0.7287351699175548\n",
      "CPU times: user 8.65 s, sys: 476 ms, total: 9.13 s\n",
      "Wall time: 6.83 s\n"
     ]
    }
   ],
   "source": [
    "%%time\n",
    "# Instantiate Logistic Regression\n",
    "lr = LogisticRegression(penalty = 'l2', \n",
    "                        C = 0.8,\n",
    "                        random_state = 42)\n",
    "# Fit\n",
    "lr.fit(transformed_train_df, y_train)\n",
    "\n",
    "# Export coeficients to series\n",
    "lr_coef = pd.Series(np.exp(lr.coef_[0]), index = feature_names)\n",
    "\n",
    "# Print Train Scores\n",
    "print(cross_val_score(lr, transformed_train_df, y_train))\n",
    "print(f\"Train Accuracy Score: {lr.score(transformed_train_df, y_train)}\")\n",
    "print()\n",
    "\n",
    "# Print Train Scores\n",
    "print(cross_val_score(lr, transformed_test_df, y_test))\n",
    "print(f\"Test Accuracy Score: {lr.score(transformed_test_df, y_test)}\")"
   ]
  },
  {
   "cell_type": "markdown",
   "metadata": {},
   "source": [
    "For this Logistic regression, we seem to be getting pretty consistent scores. Relatively high, but we also haven't tuned many of the parameters. Here we used a CountVectorizer.\n",
    "\n",
    "Train score of 0.7314743439353822\n",
    "Test score of 0.7382867484415846"
   ]
  },
  {
   "cell_type": "markdown",
   "metadata": {},
   "source": [
    "### Apply StandardScaler\n",
    "We will apply StandardScaler to our vectorized train and test data to input into SVC"
   ]
  },
  {
   "cell_type": "code",
   "execution_count": 23,
   "metadata": {},
   "outputs": [],
   "source": [
    "# Instantiate StandardScaler\n",
    "ss = StandardScaler()\n",
    "\n",
    "# fit the transformation to train\n",
    "ss.fit(transformed_train_df, y_train)\n",
    "\n",
    "# transform train/test\n",
    "SS_train = ss.transform(transformed_train_df)\n",
    "SS_test = ss.transform(transformed_test_df)"
   ]
  },
  {
   "cell_type": "markdown",
   "metadata": {},
   "source": [
    "### Logistic Regression with StandardScaler"
   ]
  },
  {
   "cell_type": "code",
   "execution_count": 24,
   "metadata": {},
   "outputs": [
    {
     "name": "stdout",
     "output_type": "stream",
     "text": [
      "[0.72905496 0.72754692 0.72331155 0.73386962 0.72850679]\n",
      "Train Accuracy Score: 0.7293628716023729\n",
      "\n",
      "[0.72713568 0.72850679 0.72046254 0.72498743 0.72800402]\n",
      "Test Accuracy Score: 0.7215966217574904\n"
     ]
    }
   ],
   "source": [
    "# reapplying a Logistic Regresion\n",
    "tr = LogisticRegression()\n",
    "\n",
    "tr.fit(SS_train, y_train)\n",
    "len(tr.coef_[0])\n",
    "\n",
    "print(cross_val_score(lr, SS_train, y_train))\n",
    "print(f\"Train Accuracy Score: {lr.score(SS_train, y_train)}\")\n",
    "print()\n",
    "\n",
    "# Print Train Scores\n",
    "print(cross_val_score(lr, SS_test, y_test))\n",
    "print(f\"Test Accuracy Score: {lr.score(SS_test, y_test)}\")"
   ]
  },
  {
   "cell_type": "markdown",
   "metadata": {},
   "source": [
    "### SVC model\n",
    "\n",
    "Even though we will not be able to extract any interpretibility from an Support Vector Classifier. Lets attempt to run one and see what the scores may be. "
   ]
  },
  {
   "cell_type": "code",
   "execution_count": 25,
   "metadata": {},
   "outputs": [],
   "source": [
    "# Shutting this down for now to save my computer some pain\n",
    "\n",
    "#%%time\n",
    "#svc = SVC()\n",
    "#svc.fit(SS_train, y_train)\n",
    "\n",
    "#print(cross_val_score(svc, SS_train, y_train))\n",
    "#print(f\"Train Accuracy Score: {svc.score(SS_train, y_train)}\")\n",
    "#print()\n",
    "\n",
    "## Print Train Scores\n",
    "#print(cross_val_score(svc, SS_test, y_test))\n",
    "#print(f\"Test Accuracy Score: {svc.score(SS_test, y_test)}\")"
   ]
  },
  {
   "cell_type": "markdown",
   "metadata": {},
   "source": [
    "Looks like we have a mild improvement. Yet nothing really to write home about. OVerall though, looks like our variance is still solid. "
   ]
  },
  {
   "cell_type": "markdown",
   "metadata": {},
   "source": [
    "### Pipeline & Gridsearch/"
   ]
  },
  {
   "cell_type": "code",
   "execution_count": 26,
   "metadata": {
    "scrolled": true
   },
   "outputs": [
    {
     "name": "stderr",
     "output_type": "stream",
     "text": [
      "/Users/DanOvadia/opt/anaconda3/lib/python3.7/site-packages/sklearn/linear_model/_logistic.py:940: ConvergenceWarning: lbfgs failed to converge (status=1):\n",
      "STOP: TOTAL NO. of ITERATIONS REACHED LIMIT.\n",
      "\n",
      "Increase the number of iterations (max_iter) or scale the data as shown in:\n",
      "    https://scikit-learn.org/stable/modules/preprocessing.html\n",
      "Please also refer to the documentation for alternative solver options:\n",
      "    https://scikit-learn.org/stable/modules/linear_model.html#logistic-regression\n",
      "  extra_warning_msg=_LOGISTIC_SOLVER_CONVERGENCE_MSG)\n",
      "/Users/DanOvadia/opt/anaconda3/lib/python3.7/site-packages/sklearn/linear_model/_logistic.py:940: ConvergenceWarning: lbfgs failed to converge (status=1):\n",
      "STOP: TOTAL NO. of ITERATIONS REACHED LIMIT.\n",
      "\n",
      "Increase the number of iterations (max_iter) or scale the data as shown in:\n",
      "    https://scikit-learn.org/stable/modules/preprocessing.html\n",
      "Please also refer to the documentation for alternative solver options:\n",
      "    https://scikit-learn.org/stable/modules/linear_model.html#logistic-regression\n",
      "  extra_warning_msg=_LOGISTIC_SOLVER_CONVERGENCE_MSG)\n",
      "/Users/DanOvadia/opt/anaconda3/lib/python3.7/site-packages/sklearn/linear_model/_logistic.py:940: ConvergenceWarning: lbfgs failed to converge (status=1):\n",
      "STOP: TOTAL NO. of ITERATIONS REACHED LIMIT.\n",
      "\n",
      "Increase the number of iterations (max_iter) or scale the data as shown in:\n",
      "    https://scikit-learn.org/stable/modules/preprocessing.html\n",
      "Please also refer to the documentation for alternative solver options:\n",
      "    https://scikit-learn.org/stable/modules/linear_model.html#logistic-regression\n",
      "  extra_warning_msg=_LOGISTIC_SOLVER_CONVERGENCE_MSG)\n",
      "/Users/DanOvadia/opt/anaconda3/lib/python3.7/site-packages/sklearn/linear_model/_logistic.py:940: ConvergenceWarning: lbfgs failed to converge (status=1):\n",
      "STOP: TOTAL NO. of ITERATIONS REACHED LIMIT.\n",
      "\n",
      "Increase the number of iterations (max_iter) or scale the data as shown in:\n",
      "    https://scikit-learn.org/stable/modules/preprocessing.html\n",
      "Please also refer to the documentation for alternative solver options:\n",
      "    https://scikit-learn.org/stable/modules/linear_model.html#logistic-regression\n",
      "  extra_warning_msg=_LOGISTIC_SOLVER_CONVERGENCE_MSG)\n",
      "/Users/DanOvadia/opt/anaconda3/lib/python3.7/site-packages/sklearn/linear_model/_logistic.py:940: ConvergenceWarning: lbfgs failed to converge (status=1):\n",
      "STOP: TOTAL NO. of ITERATIONS REACHED LIMIT.\n",
      "\n",
      "Increase the number of iterations (max_iter) or scale the data as shown in:\n",
      "    https://scikit-learn.org/stable/modules/preprocessing.html\n",
      "Please also refer to the documentation for alternative solver options:\n",
      "    https://scikit-learn.org/stable/modules/linear_model.html#logistic-regression\n",
      "  extra_warning_msg=_LOGISTIC_SOLVER_CONVERGENCE_MSG)\n",
      "/Users/DanOvadia/opt/anaconda3/lib/python3.7/site-packages/sklearn/linear_model/_logistic.py:940: ConvergenceWarning: lbfgs failed to converge (status=1):\n",
      "STOP: TOTAL NO. of ITERATIONS REACHED LIMIT.\n",
      "\n",
      "Increase the number of iterations (max_iter) or scale the data as shown in:\n",
      "    https://scikit-learn.org/stable/modules/preprocessing.html\n",
      "Please also refer to the documentation for alternative solver options:\n",
      "    https://scikit-learn.org/stable/modules/linear_model.html#logistic-regression\n",
      "  extra_warning_msg=_LOGISTIC_SOLVER_CONVERGENCE_MSG)\n",
      "/Users/DanOvadia/opt/anaconda3/lib/python3.7/site-packages/sklearn/linear_model/_logistic.py:940: ConvergenceWarning: lbfgs failed to converge (status=1):\n",
      "STOP: TOTAL NO. of ITERATIONS REACHED LIMIT.\n",
      "\n",
      "Increase the number of iterations (max_iter) or scale the data as shown in:\n",
      "    https://scikit-learn.org/stable/modules/preprocessing.html\n",
      "Please also refer to the documentation for alternative solver options:\n",
      "    https://scikit-learn.org/stable/modules/linear_model.html#logistic-regression\n",
      "  extra_warning_msg=_LOGISTIC_SOLVER_CONVERGENCE_MSG)\n"
     ]
    },
    {
     "name": "stdout",
     "output_type": "stream",
     "text": [
      "0.7436069309917217\n",
      "0.7345666599638045\n",
      "CPU times: user 2min 39s, sys: 5.4 s, total: 2min 45s\n",
      "Wall time: 3min 12s\n"
     ]
    },
    {
     "data": {
      "text/plain": [
       "{'lr__C': 10.0,\n",
       " 'vec__max_df': 0.8,\n",
       " 'vec__max_features': 173,\n",
       " 'vec__ngram_range': (1, 1),\n",
       " 'vec__stop_words': 'english'}"
      ]
     },
     "execution_count": 26,
     "metadata": {},
     "output_type": "execute_result"
    }
   ],
   "source": [
    "%%time\n",
    "# Instantiate Pipeline\n",
    "\n",
    "C = np.logspace(-2,1,15)\n",
    "pipe = Pipeline([\n",
    "    ('vec',TfidfVectorizer()),\n",
    "    ('lr',LogisticRegression())\n",
    "])\n",
    "# Define pipe parameters\n",
    "pipe_params = {\n",
    "    'vec__max_features':[173],\n",
    "    'vec__max_df':[0.8],\n",
    "    'vec__max_df':[0.8],\n",
    "    'vec__stop_words': ['english'],\n",
    "    'vec__ngram_range':[(1,1)],\n",
    "    'lr__C': C\n",
    "    #'lr__penalty':['l2']\n",
    "}\n",
    "\n",
    "# Instantiate Grid Search\n",
    "gs = GridSearchCV(pipe, pipe_params, cv= 5)\n",
    "gs.fit(X_train['clean_selftext'], y_train)\n",
    "print(gs.score(X_train['clean_selftext'], y_train))\n",
    "print(gs.score(X_test['clean_selftext'], y_test))\n",
    "gs.best_params_\n"
   ]
  },
  {
   "cell_type": "markdown",
   "metadata": {},
   "source": [
    "## Gausian Naive Bayes\n",
    "\n",
    "To consider ease of  use and convenience, lets also run scores for Naive Bayes, specifically using TFIDF transformer and Count transformer on a gaussian and multinomial Naive Bayes models, respectively. "
   ]
  },
  {
   "cell_type": "code",
   "execution_count": 27,
   "metadata": {},
   "outputs": [
    {
     "name": "stdout",
     "output_type": "stream",
     "text": [
      "0.7057344907329826\n",
      "0.7061130102553791\n",
      "[0.70157507 0.69872654 0.70253058 0.71091001 0.7095693 ]\n",
      "[0.70201005 0.69934641 0.70387129 0.70035194 0.70588235]\n"
     ]
    }
   ],
   "source": [
    "gnb = GaussianNB()\n",
    "gnb.fit(transformed_train_df, y_train)\n",
    "gnb_preds = gnb.predict(transformed_test_df)\n",
    "\n",
    "print(gnb.score(transformed_train_df, y_train))\n",
    "print(gnb.score(transformed_test_df, y_test))\n",
    "\n",
    "print(cross_val_score(gnb, transformed_train_df, y_train))\n",
    "print(cross_val_score(gnb, transformed_test_df, y_test))"
   ]
  },
  {
   "cell_type": "markdown",
   "metadata": {},
   "source": [
    "## Multinomial Naive Bayes"
   ]
  },
  {
   "cell_type": "code",
   "execution_count": 29,
   "metadata": {},
   "outputs": [
    {
     "name": "stdout",
     "output_type": "stream",
     "text": [
      "0.7295974796393739\n",
      "0.7324552583953348\n",
      "[0.72486595 0.73173592 0.72565778 0.71995978 0.74057315]\n",
      "[0.73165829 0.74007039 0.71493213 0.73051785 0.72347914]\n"
     ]
    }
   ],
   "source": [
    "mnb = MultinomialNB()\n",
    "mnb.fit(cvec_transformed_train_df, y_train)\n",
    "print(mnb.score(cvec_transformed_train_df, y_train))\n",
    "print(mnb.score(cvec_transformed_test_df, y_test))\n",
    "\n",
    "print(cross_val_score(mnb, cvec_transformed_train_df, y_train))\n",
    "print(cross_val_score(mnb, cvec_transformed_test_df, y_test))"
   ]
  },
  {
   "cell_type": "markdown",
   "metadata": {},
   "source": [
    "Overall, we are still seeing roughly the same scores. Overall it seems that a TFIDF vectorization along with a Logistic regression is so far the best bang for our buck. We may be able to further tune our parameters, but overall these seem to be the best results we'll be abel to get for the least amount of effort. "
   ]
  },
  {
   "cell_type": "markdown",
   "metadata": {},
   "source": [
    "### Next Steps:\n",
    "\n",
    "I would like to further examine KNN modeling, as well as possibly Forest Classifiers. We may be able to achieve more accuracy if we build on top of a forest, or bagg a handful of estimators. It would also be intriguing to use different estimators on different sets of the features available and then pack them into a VotingClassifier. \n",
    "\n",
    "In terms of feature exploration, I would like to further explore the other numerical columns such as score, number of comments, number of crossposts. "
   ]
  }
 ],
 "metadata": {
  "kernelspec": {
   "display_name": "Python 3",
   "language": "python",
   "name": "python3"
  },
  "language_info": {
   "codemirror_mode": {
    "name": "ipython",
    "version": 3
   },
   "file_extension": ".py",
   "mimetype": "text/x-python",
   "name": "python",
   "nbconvert_exporter": "python",
   "pygments_lexer": "ipython3",
   "version": "3.7.6"
  }
 },
 "nbformat": 4,
 "nbformat_minor": 4
}
