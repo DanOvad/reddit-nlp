{
 "cells": [
  {
   "cell_type": "markdown",
   "metadata": {},
   "source": [
    "# Cleaning"
   ]
  },
  {
   "cell_type": "markdown",
   "metadata": {},
   "source": [
    "Import relevant packages:\n",
    "- Here we will include the big three: pandas, numpy, and matplotlib\n",
    "- BeautifulSoup for cleaning html artifacts from our data"
   ]
  },
  {
   "cell_type": "code",
   "execution_count": 1,
   "metadata": {},
   "outputs": [],
   "source": [
    "import pandas as pd\n",
    "import numpy as np\n",
    "import regex as re\n",
    "import matplotlib.pyplot as plt\n",
    "\n",
    "\n",
    "from bs4 import BeautifulSoup\n",
    "\n",
    "from nltk.corpus import stopwords\n",
    "\n",
    "from sklearn.model_selection import train_test_split, GridSearchCV, cross_val_score\n",
    "from sklearn.pipeline import Pipeline\n",
    "from sklearn.feature_extraction.text import CountVectorizer, TfidfVectorizer\n",
    "from sklearn.linear_model import LogisticRegression\n",
    "from sklearn.preprocessing import StandardScaler\n",
    "\n",
    "from sklearn.svm import SVC\n",
    "\n",
    "from urllib.parse import urlparse"
   ]
  },
  {
   "cell_type": "markdown",
   "metadata": {},
   "source": [
    "### Read in the Data"
   ]
  },
  {
   "cell_type": "code",
   "execution_count": 2,
   "metadata": {},
   "outputs": [],
   "source": [
    "# Read in Machine learning and datascience data\n",
    "mc = pd.read_csv('./data/machinelearning_1.csv')\n",
    "ds = pd.read_csv('./data/datascience_1.csv')"
   ]
  },
  {
   "cell_type": "code",
   "execution_count": 3,
   "metadata": {},
   "outputs": [],
   "source": [
    "# Concatenate the data\n",
    "df = pd.concat([mc,ds])\n",
    "df.reset_index(drop=True, inplace = True)"
   ]
  },
  {
   "cell_type": "code",
   "execution_count": 4,
   "metadata": {},
   "outputs": [
    {
     "data": {
      "text/html": [
       "<div>\n",
       "<style scoped>\n",
       "    .dataframe tbody tr th:only-of-type {\n",
       "        vertical-align: middle;\n",
       "    }\n",
       "\n",
       "    .dataframe tbody tr th {\n",
       "        vertical-align: top;\n",
       "    }\n",
       "\n",
       "    .dataframe thead th {\n",
       "        text-align: right;\n",
       "    }\n",
       "</style>\n",
       "<table border=\"1\" class=\"dataframe\">\n",
       "  <thead>\n",
       "    <tr style=\"text-align: right;\">\n",
       "      <th></th>\n",
       "      <th>title</th>\n",
       "      <th>selftext</th>\n",
       "      <th>created_utc</th>\n",
       "      <th>num_comments</th>\n",
       "      <th>num_crossposts</th>\n",
       "      <th>score</th>\n",
       "      <th>subreddit</th>\n",
       "    </tr>\n",
       "  </thead>\n",
       "  <tbody>\n",
       "    <tr>\n",
       "      <th>0</th>\n",
       "      <td>[D] Hinton responds to Schmidhuber</td>\n",
       "      <td>NaN</td>\n",
       "      <td>1587609168</td>\n",
       "      <td>0</td>\n",
       "      <td>0</td>\n",
       "      <td>1</td>\n",
       "      <td>MachineLearning</td>\n",
       "    </tr>\n",
       "    <tr>\n",
       "      <th>1</th>\n",
       "      <td>Hinton responds to Schmidhuber</td>\n",
       "      <td>NaN</td>\n",
       "      <td>1587609111</td>\n",
       "      <td>1</td>\n",
       "      <td>0</td>\n",
       "      <td>1</td>\n",
       "      <td>MachineLearning</td>\n",
       "    </tr>\n",
       "    <tr>\n",
       "      <th>2</th>\n",
       "      <td>[D] Other than vectorization, what other aspec...</td>\n",
       "      <td>I'm helping a friend design a course with dual...</td>\n",
       "      <td>1587606108</td>\n",
       "      <td>2</td>\n",
       "      <td>0</td>\n",
       "      <td>1</td>\n",
       "      <td>MachineLearning</td>\n",
       "    </tr>\n",
       "    <tr>\n",
       "      <th>3</th>\n",
       "      <td>Survey for IT Employees working from home! Hel...</td>\n",
       "      <td>NaN</td>\n",
       "      <td>1587604741</td>\n",
       "      <td>2</td>\n",
       "      <td>0</td>\n",
       "      <td>1</td>\n",
       "      <td>MachineLearning</td>\n",
       "    </tr>\n",
       "    <tr>\n",
       "      <th>4</th>\n",
       "      <td>[R] Chip Placement with Deep Reinforcement Lea...</td>\n",
       "      <td>NaN</td>\n",
       "      <td>1587604558</td>\n",
       "      <td>1</td>\n",
       "      <td>0</td>\n",
       "      <td>1</td>\n",
       "      <td>MachineLearning</td>\n",
       "    </tr>\n",
       "  </tbody>\n",
       "</table>\n",
       "</div>"
      ],
      "text/plain": [
       "                                               title  \\\n",
       "0                 [D] Hinton responds to Schmidhuber   \n",
       "1                     Hinton responds to Schmidhuber   \n",
       "2  [D] Other than vectorization, what other aspec...   \n",
       "3  Survey for IT Employees working from home! Hel...   \n",
       "4  [R] Chip Placement with Deep Reinforcement Lea...   \n",
       "\n",
       "                                            selftext  created_utc  \\\n",
       "0                                                NaN   1587609168   \n",
       "1                                                NaN   1587609111   \n",
       "2  I'm helping a friend design a course with dual...   1587606108   \n",
       "3                                                NaN   1587604741   \n",
       "4                                                NaN   1587604558   \n",
       "\n",
       "   num_comments  num_crossposts  score        subreddit  \n",
       "0             0               0      1  MachineLearning  \n",
       "1             1               0      1  MachineLearning  \n",
       "2             2               0      1  MachineLearning  \n",
       "3             2               0      1  MachineLearning  \n",
       "4             1               0      1  MachineLearning  "
      ]
     },
     "execution_count": 4,
     "metadata": {},
     "output_type": "execute_result"
    }
   ],
   "source": [
    "df.head()"
   ]
  },
  {
   "cell_type": "markdown",
   "metadata": {},
   "source": [
    "### Cleaning [deleted] and [removed] rows from title and selftext\n",
    "\n",
    "There are still some remaining rows in title and selftext that have some deleted and removed rows.\n",
    "\n",
    "Lets create a mask that looks for them and then drops them."
   ]
  },
  {
   "cell_type": "code",
   "execution_count": 5,
   "metadata": {},
   "outputs": [],
   "source": [
    "# Create a boolean mask for titles that are removed and deleted\n",
    "title_removed = (df['title']=='[removed]')\n",
    "title_deleted = (df['title']=='[deleted]')\n",
    "\n",
    "# Create a boolean mask for subtexts that are removed and deleted\n",
    "selftext_removed = (df['selftext']=='[removed]')\n",
    "selftext_deleted = (df['selftext']=='[deleted]')\n",
    "\n",
    "# Check if there are any removed or deleted values. \n",
    "#  Remove them\n",
    "\n",
    "if (len(df[title_removed]) + len(df[title_deleted]) + \n",
    "     len(df[selftext_removed]) + len(df[selftext_deleted])) > 0:\n",
    "    \n",
    "    # Remove rows with '[deleted]' as the title or selftext\n",
    "    df.drop(labels = df[selftext_deleted].index, axis = 0, inplace=True)\n",
    "    df.reset_index(drop=True, inplace = True)"
   ]
  },
  {
   "cell_type": "code",
   "execution_count": 6,
   "metadata": {},
   "outputs": [
    {
     "data": {
      "text/plain": [
       "True"
      ]
     },
     "execution_count": 6,
     "metadata": {},
     "output_type": "execute_result"
    }
   ],
   "source": [
    "a = 'string'\n",
    "a = ''\n",
    "not a"
   ]
  },
  {
   "cell_type": "code",
   "execution_count": 7,
   "metadata": {},
   "outputs": [
    {
     "data": {
      "text/plain": [
       "0                                                      NaN\n",
       "1                                                      NaN\n",
       "2        I'm helping a friend design a course with dual...\n",
       "3                                                      NaN\n",
       "4                                                      NaN\n",
       "                               ...                        \n",
       "39808                                                  NaN\n",
       "39809                                                  NaN\n",
       "39810                                                  NaN\n",
       "39811                                                  NaN\n",
       "39812    Hi tech geeks need your advice as solid primer...\n",
       "Name: selftext, Length: 39813, dtype: object"
      ]
     },
     "execution_count": 7,
     "metadata": {},
     "output_type": "execute_result"
    }
   ],
   "source": [
    "df['selftext']"
   ]
  },
  {
   "cell_type": "code",
   "execution_count": 8,
   "metadata": {},
   "outputs": [
    {
     "data": {
      "text/plain": [
       "True"
      ]
     },
     "execution_count": 8,
     "metadata": {},
     "output_type": "execute_result"
    }
   ],
   "source": [
    "#str(df['selftext'][0]) == 'nan'\n",
    "pd.isnull(df['selftext'][0])"
   ]
  },
  {
   "cell_type": "code",
   "execution_count": 9,
   "metadata": {},
   "outputs": [
    {
     "name": "stdout",
     "output_type": "stream",
     "text": [
      "<class 'pandas.core.frame.DataFrame'>\n",
      "RangeIndex: 39813 entries, 0 to 39812\n",
      "Data columns (total 7 columns):\n",
      " #   Column          Non-Null Count  Dtype \n",
      "---  ------          --------------  ----- \n",
      " 0   title           39813 non-null  object\n",
      " 1   selftext        23811 non-null  object\n",
      " 2   created_utc     39813 non-null  int64 \n",
      " 3   num_comments    39813 non-null  int64 \n",
      " 4   num_crossposts  39813 non-null  int64 \n",
      " 5   score           39813 non-null  int64 \n",
      " 6   subreddit       39813 non-null  object\n",
      "dtypes: int64(4), object(3)\n",
      "memory usage: 2.1+ MB\n"
     ]
    }
   ],
   "source": [
    "df.info()"
   ]
  },
  {
   "cell_type": "markdown",
   "metadata": {},
   "source": [
    "### Clean out each review"
   ]
  },
  {
   "cell_type": "code",
   "execution_count": 10,
   "metadata": {},
   "outputs": [],
   "source": [
    "# function that runs over reviews \n",
    "\n",
    "def review_to_words(raw_review):\n",
    "    if pd.isnull(raw_review):\n",
    "        return(\"\")\n",
    "    else:\n",
    "        # Remove \n",
    "        review_text = BeautifulSoup(raw_review).get_text()\n",
    "        letters_only = re.sub(\"[^a-zA-Z]\", \" \", review_text)\n",
    "        #text = re.sub(r'^https?:\\/\\/.*[\\r\\n]*', '', letters_only, flags=re.MULTILINE)\n",
    "        text = re.sub(r'(\\(https:\\/\\/[^\\s]+)|https:\\/\\/[^\\s]+', '', letters_only, flags=re.MULTILINE)\n",
    "        words = text.lower().split()\n",
    "        stops = set(stopwords.words('english'))\n",
    "        meaningful_words = [w for w in words if w not in stops]\n",
    "    return(\" \".join(meaningful_words))"
   ]
  },
  {
   "cell_type": "code",
   "execution_count": 11,
   "metadata": {
    "scrolled": true
   },
   "outputs": [
    {
     "name": "stderr",
     "output_type": "stream",
     "text": [
      "/Users/DanOvadia/opt/anaconda3/lib/python3.7/site-packages/bs4/__init__.py:389: UserWarning: \"https://lite.lc/csb2u\" looks like a URL. Beautiful Soup is not an HTTP client. You should probably use an HTTP client like requests to get the document behind the URL, and feed that document to Beautiful Soup.\n",
      "  ' that document to Beautiful Soup.' % decoded_markup\n",
      "/Users/DanOvadia/opt/anaconda3/lib/python3.7/site-packages/bs4/__init__.py:389: UserWarning: \"https://www.smthelp.com/feeder\" looks like a URL. Beautiful Soup is not an HTTP client. You should probably use an HTTP client like requests to get the document behind the URL, and feed that document to Beautiful Soup.\n",
      "  ' that document to Beautiful Soup.' % decoded_markup\n",
      "/Users/DanOvadia/opt/anaconda3/lib/python3.7/site-packages/bs4/__init__.py:389: UserWarning: \"https://talktotransformer.com\" looks like a URL. Beautiful Soup is not an HTTP client. You should probably use an HTTP client like requests to get the document behind the URL, and feed that document to Beautiful Soup.\n",
      "  ' that document to Beautiful Soup.' % decoded_markup\n",
      "/Users/DanOvadia/opt/anaconda3/lib/python3.7/site-packages/bs4/__init__.py:389: UserWarning: \"https://tvm.ai/2019/05/30/pytorch-frontend\" looks like a URL. Beautiful Soup is not an HTTP client. You should probably use an HTTP client like requests to get the document behind the URL, and feed that document to Beautiful Soup.\n",
      "  ' that document to Beautiful Soup.' % decoded_markup\n",
      "/Users/DanOvadia/opt/anaconda3/lib/python3.7/site-packages/bs4/__init__.py:389: UserWarning: \"https://robotindia.com/jcb-spare-parts-know-its-types-and-its-major-benefits/\" looks like a URL. Beautiful Soup is not an HTTP client. You should probably use an HTTP client like requests to get the document behind the URL, and feed that document to Beautiful Soup.\n",
      "  ' that document to Beautiful Soup.' % decoded_markup\n",
      "/Users/DanOvadia/opt/anaconda3/lib/python3.7/site-packages/bs4/__init__.py:389: UserWarning: \"http://findnerd.com/account/#url=/list/view/What-are-Popular-Enterprise-Machine-Learning-Use-Cases/43746/\" looks like a URL. Beautiful Soup is not an HTTP client. You should probably use an HTTP client like requests to get the document behind the URL, and feed that document to Beautiful Soup.\n",
      "  ' that document to Beautiful Soup.' % decoded_markup\n",
      "/Users/DanOvadia/opt/anaconda3/lib/python3.7/site-packages/bs4/__init__.py:389: UserWarning: \"https://compakk.blogspot.com/2019/02/stretch-wrap-machine-a-useful-machine-in-packaging-industry.html\" looks like a URL. Beautiful Soup is not an HTTP client. You should probably use an HTTP client like requests to get the document behind the URL, and feed that document to Beautiful Soup.\n",
      "  ' that document to Beautiful Soup.' % decoded_markup\n",
      "/Users/DanOvadia/opt/anaconda3/lib/python3.7/site-packages/bs4/__init__.py:314: UserWarning: \"b'/////'\" looks like a filename, not markup. You should probably open this file and pass the filehandle into Beautiful Soup.\n",
      "  ' Beautiful Soup.' % markup)\n",
      "/Users/DanOvadia/opt/anaconda3/lib/python3.7/site-packages/bs4/__init__.py:389: UserWarning: \"https://public.tableau.com/profile/shah.pankaj#!/vizhome/MOM_wk_6/MOM_wk_6\" looks like a URL. Beautiful Soup is not an HTTP client. You should probably use an HTTP client like requests to get the document behind the URL, and feed that document to Beautiful Soup.\n",
      "  ' that document to Beautiful Soup.' % decoded_markup\n",
      "/Users/DanOvadia/opt/anaconda3/lib/python3.7/site-packages/bs4/__init__.py:389: UserWarning: \"https://reddit.app.link/jrNhP9n1O3\" looks like a URL. Beautiful Soup is not an HTTP client. You should probably use an HTTP client like requests to get the document behind the URL, and feed that document to Beautiful Soup.\n",
      "  ' that document to Beautiful Soup.' % decoded_markup\n",
      "/Users/DanOvadia/opt/anaconda3/lib/python3.7/site-packages/bs4/__init__.py:389: UserWarning: \"https://www.3ritechnologies.com/course/software-testing-institute-in-pune/\" looks like a URL. Beautiful Soup is not an HTTP client. You should probably use an HTTP client like requests to get the document behind the URL, and feed that document to Beautiful Soup.\n",
      "  ' that document to Beautiful Soup.' % decoded_markup\n",
      "/Users/DanOvadia/opt/anaconda3/lib/python3.7/site-packages/bs4/__init__.py:389: UserWarning: \"https://computernetworksite.blogspot.com/2019/08/Printer.html?m=0\" looks like a URL. Beautiful Soup is not an HTTP client. You should probably use an HTTP client like requests to get the document behind the URL, and feed that document to Beautiful Soup.\n",
      "  ' that document to Beautiful Soup.' % decoded_markup\n",
      "/Users/DanOvadia/opt/anaconda3/lib/python3.7/site-packages/bs4/__init__.py:389: UserWarning: \"https://www.infolks.info/\" looks like a URL. Beautiful Soup is not an HTTP client. You should probably use an HTTP client like requests to get the document behind the URL, and feed that document to Beautiful Soup.\n",
      "  ' that document to Beautiful Soup.' % decoded_markup\n",
      "/Users/DanOvadia/opt/anaconda3/lib/python3.7/site-packages/bs4/__init__.py:389: UserWarning: \"https://lentiq.com/blog/a-paradigm-change-data-ownership-in-data-lakes\" looks like a URL. Beautiful Soup is not an HTTP client. You should probably use an HTTP client like requests to get the document behind the URL, and feed that document to Beautiful Soup.\n",
      "  ' that document to Beautiful Soup.' % decoded_markup\n",
      "/Users/DanOvadia/opt/anaconda3/lib/python3.7/site-packages/bs4/__init__.py:389: UserWarning: \"https://www.finextra.com/newsarticle/33397/sberbank-creates-algorithm-to-do-data-scientists-job\" looks like a URL. Beautiful Soup is not an HTTP client. You should probably use an HTTP client like requests to get the document behind the URL, and feed that document to Beautiful Soup.\n",
      "  ' that document to Beautiful Soup.' % decoded_markup\n",
      "/Users/DanOvadia/opt/anaconda3/lib/python3.7/site-packages/bs4/__init__.py:389: UserWarning: \"https://www.digitechboss.com/data-science-uses-in-the-health-sector/\" looks like a URL. Beautiful Soup is not an HTTP client. You should probably use an HTTP client like requests to get the document behind the URL, and feed that document to Beautiful Soup.\n",
      "  ' that document to Beautiful Soup.' % decoded_markup\n",
      "/Users/DanOvadia/opt/anaconda3/lib/python3.7/site-packages/bs4/__init__.py:389: UserWarning: \"https://www.besanttechnologies.com/training-courses/python-training-institute-in-bangalore\" looks like a URL. Beautiful Soup is not an HTTP client. You should probably use an HTTP client like requests to get the document behind the URL, and feed that document to Beautiful Soup.\n",
      "  ' that document to Beautiful Soup.' % decoded_markup\n",
      "/Users/DanOvadia/opt/anaconda3/lib/python3.7/site-packages/bs4/__init__.py:389: UserWarning: \"https://socialprachar.com/\" looks like a URL. Beautiful Soup is not an HTTP client. You should probably use an HTTP client like requests to get the document behind the URL, and feed that document to Beautiful Soup.\n",
      "  ' that document to Beautiful Soup.' % decoded_markup\n",
      "/Users/DanOvadia/opt/anaconda3/lib/python3.7/site-packages/bs4/__init__.py:389: UserWarning: \"http://www.datasciencecentral.com/profiles/blogs/how-to-get-capm-in-the-stock-market-equity-beta\" looks like a URL. Beautiful Soup is not an HTTP client. You should probably use an HTTP client like requests to get the document behind the URL, and feed that document to Beautiful Soup.\n",
      "  ' that document to Beautiful Soup.' % decoded_markup\n",
      "/Users/DanOvadia/opt/anaconda3/lib/python3.7/site-packages/bs4/__init__.py:389: UserWarning: \"http://www.bigdatanews.com/profiles/blogs/topic-modeling-in-r\" looks like a URL. Beautiful Soup is not an HTTP client. You should probably use an HTTP client like requests to get the document behind the URL, and feed that document to Beautiful Soup.\n",
      "  ' that document to Beautiful Soup.' % decoded_markup\n",
      "/Users/DanOvadia/opt/anaconda3/lib/python3.7/site-packages/bs4/__init__.py:389: UserWarning: \"https://www.nytimes.com/2012/02/19/magazine/shopping-habits.html\" looks like a URL. Beautiful Soup is not an HTTP client. You should probably use an HTTP client like requests to get the document behind the URL, and feed that document to Beautiful Soup.\n",
      "  ' that document to Beautiful Soup.' % decoded_markup\n",
      "/Users/DanOvadia/opt/anaconda3/lib/python3.7/site-packages/bs4/__init__.py:389: UserWarning: \"https://bit.ly/2p31XhZ\" looks like a URL. Beautiful Soup is not an HTTP client. You should probably use an HTTP client like requests to get the document behind the URL, and feed that document to Beautiful Soup.\n",
      "  ' that document to Beautiful Soup.' % decoded_markup\n",
      "/Users/DanOvadia/opt/anaconda3/lib/python3.7/site-packages/bs4/__init__.py:389: UserWarning: \"https://blog.usejournal.com/machine-learning-roi-how-to-model-the-investment-value-of-machine-learning-a29be1f2f827\" looks like a URL. Beautiful Soup is not an HTTP client. You should probably use an HTTP client like requests to get the document behind the URL, and feed that document to Beautiful Soup.\n",
      "  ' that document to Beautiful Soup.' % decoded_markup\n",
      "/Users/DanOvadia/opt/anaconda3/lib/python3.7/site-packages/bs4/__init__.py:389: UserWarning: \"http://nixon-development.com/nn\" looks like a URL. Beautiful Soup is not an HTTP client. You should probably use an HTTP client like requests to get the document behind the URL, and feed that document to Beautiful Soup.\n",
      "  ' that document to Beautiful Soup.' % decoded_markup\n",
      "/Users/DanOvadia/opt/anaconda3/lib/python3.7/site-packages/bs4/__init__.py:389: UserWarning: \"https://github.com/paperswithcode/releasing-research-code\" looks like a URL. Beautiful Soup is not an HTTP client. You should probably use an HTTP client like requests to get the document behind the URL, and feed that document to Beautiful Soup.\n",
      "  ' that document to Beautiful Soup.' % decoded_markup\n",
      "/Users/DanOvadia/opt/anaconda3/lib/python3.7/site-packages/bs4/__init__.py:389: UserWarning: \"https://www.youtube.com/watch?v=bzjamKqPzOI\" looks like a URL. Beautiful Soup is not an HTTP client. You should probably use an HTTP client like requests to get the document behind the URL, and feed that document to Beautiful Soup.\n",
      "  ' that document to Beautiful Soup.' % decoded_markup\n",
      "/Users/DanOvadia/opt/anaconda3/lib/python3.7/site-packages/bs4/__init__.py:389: UserWarning: \"https://stripe.com/blog/similarity-clustering\" looks like a URL. Beautiful Soup is not an HTTP client. You should probably use an HTTP client like requests to get the document behind the URL, and feed that document to Beautiful Soup.\n",
      "  ' that document to Beautiful Soup.' % decoded_markup\n",
      "/Users/DanOvadia/opt/anaconda3/lib/python3.7/site-packages/bs4/__init__.py:389: UserWarning: \"https://stackoverflow.com/questions/59882845/get-lr-from-cyclical-learning-rate-in-pytorch\" looks like a URL. Beautiful Soup is not an HTTP client. You should probably use an HTTP client like requests to get the document behind the URL, and feed that document to Beautiful Soup.\n",
      "  ' that document to Beautiful Soup.' % decoded_markup\n",
      "/Users/DanOvadia/opt/anaconda3/lib/python3.7/site-packages/bs4/__init__.py:389: UserWarning: \"http://www.datasciencecentral.com/profiles/blogs/machine-learning-the-bigger-picture-part-i\" looks like a URL. Beautiful Soup is not an HTTP client. You should probably use an HTTP client like requests to get the document behind the URL, and feed that document to Beautiful Soup.\n",
      "  ' that document to Beautiful Soup.' % decoded_markup\n",
      "/Users/DanOvadia/opt/anaconda3/lib/python3.7/site-packages/bs4/__init__.py:389: UserWarning: \"http://www.datasciencecentral.com/profiles/blogs/two-great-courses-on-deep-learning-and-ai\" looks like a URL. Beautiful Soup is not an HTTP client. You should probably use an HTTP client like requests to get the document behind the URL, and feed that document to Beautiful Soup.\n",
      "  ' that document to Beautiful Soup.' % decoded_markup\n",
      "/Users/DanOvadia/opt/anaconda3/lib/python3.7/site-packages/bs4/__init__.py:389: UserWarning: \"https://www.datasciencecentral.com/profiles/blogs/deep-learning-alphago-zero-explained-in-one-picture\" looks like a URL. Beautiful Soup is not an HTTP client. You should probably use an HTTP client like requests to get the document behind the URL, and feed that document to Beautiful Soup.\n",
      "  ' that document to Beautiful Soup.' % decoded_markup\n",
      "/Users/DanOvadia/opt/anaconda3/lib/python3.7/site-packages/bs4/__init__.py:389: UserWarning: \"https://arxiv.org/abs/1911.02116\" looks like a URL. Beautiful Soup is not an HTTP client. You should probably use an HTTP client like requests to get the document behind the URL, and feed that document to Beautiful Soup.\n",
      "  ' that document to Beautiful Soup.' % decoded_markup\n",
      "/Users/DanOvadia/opt/anaconda3/lib/python3.7/site-packages/bs4/__init__.py:389: UserWarning: \"http://www.datasciencecentral.com/profiles/blogs/a-curated-list-of-resources-dedicated-to-bayesian-deep-learning\" looks like a URL. Beautiful Soup is not an HTTP client. You should probably use an HTTP client like requests to get the document behind the URL, and feed that document to Beautiful Soup.\n",
      "  ' that document to Beautiful Soup.' % decoded_markup\n",
      "/Users/DanOvadia/opt/anaconda3/lib/python3.7/site-packages/bs4/__init__.py:389: UserWarning: \"http://www.datasciencecentral.com/profiles/blogs/book-evaluating-machine-learning-models\" looks like a URL. Beautiful Soup is not an HTTP client. You should probably use an HTTP client like requests to get the document behind the URL, and feed that document to Beautiful Soup.\n",
      "  ' that document to Beautiful Soup.' % decoded_markup\n",
      "/Users/DanOvadia/opt/anaconda3/lib/python3.7/site-packages/bs4/__init__.py:389: UserWarning: \"https://www.datasciencecentral.com/profiles/blogs/which-machine-learning-algo-will-continue-to-be-in-use-in-year\" looks like a URL. Beautiful Soup is not an HTTP client. You should probably use an HTTP client like requests to get the document behind the URL, and feed that document to Beautiful Soup.\n",
      "  ' that document to Beautiful Soup.' % decoded_markup\n",
      "/Users/DanOvadia/opt/anaconda3/lib/python3.7/site-packages/bs4/__init__.py:389: UserWarning: \"http://www.datasciencecentral.com/profiles/blogs/top-10-ipython-tutorials-for-data-science-and-machine-learning\" looks like a URL. Beautiful Soup is not an HTTP client. You should probably use an HTTP client like requests to get the document behind the URL, and feed that document to Beautiful Soup.\n",
      "  ' that document to Beautiful Soup.' % decoded_markup\n",
      "/Users/DanOvadia/opt/anaconda3/lib/python3.7/site-packages/bs4/__init__.py:389: UserWarning: \"http://www.datasciencecentral.com/profiles/blogs/factoring-massive-numbers-a-new-machine-learning-approach\" looks like a URL. Beautiful Soup is not an HTTP client. You should probably use an HTTP client like requests to get the document behind the URL, and feed that document to Beautiful Soup.\n",
      "  ' that document to Beautiful Soup.' % decoded_markup\n",
      "/Users/DanOvadia/opt/anaconda3/lib/python3.7/site-packages/bs4/__init__.py:389: UserWarning: \"https://github.com/rowanz/grover\" looks like a URL. Beautiful Soup is not an HTTP client. You should probably use an HTTP client like requests to get the document behind the URL, and feed that document to Beautiful Soup.\n",
      "  ' that document to Beautiful Soup.' % decoded_markup\n",
      "/Users/DanOvadia/opt/anaconda3/lib/python3.7/site-packages/bs4/__init__.py:389: UserWarning: \"https://slideslive.com/icml\n",
      "https://facebook.com/pg/icml.imls/videos/\" looks like a URL. Beautiful Soup is not an HTTP client. You should probably use an HTTP client like requests to get the document behind the URL, and feed that document to Beautiful Soup.\n",
      "  ' that document to Beautiful Soup.' % decoded_markup\n",
      "/Users/DanOvadia/opt/anaconda3/lib/python3.7/site-packages/bs4/__init__.py:389: UserWarning: \"https://www.datasciencecentral.com/profiles/blogs/programming-languages-for-data-science-and-ml-with-source-code-il\" looks like a URL. Beautiful Soup is not an HTTP client. You should probably use an HTTP client like requests to get the document behind the URL, and feed that document to Beautiful Soup.\n",
      "  ' that document to Beautiful Soup.' % decoded_markup\n",
      "/Users/DanOvadia/opt/anaconda3/lib/python3.7/site-packages/bs4/__init__.py:389: UserWarning: \"https://www.datasciencecentral.com/profiles/blogs/machine-learning-in-finance-why-what-amp-how\" looks like a URL. Beautiful Soup is not an HTTP client. You should probably use an HTTP client like requests to get the document behind the URL, and feed that document to Beautiful Soup.\n",
      "  ' that document to Beautiful Soup.' % decoded_markup\n",
      "/Users/DanOvadia/opt/anaconda3/lib/python3.7/site-packages/bs4/__init__.py:389: UserWarning: \"https://github.com/skrish13/ml-contests-conf#cvpr-19\" looks like a URL. Beautiful Soup is not an HTTP client. You should probably use an HTTP client like requests to get the document behind the URL, and feed that document to Beautiful Soup.\n",
      "  ' that document to Beautiful Soup.' % decoded_markup\n",
      "/Users/DanOvadia/opt/anaconda3/lib/python3.7/site-packages/bs4/__init__.py:389: UserWarning: \"http://www.datasciencecentral.com/profiles/blogs/10-companies-using-machine-learning-in-cool-ways\" looks like a URL. Beautiful Soup is not an HTTP client. You should probably use an HTTP client like requests to get the document behind the URL, and feed that document to Beautiful Soup.\n",
      "  ' that document to Beautiful Soup.' % decoded_markup\n",
      "/Users/DanOvadia/opt/anaconda3/lib/python3.7/site-packages/bs4/__init__.py:389: UserWarning: \"https://imgur.com/a/qh8sYr8\" looks like a URL. Beautiful Soup is not an HTTP client. You should probably use an HTTP client like requests to get the document behind the URL, and feed that document to Beautiful Soup.\n",
      "  ' that document to Beautiful Soup.' % decoded_markup\n",
      "/Users/DanOvadia/opt/anaconda3/lib/python3.7/site-packages/bs4/__init__.py:389: UserWarning: \"http://www.datasciencecentral.com/profiles/blog/show?id=6448529%3ABlogPost%3A408236\" looks like a URL. Beautiful Soup is not an HTTP client. You should probably use an HTTP client like requests to get the document behind the URL, and feed that document to Beautiful Soup.\n",
      "  ' that document to Beautiful Soup.' % decoded_markup\n",
      "/Users/DanOvadia/opt/anaconda3/lib/python3.7/site-packages/bs4/__init__.py:389: UserWarning: \"https://www.datasciencecentral.com/profiles/blogs/deep-learning-based-object-classification-model-for-autonomous\" looks like a URL. Beautiful Soup is not an HTTP client. You should probably use an HTTP client like requests to get the document behind the URL, and feed that document to Beautiful Soup.\n",
      "  ' that document to Beautiful Soup.' % decoded_markup\n",
      "/Users/DanOvadia/opt/anaconda3/lib/python3.7/site-packages/bs4/__init__.py:389: UserWarning: \"https://www.datasciencecentral.com/profiles/blogs/machine-learning-with-c-classification-with-shark-ml/\" looks like a URL. Beautiful Soup is not an HTTP client. You should probably use an HTTP client like requests to get the document behind the URL, and feed that document to Beautiful Soup.\n",
      "  ' that document to Beautiful Soup.' % decoded_markup\n",
      "/Users/DanOvadia/opt/anaconda3/lib/python3.7/site-packages/bs4/__init__.py:389: UserWarning: \"http://www.datasciencecentral.com/profiles/blogs/16-great-iot-articles-published-in-2016\n",
      "\" looks like a URL. Beautiful Soup is not an HTTP client. You should probably use an HTTP client like requests to get the document behind the URL, and feed that document to Beautiful Soup.\n",
      "  ' that document to Beautiful Soup.' % decoded_markup\n",
      "/Users/DanOvadia/opt/anaconda3/lib/python3.7/site-packages/bs4/__init__.py:389: UserWarning: \"http://www.datasciencecentral.com/profiles/blogs/deep-learning-research-review-week-3-natural-language-processin-1\n",
      "\" looks like a URL. Beautiful Soup is not an HTTP client. You should probably use an HTTP client like requests to get the document behind the URL, and feed that document to Beautiful Soup.\n",
      "  ' that document to Beautiful Soup.' % decoded_markup\n",
      "/Users/DanOvadia/opt/anaconda3/lib/python3.7/site-packages/bs4/__init__.py:389: UserWarning: \"https://farmingfirst.org/digital-revolution-agriculture-leave-no-one-behind\" looks like a URL. Beautiful Soup is not an HTTP client. You should probably use an HTTP client like requests to get the document behind the URL, and feed that document to Beautiful Soup.\n",
      "  ' that document to Beautiful Soup.' % decoded_markup\n",
      "/Users/DanOvadia/opt/anaconda3/lib/python3.7/site-packages/bs4/__init__.py:389: UserWarning: \"https://m.youtube.com/watch?v=6ZktNItwexo\" looks like a URL. Beautiful Soup is not an HTTP client. You should probably use an HTTP client like requests to get the document behind the URL, and feed that document to Beautiful Soup.\n",
      "  ' that document to Beautiful Soup.' % decoded_markup\n",
      "/Users/DanOvadia/opt/anaconda3/lib/python3.7/site-packages/bs4/__init__.py:389: UserWarning: \"http://www.datasciencecentral.com/profiles/blogs/20-cheat-sheets-python-ml-data-science\" looks like a URL. Beautiful Soup is not an HTTP client. You should probably use an HTTP client like requests to get the document behind the URL, and feed that document to Beautiful Soup.\n",
      "  ' that document to Beautiful Soup.' % decoded_markup\n",
      "/Users/DanOvadia/opt/anaconda3/lib/python3.7/site-packages/bs4/__init__.py:389: UserWarning: \"http://www.datasciencecentral.com/profiles/blogs/6448529:BlogPost:459267\" looks like a URL. Beautiful Soup is not an HTTP client. You should probably use an HTTP client like requests to get the document behind the URL, and feed that document to Beautiful Soup.\n",
      "  ' that document to Beautiful Soup.' % decoded_markup\n",
      "/Users/DanOvadia/opt/anaconda3/lib/python3.7/site-packages/bs4/__init__.py:389: UserWarning: \"https://www.salesforceben.com/introducing-einstein-voice-now-were-really-talking-ai/\" looks like a URL. Beautiful Soup is not an HTTP client. You should probably use an HTTP client like requests to get the document behind the URL, and feed that document to Beautiful Soup.\n",
      "  ' that document to Beautiful Soup.' % decoded_markup\n",
      "/Users/DanOvadia/opt/anaconda3/lib/python3.7/site-packages/bs4/__init__.py:389: UserWarning: \"https://youtu.be/N8vVQ7aRvGE\" looks like a URL. Beautiful Soup is not an HTTP client. You should probably use an HTTP client like requests to get the document behind the URL, and feed that document to Beautiful Soup.\n",
      "  ' that document to Beautiful Soup.' % decoded_markup\n",
      "/Users/DanOvadia/opt/anaconda3/lib/python3.7/site-packages/bs4/__init__.py:389: UserWarning: \"https://365datascience.com/pricing\" looks like a URL. Beautiful Soup is not an HTTP client. You should probably use an HTTP client like requests to get the document behind the URL, and feed that document to Beautiful Soup.\n",
      "  ' that document to Beautiful Soup.' % decoded_markup\n",
      "/Users/DanOvadia/opt/anaconda3/lib/python3.7/site-packages/bs4/__init__.py:389: UserWarning: \"https://finance.yahoo.com/news/moody-offering-coronavirus-credit-economic-230500549.html\" looks like a URL. Beautiful Soup is not an HTTP client. You should probably use an HTTP client like requests to get the document behind the URL, and feed that document to Beautiful Soup.\n",
      "  ' that document to Beautiful Soup.' % decoded_markup\n",
      "/Users/DanOvadia/opt/anaconda3/lib/python3.7/site-packages/bs4/__init__.py:389: UserWarning: \"https://stackoverflow.com/questions/60442513/how-to-efficiently-label-each-value-to-a-bin-after-i-created-the-bins-by-pandas?noredirect=1#comment106926529_60442513\n",
      "\n",
      "\n",
      "Thanks!\" looks like a URL. Beautiful Soup is not an HTTP client. You should probably use an HTTP client like requests to get the document behind the URL, and feed that document to Beautiful Soup.\n",
      "  ' that document to Beautiful Soup.' % decoded_markup\n",
      "/Users/DanOvadia/opt/anaconda3/lib/python3.7/site-packages/bs4/__init__.py:389: UserWarning: \"https://www.pi.exchange/careers/product-data-scientist\" looks like a URL. Beautiful Soup is not an HTTP client. You should probably use an HTTP client like requests to get the document behind the URL, and feed that document to Beautiful Soup.\n",
      "  ' that document to Beautiful Soup.' % decoded_markup\n",
      "/Users/DanOvadia/opt/anaconda3/lib/python3.7/site-packages/bs4/__init__.py:389: UserWarning: \"https://twitter.com/kareem\\_carr/status/1200858538127642626\" looks like a URL. Beautiful Soup is not an HTTP client. You should probably use an HTTP client like requests to get the document behind the URL, and feed that document to Beautiful Soup.\n",
      "  ' that document to Beautiful Soup.' % decoded_markup\n",
      "/Users/DanOvadia/opt/anaconda3/lib/python3.7/site-packages/bs4/__init__.py:389: UserWarning: \"https://www.computerweekly.com/news/252474752/Most-data-scientists-plan-exit-in-2020-Women-in-Data-conference-hears?amp=1\" looks like a URL. Beautiful Soup is not an HTTP client. You should probably use an HTTP client like requests to get the document behind the URL, and feed that document to Beautiful Soup.\n",
      "  ' that document to Beautiful Soup.' % decoded_markup\n",
      "/Users/DanOvadia/opt/anaconda3/lib/python3.7/site-packages/bs4/__init__.py:389: UserWarning: \"https://towardsdatascience.com/apache-hive-hooks-and-metastore-listeners-a-tale-of-your-metadata-903b751ee99f\" looks like a URL. Beautiful Soup is not an HTTP client. You should probably use an HTTP client like requests to get the document behind the URL, and feed that document to Beautiful Soup.\n",
      "  ' that document to Beautiful Soup.' % decoded_markup\n",
      "/Users/DanOvadia/opt/anaconda3/lib/python3.7/site-packages/bs4/__init__.py:389: UserWarning: \"http://157.249.177.25:3838/dse4KSS/\" looks like a URL. Beautiful Soup is not an HTTP client. You should probably use an HTTP client like requests to get the document behind the URL, and feed that document to Beautiful Soup.\n",
      "  ' that document to Beautiful Soup.' % decoded_markup\n",
      "/Users/DanOvadia/opt/anaconda3/lib/python3.7/site-packages/bs4/__init__.py:389: UserWarning: \"https://www.paysa.com/salaries/pinterest--data-scientist--san-francisco,-ca\" looks like a URL. Beautiful Soup is not an HTTP client. You should probably use an HTTP client like requests to get the document behind the URL, and feed that document to Beautiful Soup.\n",
      "  ' that document to Beautiful Soup.' % decoded_markup\n",
      "/Users/DanOvadia/opt/anaconda3/lib/python3.7/site-packages/bs4/__init__.py:389: UserWarning: \"https://www.analyticsindiamag.com/data-analysts-will-soon-have-their-own-tony-stark-moment-with-northstar/\" looks like a URL. Beautiful Soup is not an HTTP client. You should probably use an HTTP client like requests to get the document behind the URL, and feed that document to Beautiful Soup.\n",
      "  ' that document to Beautiful Soup.' % decoded_markup\n",
      "/Users/DanOvadia/opt/anaconda3/lib/python3.7/site-packages/bs4/__init__.py:389: UserWarning: \"https://twitter.com/oscar_b123/status/1140353922995015680?s=09\" looks like a URL. Beautiful Soup is not an HTTP client. You should probably use an HTTP client like requests to get the document behind the URL, and feed that document to Beautiful Soup.\n",
      "  ' that document to Beautiful Soup.' % decoded_markup\n",
      "/Users/DanOvadia/opt/anaconda3/lib/python3.7/site-packages/bs4/__init__.py:389: UserWarning: \"https://felipecastro.com/en/okr/what-is-okr/\" looks like a URL. Beautiful Soup is not an HTTP client. You should probably use an HTTP client like requests to get the document behind the URL, and feed that document to Beautiful Soup.\n",
      "  ' that document to Beautiful Soup.' % decoded_markup\n",
      "/Users/DanOvadia/opt/anaconda3/lib/python3.7/site-packages/bs4/__init__.py:389: UserWarning: \"http://www.ideasverge.com/github-now-gives-free-users-unlimited-private-repositories/\" looks like a URL. Beautiful Soup is not an HTTP client. You should probably use an HTTP client like requests to get the document behind the URL, and feed that document to Beautiful Soup.\n",
      "  ' that document to Beautiful Soup.' % decoded_markup\n",
      "/Users/DanOvadia/opt/anaconda3/lib/python3.7/site-packages/bs4/__init__.py:389: UserWarning: \"https://reviewmeta.com/\" looks like a URL. Beautiful Soup is not an HTTP client. You should probably use an HTTP client like requests to get the document behind the URL, and feed that document to Beautiful Soup.\n",
      "  ' that document to Beautiful Soup.' % decoded_markup\n",
      "/Users/DanOvadia/opt/anaconda3/lib/python3.7/site-packages/bs4/__init__.py:389: UserWarning: \"https://www.reddit.com/r/coursera/comments/a7ltdi/datacamp_subscription_up_for_grab/?utm_source=reddit-android\" looks like a URL. Beautiful Soup is not an HTTP client. You should probably use an HTTP client like requests to get the document behind the URL, and feed that document to Beautiful Soup.\n",
      "  ' that document to Beautiful Soup.' % decoded_markup\n",
      "/Users/DanOvadia/opt/anaconda3/lib/python3.7/site-packages/bs4/__init__.py:389: UserWarning: \"http://www.insider-sleuth.com\" looks like a URL. Beautiful Soup is not an HTTP client. You should probably use an HTTP client like requests to get the document behind the URL, and feed that document to Beautiful Soup.\n",
      "  ' that document to Beautiful Soup.' % decoded_markup\n",
      "/Users/DanOvadia/opt/anaconda3/lib/python3.7/site-packages/bs4/__init__.py:389: UserWarning: \"https://www.datasciencedata.com/2018/08/python-for-data-science-numbers-string_30.html\" looks like a URL. Beautiful Soup is not an HTTP client. You should probably use an HTTP client like requests to get the document behind the URL, and feed that document to Beautiful Soup.\n",
      "  ' that document to Beautiful Soup.' % decoded_markup\n",
      "/Users/DanOvadia/opt/anaconda3/lib/python3.7/site-packages/bs4/__init__.py:389: UserWarning: \"https://medium.com/@eduardoperezdenadai/soft-skills-for-good-data-scientists-29b692b0fad2\" looks like a URL. Beautiful Soup is not an HTTP client. You should probably use an HTTP client like requests to get the document behind the URL, and feed that document to Beautiful Soup.\n",
      "  ' that document to Beautiful Soup.' % decoded_markup\n",
      "/Users/DanOvadia/opt/anaconda3/lib/python3.7/site-packages/bs4/__init__.py:389: UserWarning: \"https://code.fb.com/ai-research/talk-the-walk-teaching-ai-systems-to-navigate-new-york-through-language/\" looks like a URL. Beautiful Soup is not an HTTP client. You should probably use an HTTP client like requests to get the document behind the URL, and feed that document to Beautiful Soup.\n",
      "  ' that document to Beautiful Soup.' % decoded_markup\n",
      "/Users/DanOvadia/opt/anaconda3/lib/python3.7/site-packages/bs4/__init__.py:389: UserWarning: \"https://www.pymnts.com/news/artificial-intelligence/2018/icba-bancard-community-banking/\" looks like a URL. Beautiful Soup is not an HTTP client. You should probably use an HTTP client like requests to get the document behind the URL, and feed that document to Beautiful Soup.\n",
      "  ' that document to Beautiful Soup.' % decoded_markup\n",
      "/Users/DanOvadia/opt/anaconda3/lib/python3.7/site-packages/bs4/__init__.py:389: UserWarning: \"http://catalogue.uci.edu/donaldbrenschoolofinformationandcomputersciences/departmentofstatistics/#majortext\" looks like a URL. Beautiful Soup is not an HTTP client. You should probably use an HTTP client like requests to get the document behind the URL, and feed that document to Beautiful Soup.\n",
      "  ' that document to Beautiful Soup.' % decoded_markup\n"
     ]
    },
    {
     "name": "stdout",
     "output_type": "stream",
     "text": [
      "CPU times: user 54.2 s, sys: 10.8 s, total: 1min 5s\n",
      "Wall time: 1min 25s\n"
     ]
    }
   ],
   "source": [
    "%%time\n",
    "\n",
    "# Running through review_to_words to clean each row\n",
    "df.insert(2,column = 'clean_title',value = [review_to_words(element) for element in df['title']])\n",
    "df.insert(3,column = 'clean_selftext',value = [review_to_words(element) for element in df['selftext']])"
   ]
  },
  {
   "cell_type": "code",
   "execution_count": 12,
   "metadata": {},
   "outputs": [],
   "source": [
    "#issue = 'https://www.tiki.systems/'\n",
    "#fake = 'asldfkjas lskdjf df'\n",
    "#raw_review = 'here is a sample URL https://lzone.de/examples/Python%20re.sub or how about this https://docs.python.org/3/library/re.html'\n",
    "\n",
    "def review_to_url(raw_review):\n",
    "    if pd.isnull(raw_review):\n",
    "        return(\"\")\n",
    "    else:\n",
    "        domain_string = ' '\n",
    "        domains = []\n",
    "        urls = re.findall('https:\\/\\/[^\\s]+', raw_review)\n",
    "        for url in urls:\n",
    "            try:\n",
    "                hostname = urlparse(url).hostname\n",
    "            except:\n",
    "                hostname = ''\n",
    "            domains.append(hostname)\n",
    "    return domain_string.join(domains)\n",
    "\n",
    "#print(review_to_url(issue))\n",
    "#print(review_to_url(fake))\n",
    "#print(review_to_url(raw_review))"
   ]
  },
  {
   "cell_type": "code",
   "execution_count": 13,
   "metadata": {},
   "outputs": [],
   "source": [
    "list_of_urls = [review_to_url(element) for element in df['selftext']]"
   ]
  },
  {
   "cell_type": "code",
   "execution_count": 14,
   "metadata": {},
   "outputs": [
    {
     "name": "stdout",
     "output_type": "stream",
     "text": [
      "CPU times: user 826 ms, sys: 63.8 ms, total: 890 ms\n",
      "Wall time: 978 ms\n"
     ]
    }
   ],
   "source": [
    "%%time\n",
    "# Running through review_to_urls to extract hostnames from title and selftext\n",
    "df.insert(3,column = 'title_urls',value = [review_to_url(element) for element in df['title']])\n",
    "df.insert(3,column = 'selftext_urls',value = [review_to_url(element) for element in df['selftext']])"
   ]
  },
  {
   "cell_type": "markdown",
   "metadata": {},
   "source": [
    "### Now we work on our data"
   ]
  },
  {
   "cell_type": "markdown",
   "metadata": {},
   "source": [
    "### Create a subreddit column"
   ]
  },
  {
   "cell_type": "code",
   "execution_count": 15,
   "metadata": {},
   "outputs": [],
   "source": [
    "# Create a target variable of 0/1 in dataframe\n",
    "df['Subreddit_name'] = [1 if element == 'datascience' else 0 for element in df['subreddit']]"
   ]
  },
  {
   "cell_type": "code",
   "execution_count": 17,
   "metadata": {},
   "outputs": [],
   "source": [
    "# Create a merged text field of clean_titles, clean_subtext and clean_urls\n",
    "df['merged'] = df['clean_title'] + df['clean_selftext'] + df['selftext_urls'] + df['title_urls']"
   ]
  },
  {
   "cell_type": "code",
   "execution_count": 18,
   "metadata": {},
   "outputs": [
    {
     "data": {
      "text/html": [
       "<div>\n",
       "<style scoped>\n",
       "    .dataframe tbody tr th:only-of-type {\n",
       "        vertical-align: middle;\n",
       "    }\n",
       "\n",
       "    .dataframe tbody tr th {\n",
       "        vertical-align: top;\n",
       "    }\n",
       "\n",
       "    .dataframe thead th {\n",
       "        text-align: right;\n",
       "    }\n",
       "</style>\n",
       "<table border=\"1\" class=\"dataframe\">\n",
       "  <thead>\n",
       "    <tr style=\"text-align: right;\">\n",
       "      <th></th>\n",
       "      <th>title</th>\n",
       "      <th>selftext</th>\n",
       "      <th>clean_title</th>\n",
       "      <th>selftext_urls</th>\n",
       "      <th>title_urls</th>\n",
       "      <th>clean_selftext</th>\n",
       "      <th>created_utc</th>\n",
       "      <th>num_comments</th>\n",
       "      <th>num_crossposts</th>\n",
       "      <th>score</th>\n",
       "      <th>subreddit</th>\n",
       "      <th>Subreddit_name</th>\n",
       "      <th>merged</th>\n",
       "    </tr>\n",
       "  </thead>\n",
       "  <tbody>\n",
       "    <tr>\n",
       "      <th>0</th>\n",
       "      <td>[D] Hinton responds to Schmidhuber</td>\n",
       "      <td>NaN</td>\n",
       "      <td>hinton responds schmidhuber</td>\n",
       "      <td></td>\n",
       "      <td></td>\n",
       "      <td></td>\n",
       "      <td>1587609168</td>\n",
       "      <td>0</td>\n",
       "      <td>0</td>\n",
       "      <td>1</td>\n",
       "      <td>MachineLearning</td>\n",
       "      <td>0</td>\n",
       "      <td>hinton responds schmidhuber</td>\n",
       "    </tr>\n",
       "    <tr>\n",
       "      <th>1</th>\n",
       "      <td>Hinton responds to Schmidhuber</td>\n",
       "      <td>NaN</td>\n",
       "      <td>hinton responds schmidhuber</td>\n",
       "      <td></td>\n",
       "      <td></td>\n",
       "      <td></td>\n",
       "      <td>1587609111</td>\n",
       "      <td>1</td>\n",
       "      <td>0</td>\n",
       "      <td>1</td>\n",
       "      <td>MachineLearning</td>\n",
       "      <td>0</td>\n",
       "      <td>hinton responds schmidhuber</td>\n",
       "    </tr>\n",
       "    <tr>\n",
       "      <th>2</th>\n",
       "      <td>[D] Other than vectorization, what other aspec...</td>\n",
       "      <td>I'm helping a friend design a course with dual...</td>\n",
       "      <td>vectorization aspects code optimization teach ...</td>\n",
       "      <td></td>\n",
       "      <td></td>\n",
       "      <td>helping friend design course dual intent entry...</td>\n",
       "      <td>1587606108</td>\n",
       "      <td>2</td>\n",
       "      <td>0</td>\n",
       "      <td>1</td>\n",
       "      <td>MachineLearning</td>\n",
       "      <td>0</td>\n",
       "      <td>vectorization aspects code optimization teach ...</td>\n",
       "    </tr>\n",
       "    <tr>\n",
       "      <th>3</th>\n",
       "      <td>Survey for IT Employees working from home! Hel...</td>\n",
       "      <td>NaN</td>\n",
       "      <td>survey employees working home help us finding ...</td>\n",
       "      <td></td>\n",
       "      <td></td>\n",
       "      <td></td>\n",
       "      <td>1587604741</td>\n",
       "      <td>2</td>\n",
       "      <td>0</td>\n",
       "      <td>1</td>\n",
       "      <td>MachineLearning</td>\n",
       "      <td>0</td>\n",
       "      <td>survey employees working home help us finding ...</td>\n",
       "    </tr>\n",
       "    <tr>\n",
       "      <th>4</th>\n",
       "      <td>[R] Chip Placement with Deep Reinforcement Lea...</td>\n",
       "      <td>NaN</td>\n",
       "      <td>r chip placement deep reinforcement learning</td>\n",
       "      <td></td>\n",
       "      <td></td>\n",
       "      <td></td>\n",
       "      <td>1587604558</td>\n",
       "      <td>1</td>\n",
       "      <td>0</td>\n",
       "      <td>1</td>\n",
       "      <td>MachineLearning</td>\n",
       "      <td>0</td>\n",
       "      <td>r chip placement deep reinforcement learning</td>\n",
       "    </tr>\n",
       "  </tbody>\n",
       "</table>\n",
       "</div>"
      ],
      "text/plain": [
       "                                               title  \\\n",
       "0                 [D] Hinton responds to Schmidhuber   \n",
       "1                     Hinton responds to Schmidhuber   \n",
       "2  [D] Other than vectorization, what other aspec...   \n",
       "3  Survey for IT Employees working from home! Hel...   \n",
       "4  [R] Chip Placement with Deep Reinforcement Lea...   \n",
       "\n",
       "                                            selftext  \\\n",
       "0                                                NaN   \n",
       "1                                                NaN   \n",
       "2  I'm helping a friend design a course with dual...   \n",
       "3                                                NaN   \n",
       "4                                                NaN   \n",
       "\n",
       "                                         clean_title selftext_urls title_urls  \\\n",
       "0                        hinton responds schmidhuber                            \n",
       "1                        hinton responds schmidhuber                            \n",
       "2  vectorization aspects code optimization teach ...                            \n",
       "3  survey employees working home help us finding ...                            \n",
       "4       r chip placement deep reinforcement learning                            \n",
       "\n",
       "                                      clean_selftext  created_utc  \\\n",
       "0                                                      1587609168   \n",
       "1                                                      1587609111   \n",
       "2  helping friend design course dual intent entry...   1587606108   \n",
       "3                                                      1587604741   \n",
       "4                                                      1587604558   \n",
       "\n",
       "   num_comments  num_crossposts  score        subreddit  Subreddit_name  \\\n",
       "0             0               0      1  MachineLearning               0   \n",
       "1             1               0      1  MachineLearning               0   \n",
       "2             2               0      1  MachineLearning               0   \n",
       "3             2               0      1  MachineLearning               0   \n",
       "4             1               0      1  MachineLearning               0   \n",
       "\n",
       "                                              merged  \n",
       "0                        hinton responds schmidhuber  \n",
       "1                        hinton responds schmidhuber  \n",
       "2  vectorization aspects code optimization teach ...  \n",
       "3  survey employees working home help us finding ...  \n",
       "4       r chip placement deep reinforcement learning  "
      ]
     },
     "execution_count": 18,
     "metadata": {},
     "output_type": "execute_result"
    }
   ],
   "source": [
    "df.head()"
   ]
  },
  {
   "cell_type": "code",
   "execution_count": 19,
   "metadata": {},
   "outputs": [],
   "source": [
    "df.to_csv('./data/clean.csv', index = False)"
   ]
  },
  {
   "cell_type": "code",
   "execution_count": null,
   "metadata": {},
   "outputs": [],
   "source": []
  }
 ],
 "metadata": {
  "kernelspec": {
   "display_name": "Python 3",
   "language": "python",
   "name": "python3"
  },
  "language_info": {
   "codemirror_mode": {
    "name": "ipython",
    "version": 3
   },
   "file_extension": ".py",
   "mimetype": "text/x-python",
   "name": "python",
   "nbconvert_exporter": "python",
   "pygments_lexer": "ipython3",
   "version": "3.7.6"
  }
 },
 "nbformat": 4,
 "nbformat_minor": 4
}
