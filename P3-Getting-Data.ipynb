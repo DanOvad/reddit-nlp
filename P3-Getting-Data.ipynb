{
 "cells": [
  {
   "cell_type": "markdown",
   "metadata": {},
   "source": [
    "# Getting the Data from Reddit"
   ]
  },
  {
   "cell_type": "code",
   "execution_count": 1,
   "metadata": {},
   "outputs": [],
   "source": [
    "import pandas as pd\n",
    "import numpy as np\n",
    "import requests\n",
    "\n",
    "import time"
   ]
  },
  {
   "cell_type": "code",
   "execution_count": 29,
   "metadata": {},
   "outputs": [
    {
     "name": "stdout",
     "output_type": "stream",
     "text": [
      "Creating dataframe, statuscode = 200\n"
     ]
    }
   ],
   "source": [
    "params = {\n",
    "    \"subreddit\":'datascience',\n",
    "    \"size\":1000,\n",
    "    \"user_removed\": False, \n",
    "    \"mod_removed\": False,\n",
    "    #\"title:not\": ['[removed]', '[deleted]'],\n",
    "    #\"selftext:not\": ['[removed]', '[deleted]'],\n",
    "    \"link_flair_text\": str('Career')\n",
    "}\n",
    "\n",
    "# Base url for submissions\n",
    "subm_url = 'https://api.pushshift.io/reddit/submission/search'\n",
    "\n",
    "# Create a request object which submits a get request from the pushshift API\n",
    "res = requests.get(subm_url, params)\n",
    "\n",
    "# If statment to protect against bad status codes\n",
    "if res.status_code != 200:\n",
    "    print(f\"Cannot create datafraame, statuscode = {res.status_code}\")\n",
    "else:\n",
    "    print(f\"Creating dataframe, statuscode = {res.status_code}\")\n",
    "    df = pd.DataFrame(res.json()['data'])\n",
    "    file_path = f\"./{params['subreddit']}.csv\"\n",
    "    df.to_csv(file_path,index = False)\n",
    "    \n",
    "time.sleep(20)"
   ]
  },
  {
   "cell_type": "code",
   "execution_count": 28,
   "metadata": {},
   "outputs": [
    {
     "data": {
      "text/plain": [
       "2      Career\n",
       "6      Career\n",
       "11     Career\n",
       "22     Career\n",
       "29     Career\n",
       "        ...  \n",
       "925    Career\n",
       "927    Career\n",
       "929    Career\n",
       "962    Career\n",
       "972    Career\n",
       "Name: link_flair_text, Length: 140, dtype: object"
      ]
     },
     "execution_count": 28,
     "metadata": {},
     "output_type": "execute_result"
    }
   ],
   "source": [
    "df[df['link_flair_text']=='Career']['link_flair_text']"
   ]
  },
  {
   "cell_type": "code",
   "execution_count": 113,
   "metadata": {},
   "outputs": [],
   "source": [
    "# Function to get back data from a specific endpoint and given parameters\n",
    "\n",
    "# This can go into our functions.py file\n",
    "\n",
    "base_url = 'https://api.pushshift.io/reddit/submission/search'\n",
    "endpoint = 'reddit/submission/search'\n",
    "\n",
    "before_timestamp = round(time.time())\n",
    "params = {\n",
    "        \"sort\":'desc',\n",
    "        \"subreddit\" : 'machinelearning',\n",
    "        \"size\" : 1000,\n",
    "        \"user_removed\": False, \n",
    "        \"mod_removed\": False,\n",
    "        \"after\": None,\n",
    "        \"before\": before_timestamp,\n",
    "        #\"title:not\": [\"[removed]\",\"[deleted]\"],\n",
    "        #\"author\": \"[removed]\",\n",
    "        #\"selftext:not\": \"[removed]\",\"[deleted]\"\n",
    "        #,\"link_flair_text\"\n",
    "            }\n",
    "\n",
    "def subreddit_to_dataframe(endpoint, params):\n",
    "    # Grab time right now, so we'll get the most recent data\n",
    "    before_timestamp = round(time.time())\n",
    "    all_dfs = []\n",
    "    \n",
    "    features = ['title','selftext', 'created_utc','num_comments','num_crossposts','score','subreddit']\n",
    "    \n",
    "    for _ in range(20):\n",
    "        print(time.ctime(before_timestamp))\n",
    "        \n",
    "        # Reassign the parameter to the new before time stamp\n",
    "        params['before'] = before_timestamp\n",
    "        \n",
    "        # Get Request\n",
    "        res = requests.get(base_url,params)\n",
    "        \n",
    "        if res.status_code == 200:\n",
    "            print(f'Pulling Data, Status Code: {res.status_code}')\n",
    "            \n",
    "            # Json to data\n",
    "            data = res.json()['data']\n",
    "            \n",
    "            oldest_submission_timestamp = data[-1]['created_utc']\n",
    "            before_timestamp = oldest_submission_timestamp\n",
    "            \n",
    "            df = pd.DataFrame(data)[features]\n",
    "            all_dfs.append(df)\n",
    "            print(len(all_dfs))\n",
    "            time.sleep(6)\n",
    "        else:\n",
    "            print(f'ERROR CODE FOR RES: {res.status_code}')\n",
    "            return\n",
    "            break\n",
    "    \n",
    "    # Concatenate list of dataframes\n",
    "    df_full = pd.concat(all_dfs)\n",
    "    \n",
    "    # Create file path to save out\n",
    "    file_path = f\"./{params['subreddit']}.csv\"\n",
    "    \n",
    "    # Save out\n",
    "    df_full.to_csv(file_path,index = False)\n",
    "    return df_full"
   ]
  },
  {
   "cell_type": "code",
   "execution_count": 114,
   "metadata": {},
   "outputs": [
    {
     "name": "stdout",
     "output_type": "stream",
     "text": [
      "Wed Apr 22 13:15:56 2020\n",
      "Pulling Data, Status Code: 200\n",
      "1\n",
      "Sat Apr 11 06:30:00 2020\n",
      "Pulling Data, Status Code: 200\n",
      "2\n",
      "Mon Mar 30 00:24:48 2020\n",
      "Pulling Data, Status Code: 200\n",
      "3\n",
      "Sun Mar 15 16:04:38 2020\n",
      "Pulling Data, Status Code: 200\n",
      "4\n",
      "Sun Mar  1 18:36:31 2020\n",
      "Pulling Data, Status Code: 200\n",
      "5\n",
      "Mon Feb 17 00:27:26 2020\n",
      "Pulling Data, Status Code: 200\n",
      "6\n",
      "Sat Feb  1 02:16:31 2020\n",
      "Pulling Data, Status Code: 200\n",
      "7\n",
      "Fri Jan 17 20:50:44 2020\n",
      "Pulling Data, Status Code: 200\n",
      "8\n",
      "Fri Jan  3 04:21:51 2020\n",
      "Pulling Data, Status Code: 200\n",
      "9\n",
      "Mon Dec 16 06:06:16 2019\n",
      "Pulling Data, Status Code: 200\n",
      "10\n",
      "Sat Nov 30 15:32:12 2019\n",
      "Pulling Data, Status Code: 200\n",
      "11\n",
      "Wed Nov 13 01:59:29 2019\n",
      "Pulling Data, Status Code: 200\n",
      "12\n",
      "Fri Oct 25 04:53:17 2019\n",
      "Pulling Data, Status Code: 200\n",
      "13\n",
      "Wed Oct  9 19:43:10 2019\n",
      "Pulling Data, Status Code: 200\n",
      "14\n",
      "Sun Sep 22 09:36:34 2019\n",
      "Pulling Data, Status Code: 200\n",
      "15\n",
      "Tue Sep  3 17:48:48 2019\n",
      "Pulling Data, Status Code: 200\n",
      "16\n",
      "Sat Aug 17 01:37:19 2019\n",
      "Pulling Data, Status Code: 200\n",
      "17\n",
      "Thu Aug  1 06:21:33 2019\n",
      "Pulling Data, Status Code: 200\n",
      "18\n",
      "Thu Jul 18 04:42:02 2019\n",
      "Pulling Data, Status Code: 200\n",
      "19\n",
      "Wed Jul  3 01:57:38 2019\n",
      "Pulling Data, Status Code: 200\n",
      "20\n"
     ]
    }
   ],
   "source": [
    "params = {\n",
    "        \"sort\":'desc',\n",
    "        \"subreddit\" : 'machinelearning',\n",
    "        \"size\" : 1000,\n",
    "        \"user_removed\": False, \n",
    "        \"mod_removed\": False,\n",
    "        \"after\": None,\n",
    "        \"before\": before_timestamp,\n",
    "        #\"title:not\": [\"[removed]\",\"[deleted]\"],\n",
    "        #\"author\": \"[removed]\",\n",
    "        #\"selftext:not\": \"[removed]\",\"[deleted]\"\n",
    "        #,\"link_flair_text\"\n",
    "            }\n",
    "df = subreddit_to_dataframe(endpoint,params)"
   ]
  },
  {
   "cell_type": "code",
   "execution_count": 95,
   "metadata": {},
   "outputs": [
    {
     "data": {
      "text/html": [
       "<div>\n",
       "<style scoped>\n",
       "    .dataframe tbody tr th:only-of-type {\n",
       "        vertical-align: middle;\n",
       "    }\n",
       "\n",
       "    .dataframe tbody tr th {\n",
       "        vertical-align: top;\n",
       "    }\n",
       "\n",
       "    .dataframe thead th {\n",
       "        text-align: right;\n",
       "    }\n",
       "</style>\n",
       "<table border=\"1\" class=\"dataframe\">\n",
       "  <thead>\n",
       "    <tr style=\"text-align: right;\">\n",
       "      <th></th>\n",
       "      <th>title</th>\n",
       "      <th>selftext</th>\n",
       "      <th>link_flair_text</th>\n",
       "      <th>link_flair_text</th>\n",
       "      <th>created_utc</th>\n",
       "      <th>num_comments</th>\n",
       "      <th>num_crossposts</th>\n",
       "      <th>score</th>\n",
       "      <th>subreddit</th>\n",
       "    </tr>\n",
       "  </thead>\n",
       "  <tbody>\n",
       "    <tr>\n",
       "      <th>0</th>\n",
       "      <td>Bizprospex- Data mining- Data cleansing - Data...</td>\n",
       "      <td>[removed]</td>\n",
       "      <td>Projects</td>\n",
       "      <td>Projects</td>\n",
       "      <td>1587535725</td>\n",
       "      <td>0</td>\n",
       "      <td>0</td>\n",
       "      <td>1</td>\n",
       "      <td>datascience</td>\n",
       "    </tr>\n",
       "    <tr>\n",
       "      <th>1</th>\n",
       "      <td>[meta] r/datascience what does your Whiteboard...</td>\n",
       "      <td></td>\n",
       "      <td>NaN</td>\n",
       "      <td>NaN</td>\n",
       "      <td>1587535626</td>\n",
       "      <td>0</td>\n",
       "      <td>0</td>\n",
       "      <td>1</td>\n",
       "      <td>datascience</td>\n",
       "    </tr>\n",
       "    <tr>\n",
       "      <th>2</th>\n",
       "      <td>Requesting Resume Critique. I'm a rising senio...</td>\n",
       "      <td></td>\n",
       "      <td>Discussion</td>\n",
       "      <td>Discussion</td>\n",
       "      <td>1587533931</td>\n",
       "      <td>1</td>\n",
       "      <td>0</td>\n",
       "      <td>1</td>\n",
       "      <td>datascience</td>\n",
       "    </tr>\n",
       "    <tr>\n",
       "      <th>3</th>\n",
       "      <td>Boost Your Score in Dell EMC Data Science and ...</td>\n",
       "      <td>[removed]</td>\n",
       "      <td>Discussion</td>\n",
       "      <td>Discussion</td>\n",
       "      <td>1587531786</td>\n",
       "      <td>0</td>\n",
       "      <td>0</td>\n",
       "      <td>1</td>\n",
       "      <td>datascience</td>\n",
       "    </tr>\n",
       "    <tr>\n",
       "      <th>4</th>\n",
       "      <td>Security in Data Science</td>\n",
       "      <td>I’m a CS student who is currently pursuing his...</td>\n",
       "      <td>Education</td>\n",
       "      <td>Education</td>\n",
       "      <td>1587531479</td>\n",
       "      <td>1</td>\n",
       "      <td>0</td>\n",
       "      <td>1</td>\n",
       "      <td>datascience</td>\n",
       "    </tr>\n",
       "  </tbody>\n",
       "</table>\n",
       "</div>"
      ],
      "text/plain": [
       "                                               title  \\\n",
       "0  Bizprospex- Data mining- Data cleansing - Data...   \n",
       "1  [meta] r/datascience what does your Whiteboard...   \n",
       "2  Requesting Resume Critique. I'm a rising senio...   \n",
       "3  Boost Your Score in Dell EMC Data Science and ...   \n",
       "4                           Security in Data Science   \n",
       "\n",
       "                                            selftext link_flair_text  \\\n",
       "0                                          [removed]        Projects   \n",
       "1                                                                NaN   \n",
       "2                                                         Discussion   \n",
       "3                                          [removed]      Discussion   \n",
       "4  I’m a CS student who is currently pursuing his...       Education   \n",
       "\n",
       "  link_flair_text  created_utc  num_comments  num_crossposts  score  \\\n",
       "0        Projects   1587535725             0               0      1   \n",
       "1             NaN   1587535626             0               0      1   \n",
       "2      Discussion   1587533931             1               0      1   \n",
       "3      Discussion   1587531786             0               0      1   \n",
       "4       Education   1587531479             1               0      1   \n",
       "\n",
       "     subreddit  \n",
       "0  datascience  \n",
       "1  datascience  \n",
       "2  datascience  \n",
       "3  datascience  \n",
       "4  datascience  "
      ]
     },
     "execution_count": 95,
     "metadata": {},
     "output_type": "execute_result"
    }
   ],
   "source": [
    "df.head()"
   ]
  },
  {
   "cell_type": "code",
   "execution_count": 96,
   "metadata": {},
   "outputs": [
    {
     "data": {
      "text/html": [
       "<div>\n",
       "<style scoped>\n",
       "    .dataframe tbody tr th:only-of-type {\n",
       "        vertical-align: middle;\n",
       "    }\n",
       "\n",
       "    .dataframe tbody tr th {\n",
       "        vertical-align: top;\n",
       "    }\n",
       "\n",
       "    .dataframe thead th {\n",
       "        text-align: right;\n",
       "    }\n",
       "</style>\n",
       "<table border=\"1\" class=\"dataframe\">\n",
       "  <thead>\n",
       "    <tr style=\"text-align: right;\">\n",
       "      <th></th>\n",
       "      <th>title</th>\n",
       "      <th>selftext</th>\n",
       "      <th>link_flair_text</th>\n",
       "      <th>link_flair_text</th>\n",
       "      <th>created_utc</th>\n",
       "      <th>num_comments</th>\n",
       "      <th>num_crossposts</th>\n",
       "      <th>score</th>\n",
       "      <th>subreddit</th>\n",
       "    </tr>\n",
       "  </thead>\n",
       "  <tbody>\n",
       "    <tr>\n",
       "      <th>0</th>\n",
       "      <td>Bizprospex- Data mining- Data cleansing - Data...</td>\n",
       "      <td>[removed]</td>\n",
       "      <td>Projects</td>\n",
       "      <td>Projects</td>\n",
       "      <td>1587535725</td>\n",
       "      <td>0</td>\n",
       "      <td>0</td>\n",
       "      <td>1</td>\n",
       "      <td>datascience</td>\n",
       "    </tr>\n",
       "    <tr>\n",
       "      <th>3</th>\n",
       "      <td>Boost Your Score in Dell EMC Data Science and ...</td>\n",
       "      <td>[removed]</td>\n",
       "      <td>Discussion</td>\n",
       "      <td>Discussion</td>\n",
       "      <td>1587531786</td>\n",
       "      <td>0</td>\n",
       "      <td>0</td>\n",
       "      <td>1</td>\n",
       "      <td>datascience</td>\n",
       "    </tr>\n",
       "    <tr>\n",
       "      <th>9</th>\n",
       "      <td>New to all of this, I want to learn</td>\n",
       "      <td>[removed]</td>\n",
       "      <td>Discussion</td>\n",
       "      <td>Discussion</td>\n",
       "      <td>1587523883</td>\n",
       "      <td>0</td>\n",
       "      <td>0</td>\n",
       "      <td>1</td>\n",
       "      <td>datascience</td>\n",
       "    </tr>\n",
       "    <tr>\n",
       "      <th>12</th>\n",
       "      <td>Topic modeling ? What else ?</td>\n",
       "      <td>[removed]</td>\n",
       "      <td>Projects</td>\n",
       "      <td>Projects</td>\n",
       "      <td>1587516804</td>\n",
       "      <td>2</td>\n",
       "      <td>0</td>\n",
       "      <td>1</td>\n",
       "      <td>datascience</td>\n",
       "    </tr>\n",
       "    <tr>\n",
       "      <th>14</th>\n",
       "      <td>A silly question: where is the best place to l...</td>\n",
       "      <td>[removed]</td>\n",
       "      <td>Discussion</td>\n",
       "      <td>Discussion</td>\n",
       "      <td>1587512560</td>\n",
       "      <td>0</td>\n",
       "      <td>0</td>\n",
       "      <td>1</td>\n",
       "      <td>datascience</td>\n",
       "    </tr>\n",
       "    <tr>\n",
       "      <th>...</th>\n",
       "      <td>...</td>\n",
       "      <td>...</td>\n",
       "      <td>...</td>\n",
       "      <td>...</td>\n",
       "      <td>...</td>\n",
       "      <td>...</td>\n",
       "      <td>...</td>\n",
       "      <td>...</td>\n",
       "      <td>...</td>\n",
       "    </tr>\n",
       "    <tr>\n",
       "      <th>937</th>\n",
       "      <td>Great Remove Resource of Advanced Pandas Funct...</td>\n",
       "      <td>[removed]</td>\n",
       "      <td>Projects</td>\n",
       "      <td>Projects</td>\n",
       "      <td>1583996730</td>\n",
       "      <td>0</td>\n",
       "      <td>0</td>\n",
       "      <td>1</td>\n",
       "      <td>datascience</td>\n",
       "    </tr>\n",
       "    <tr>\n",
       "      <th>941</th>\n",
       "      <td>[Academic Survey] Decision making &amp;amp; Data A...</td>\n",
       "      <td>[removed]</td>\n",
       "      <td>Meta</td>\n",
       "      <td>Meta</td>\n",
       "      <td>1583990657</td>\n",
       "      <td>0</td>\n",
       "      <td>0</td>\n",
       "      <td>1</td>\n",
       "      <td>datascience</td>\n",
       "    </tr>\n",
       "    <tr>\n",
       "      <th>947</th>\n",
       "      <td>Lambda School Data Science Program: Problems a...</td>\n",
       "      <td>[removed]</td>\n",
       "      <td>Education</td>\n",
       "      <td>Education</td>\n",
       "      <td>1583973847</td>\n",
       "      <td>0</td>\n",
       "      <td>0</td>\n",
       "      <td>1</td>\n",
       "      <td>datascience</td>\n",
       "    </tr>\n",
       "    <tr>\n",
       "      <th>956</th>\n",
       "      <td>Question about a career path as a data scienti...</td>\n",
       "      <td>[removed]</td>\n",
       "      <td>Career</td>\n",
       "      <td>Career</td>\n",
       "      <td>1583963926</td>\n",
       "      <td>0</td>\n",
       "      <td>0</td>\n",
       "      <td>1</td>\n",
       "      <td>datascience</td>\n",
       "    </tr>\n",
       "    <tr>\n",
       "      <th>960</th>\n",
       "      <td>R web scraping issues</td>\n",
       "      <td>[removed]</td>\n",
       "      <td>Projects</td>\n",
       "      <td>Projects</td>\n",
       "      <td>1583950497</td>\n",
       "      <td>0</td>\n",
       "      <td>0</td>\n",
       "      <td>1</td>\n",
       "      <td>datascience</td>\n",
       "    </tr>\n",
       "  </tbody>\n",
       "</table>\n",
       "<p>582 rows × 9 columns</p>\n",
       "</div>"
      ],
      "text/plain": [
       "                                                 title   selftext  \\\n",
       "0    Bizprospex- Data mining- Data cleansing - Data...  [removed]   \n",
       "3    Boost Your Score in Dell EMC Data Science and ...  [removed]   \n",
       "9                  New to all of this, I want to learn  [removed]   \n",
       "12                        Topic modeling ? What else ?  [removed]   \n",
       "14   A silly question: where is the best place to l...  [removed]   \n",
       "..                                                 ...        ...   \n",
       "937  Great Remove Resource of Advanced Pandas Funct...  [removed]   \n",
       "941  [Academic Survey] Decision making &amp; Data A...  [removed]   \n",
       "947  Lambda School Data Science Program: Problems a...  [removed]   \n",
       "956  Question about a career path as a data scienti...  [removed]   \n",
       "960                              R web scraping issues  [removed]   \n",
       "\n",
       "    link_flair_text link_flair_text  created_utc  num_comments  \\\n",
       "0          Projects        Projects   1587535725             0   \n",
       "3        Discussion      Discussion   1587531786             0   \n",
       "9        Discussion      Discussion   1587523883             0   \n",
       "12         Projects        Projects   1587516804             2   \n",
       "14       Discussion      Discussion   1587512560             0   \n",
       "..              ...             ...          ...           ...   \n",
       "937        Projects        Projects   1583996730             0   \n",
       "941            Meta            Meta   1583990657             0   \n",
       "947       Education       Education   1583973847             0   \n",
       "956          Career          Career   1583963926             0   \n",
       "960        Projects        Projects   1583950497             0   \n",
       "\n",
       "     num_crossposts  score    subreddit  \n",
       "0                 0      1  datascience  \n",
       "3                 0      1  datascience  \n",
       "9                 0      1  datascience  \n",
       "12                0      1  datascience  \n",
       "14                0      1  datascience  \n",
       "..              ...    ...          ...  \n",
       "937               0      1  datascience  \n",
       "941               0      1  datascience  \n",
       "947               0      1  datascience  \n",
       "956               0      1  datascience  \n",
       "960               0      1  datascience  \n",
       "\n",
       "[582 rows x 9 columns]"
      ]
     },
     "execution_count": 96,
     "metadata": {},
     "output_type": "execute_result"
    }
   ],
   "source": [
    "df[df['selftext']=='[removed]']"
   ]
  },
  {
   "cell_type": "code",
   "execution_count": 85,
   "metadata": {},
   "outputs": [
    {
     "data": {
      "text/plain": [
       "'Tue Apr 21 16:42:40 2020'"
      ]
     },
     "execution_count": 85,
     "metadata": {},
     "output_type": "execute_result"
    }
   ],
   "source": [
    "time.ctime(1587512560)"
   ]
  },
  {
   "cell_type": "code",
   "execution_count": 43,
   "metadata": {},
   "outputs": [],
   "source": [
    "# Lets merge our titles and selftexts\n",
    "df['merged'] = df['title'] + df['selftext']"
   ]
  },
  {
   "cell_type": "code",
   "execution_count": 58,
   "metadata": {},
   "outputs": [
    {
     "data": {
      "text/plain": [
       "['all_awardings',\n",
       " 'allow_live_comments',\n",
       " 'author',\n",
       " 'author_flair_css_class',\n",
       " 'author_flair_richtext',\n",
       " 'author_flair_text',\n",
       " 'author_flair_type',\n",
       " 'author_fullname',\n",
       " 'author_patreon_flair',\n",
       " 'author_premium',\n",
       " 'awarders',\n",
       " 'can_mod_post',\n",
       " 'contest_mode',\n",
       " 'created_utc',\n",
       " 'domain',\n",
       " 'full_link',\n",
       " 'gildings',\n",
       " 'id',\n",
       " 'is_crosspostable',\n",
       " 'is_meta',\n",
       " 'is_original_content',\n",
       " 'is_reddit_media_domain',\n",
       " 'is_robot_indexable',\n",
       " 'is_self',\n",
       " 'is_video',\n",
       " 'link_flair_background_color',\n",
       " 'link_flair_css_class',\n",
       " 'link_flair_richtext',\n",
       " 'link_flair_template_id',\n",
       " 'link_flair_text',\n",
       " 'link_flair_text_color',\n",
       " 'link_flair_type',\n",
       " 'locked',\n",
       " 'media_only',\n",
       " 'no_follow',\n",
       " 'num_comments',\n",
       " 'num_crossposts',\n",
       " 'over_18',\n",
       " 'parent_whitelist_status',\n",
       " 'permalink',\n",
       " 'pinned',\n",
       " 'post_hint',\n",
       " 'preview',\n",
       " 'pwls',\n",
       " 'retrieved_on',\n",
       " 'score',\n",
       " 'selftext',\n",
       " 'send_replies',\n",
       " 'spoiler',\n",
       " 'stickied',\n",
       " 'subreddit',\n",
       " 'subreddit_id',\n",
       " 'subreddit_subscribers',\n",
       " 'subreddit_type',\n",
       " 'thumbnail',\n",
       " 'title',\n",
       " 'total_awards_received',\n",
       " 'treatment_tags',\n",
       " 'url',\n",
       " 'whitelist_status',\n",
       " 'wls',\n",
       " 'media',\n",
       " 'media_embed',\n",
       " 'removed_by_category',\n",
       " 'secure_media',\n",
       " 'secure_media_embed',\n",
       " 'thumbnail_height',\n",
       " 'thumbnail_width',\n",
       " 'author_flair_background_color',\n",
       " 'author_flair_text_color',\n",
       " 'banned_by',\n",
       " 'poll_data',\n",
       " 'media_metadata',\n",
       " 'edited',\n",
       " 'crosspost_parent',\n",
       " 'crosspost_parent_list',\n",
       " 'distinguished',\n",
       " 'suggested_sort',\n",
       " 'author_cakeday']"
      ]
     },
     "execution_count": 58,
     "metadata": {},
     "output_type": "execute_result"
    }
   ],
   "source": [
    "list(df.columns)"
   ]
  },
  {
   "cell_type": "markdown",
   "metadata": {},
   "source": [
    "## EDA"
   ]
  },
  {
   "cell_type": "code",
   "execution_count": 49,
   "metadata": {},
   "outputs": [
    {
     "data": {
      "text/plain": [
       "title        0\n",
       "selftext    31\n",
       "dtype: int64"
      ]
     },
     "execution_count": 49,
     "metadata": {},
     "output_type": "execute_result"
    }
   ],
   "source": [
    "list_values = df[['title', 'selftext']].isnull().sum()\n",
    "list_values"
   ]
  },
  {
   "cell_type": "code",
   "execution_count": 52,
   "metadata": {},
   "outputs": [],
   "source": [
    "#list(df.score)"
   ]
  },
  {
   "cell_type": "code",
   "execution_count": 45,
   "metadata": {},
   "outputs": [
    {
     "data": {
      "text/html": [
       "<div>\n",
       "<style scoped>\n",
       "    .dataframe tbody tr th:only-of-type {\n",
       "        vertical-align: middle;\n",
       "    }\n",
       "\n",
       "    .dataframe tbody tr th {\n",
       "        vertical-align: top;\n",
       "    }\n",
       "\n",
       "    .dataframe thead th {\n",
       "        text-align: right;\n",
       "    }\n",
       "</style>\n",
       "<table border=\"1\" class=\"dataframe\">\n",
       "  <thead>\n",
       "    <tr style=\"text-align: right;\">\n",
       "      <th></th>\n",
       "      <th>0</th>\n",
       "    </tr>\n",
       "  </thead>\n",
       "  <tbody>\n",
       "    <tr>\n",
       "      <th>all_awardings</th>\n",
       "      <td>0</td>\n",
       "    </tr>\n",
       "    <tr>\n",
       "      <th>allow_live_comments</th>\n",
       "      <td>0</td>\n",
       "    </tr>\n",
       "    <tr>\n",
       "      <th>author</th>\n",
       "      <td>0</td>\n",
       "    </tr>\n",
       "    <tr>\n",
       "      <th>author_flair_css_class</th>\n",
       "      <td>997</td>\n",
       "    </tr>\n",
       "    <tr>\n",
       "      <th>author_flair_richtext</th>\n",
       "      <td>51</td>\n",
       "    </tr>\n",
       "    <tr>\n",
       "      <th>...</th>\n",
       "      <td>...</td>\n",
       "    </tr>\n",
       "    <tr>\n",
       "      <th>author_cakeday</th>\n",
       "      <td>995</td>\n",
       "    </tr>\n",
       "    <tr>\n",
       "      <th>distinguished</th>\n",
       "      <td>997</td>\n",
       "    </tr>\n",
       "    <tr>\n",
       "      <th>gilded</th>\n",
       "      <td>999</td>\n",
       "    </tr>\n",
       "    <tr>\n",
       "      <th>suggested_sort</th>\n",
       "      <td>998</td>\n",
       "    </tr>\n",
       "    <tr>\n",
       "      <th>merged</th>\n",
       "      <td>31</td>\n",
       "    </tr>\n",
       "  </tbody>\n",
       "</table>\n",
       "<p>81 rows × 1 columns</p>\n",
       "</div>"
      ],
      "text/plain": [
       "                          0\n",
       "all_awardings             0\n",
       "allow_live_comments       0\n",
       "author                    0\n",
       "author_flair_css_class  997\n",
       "author_flair_richtext    51\n",
       "...                     ...\n",
       "author_cakeday          995\n",
       "distinguished           997\n",
       "gilded                  999\n",
       "suggested_sort          998\n",
       "merged                   31\n",
       "\n",
       "[81 rows x 1 columns]"
      ]
     },
     "execution_count": 45,
     "metadata": {},
     "output_type": "execute_result"
    }
   ],
   "source": [
    "pd.DataFrame(list_values,index = list_values.index)"
   ]
  },
  {
   "cell_type": "code",
   "execution_count": 46,
   "metadata": {},
   "outputs": [
    {
     "ename": "TypeError",
     "evalue": "object of type 'float' has no len()",
     "output_type": "error",
     "traceback": [
      "\u001b[0;31m---------------------------------------------------------------------------\u001b[0m",
      "\u001b[0;31mTypeError\u001b[0m                                 Traceback (most recent call last)",
      "\u001b[0;32m<ipython-input-46-0fe5d4b89077>\u001b[0m in \u001b[0;36m<module>\u001b[0;34m\u001b[0m\n\u001b[1;32m      1\u001b[0m \u001b[0;31m# Create a list of word counts for each post (title + selftext)\u001b[0m\u001b[0;34m\u001b[0m\u001b[0;34m\u001b[0m\u001b[0;34m\u001b[0m\u001b[0m\n\u001b[0;32m----> 2\u001b[0;31m \u001b[0mlist_character_counts\u001b[0m \u001b[0;34m=\u001b[0m \u001b[0;34m[\u001b[0m\u001b[0mlen\u001b[0m\u001b[0;34m(\u001b[0m\u001b[0melement\u001b[0m\u001b[0;34m)\u001b[0m \u001b[0;32mfor\u001b[0m \u001b[0melement\u001b[0m \u001b[0;32min\u001b[0m \u001b[0mdf\u001b[0m\u001b[0;34m[\u001b[0m\u001b[0;34m'merged'\u001b[0m\u001b[0;34m]\u001b[0m\u001b[0;34m]\u001b[0m\u001b[0;34m\u001b[0m\u001b[0;34m\u001b[0m\u001b[0m\n\u001b[0m\u001b[1;32m      3\u001b[0m \u001b[0;34m\u001b[0m\u001b[0m\n\u001b[1;32m      4\u001b[0m \u001b[0;31m# Create a list of character counts for each post\u001b[0m\u001b[0;34m\u001b[0m\u001b[0;34m\u001b[0m\u001b[0;34m\u001b[0m\u001b[0m\n\u001b[1;32m      5\u001b[0m \u001b[0mlist_word_counts\u001b[0m \u001b[0;34m=\u001b[0m \u001b[0;34m[\u001b[0m\u001b[0melement\u001b[0m\u001b[0;34m.\u001b[0m\u001b[0mcount\u001b[0m\u001b[0;34m(\u001b[0m\u001b[0;34m' '\u001b[0m\u001b[0;34m)\u001b[0m \u001b[0;32mfor\u001b[0m \u001b[0melement\u001b[0m \u001b[0;32min\u001b[0m \u001b[0mdf\u001b[0m\u001b[0;34m[\u001b[0m\u001b[0;34m'merged'\u001b[0m\u001b[0;34m]\u001b[0m\u001b[0;34m]\u001b[0m\u001b[0;34m\u001b[0m\u001b[0;34m\u001b[0m\u001b[0m\n",
      "\u001b[0;32m<ipython-input-46-0fe5d4b89077>\u001b[0m in \u001b[0;36m<listcomp>\u001b[0;34m(.0)\u001b[0m\n\u001b[1;32m      1\u001b[0m \u001b[0;31m# Create a list of word counts for each post (title + selftext)\u001b[0m\u001b[0;34m\u001b[0m\u001b[0;34m\u001b[0m\u001b[0;34m\u001b[0m\u001b[0m\n\u001b[0;32m----> 2\u001b[0;31m \u001b[0mlist_character_counts\u001b[0m \u001b[0;34m=\u001b[0m \u001b[0;34m[\u001b[0m\u001b[0mlen\u001b[0m\u001b[0;34m(\u001b[0m\u001b[0melement\u001b[0m\u001b[0;34m)\u001b[0m \u001b[0;32mfor\u001b[0m \u001b[0melement\u001b[0m \u001b[0;32min\u001b[0m \u001b[0mdf\u001b[0m\u001b[0;34m[\u001b[0m\u001b[0;34m'merged'\u001b[0m\u001b[0;34m]\u001b[0m\u001b[0;34m]\u001b[0m\u001b[0;34m\u001b[0m\u001b[0;34m\u001b[0m\u001b[0m\n\u001b[0m\u001b[1;32m      3\u001b[0m \u001b[0;34m\u001b[0m\u001b[0m\n\u001b[1;32m      4\u001b[0m \u001b[0;31m# Create a list of character counts for each post\u001b[0m\u001b[0;34m\u001b[0m\u001b[0;34m\u001b[0m\u001b[0;34m\u001b[0m\u001b[0m\n\u001b[1;32m      5\u001b[0m \u001b[0mlist_word_counts\u001b[0m \u001b[0;34m=\u001b[0m \u001b[0;34m[\u001b[0m\u001b[0melement\u001b[0m\u001b[0;34m.\u001b[0m\u001b[0mcount\u001b[0m\u001b[0;34m(\u001b[0m\u001b[0;34m' '\u001b[0m\u001b[0;34m)\u001b[0m \u001b[0;32mfor\u001b[0m \u001b[0melement\u001b[0m \u001b[0;32min\u001b[0m \u001b[0mdf\u001b[0m\u001b[0;34m[\u001b[0m\u001b[0;34m'merged'\u001b[0m\u001b[0;34m]\u001b[0m\u001b[0;34m]\u001b[0m\u001b[0;34m\u001b[0m\u001b[0;34m\u001b[0m\u001b[0m\n",
      "\u001b[0;31mTypeError\u001b[0m: object of type 'float' has no len()"
     ]
    }
   ],
   "source": [
    "# Create a list of word counts for each post (title + selftext)\n",
    "list_character_counts = [len(element) for element in df['merged']]\n",
    "\n",
    "# Create a list of character counts for each post\n",
    "list_word_counts = [element.count(' ') for element in df['merged']]"
   ]
  },
  {
   "cell_type": "code",
   "execution_count": 47,
   "metadata": {},
   "outputs": [
    {
     "data": {
      "text/plain": [
       "253.38"
      ]
     },
     "execution_count": 47,
     "metadata": {},
     "output_type": "execute_result"
    }
   ],
   "source": [
    "np.mean(list_character_counts)"
   ]
  },
  {
   "cell_type": "code",
   "execution_count": 23,
   "metadata": {},
   "outputs": [
    {
     "data": {
      "text/plain": [
       "40.06"
      ]
     },
     "execution_count": 23,
     "metadata": {},
     "output_type": "execute_result"
    }
   ],
   "source": [
    "np.mean(list_word_counts)"
   ]
  },
  {
   "cell_type": "code",
   "execution_count": 41,
   "metadata": {},
   "outputs": [
    {
     "data": {
      "text/plain": [
       "(50, 63)"
      ]
     },
     "execution_count": 41,
     "metadata": {},
     "output_type": "execute_result"
    }
   ],
   "source": [
    "df.shape"
   ]
  },
  {
   "cell_type": "markdown",
   "metadata": {},
   "source": [
    "## Count Vectorizer"
   ]
  },
  {
   "cell_type": "code",
   "execution_count": 13,
   "metadata": {},
   "outputs": [],
   "source": [
    "from sklearn.feature_extraction.text import CountVectorizer, TfidfVectorizer"
   ]
  },
  {
   "cell_type": "code",
   "execution_count": 29,
   "metadata": {},
   "outputs": [],
   "source": [
    "# Instantiate and create parameters for our Count Vectorizer\n",
    "cvec = CountVectorizer(stop_words = 'english', max_features = 250)\n",
    "cvec.fit(df['merged']);\n",
    "\n",
    "# Transform the merged column and save to variable\n",
    "vectorized_data = cvec.transform(df['merged'])"
   ]
  },
  {
   "cell_type": "code",
   "execution_count": 30,
   "metadata": {},
   "outputs": [],
   "source": [
    "selftext = pd.DataFrame(vectorized_data.toarray(), columns = cvec.get_feature_names())"
   ]
  },
  {
   "cell_type": "code",
   "execution_count": 39,
   "metadata": {},
   "outputs": [
    {
     "data": {
      "text/plain": [
       "10              5\n",
       "8rawdd5zs4w     2\n",
       "achieve         7\n",
       "achievements    2\n",
       "acoustic        2\n",
       "               ..\n",
       "year            3\n",
       "years           3\n",
       "yoga            4\n",
       "youtu           6\n",
       "youtube         2\n",
       "Length: 250, dtype: int64"
      ]
     },
     "execution_count": 39,
     "metadata": {},
     "output_type": "execute_result"
    }
   ],
   "source": [
    "selftext.sum()"
   ]
  },
  {
   "cell_type": "code",
   "execution_count": null,
   "metadata": {},
   "outputs": [],
   "source": []
  },
  {
   "cell_type": "code",
   "execution_count": null,
   "metadata": {},
   "outputs": [],
   "source": []
  }
 ],
 "metadata": {
  "kernelspec": {
   "display_name": "Python 3",
   "language": "python",
   "name": "python3"
  },
  "language_info": {
   "codemirror_mode": {
    "name": "ipython",
    "version": 3
   },
   "file_extension": ".py",
   "mimetype": "text/x-python",
   "name": "python",
   "nbconvert_exporter": "python",
   "pygments_lexer": "ipython3",
   "version": "3.7.6"
  }
 },
 "nbformat": 4,
 "nbformat_minor": 4
}
